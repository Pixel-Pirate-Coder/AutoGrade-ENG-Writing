{
 "cells": [
  {
   "cell_type": "markdown",
   "source": [
    "## Работа с OpenAI API"
   ],
   "metadata": {
    "collapsed": false
   },
   "id": "b271ec660c03ceaf"
  },
  {
   "cell_type": "code",
   "outputs": [],
   "source": [
    "\"\"\"Импорт библиотек\"\"\"\n",
    "\n",
    "from openai import OpenAI\n",
    "import openpyxl\n",
    "import time\n",
    "import re"
   ],
   "metadata": {
    "collapsed": false,
    "ExecuteTime": {
     "end_time": "2024-01-08T13:10:18.204908600Z",
     "start_time": "2024-01-08T13:10:18.186730100Z"
    }
   },
   "id": "330132b2445c49ad",
   "execution_count": 96
  },
  {
   "cell_type": "code",
   "outputs": [],
   "source": [
    "\"\"\"Устанавливаем api-ключ\"\"\"\n",
    "\n",
    "api_key = 'sk-5k...IoSYp' # :)"
   ],
   "metadata": {
    "collapsed": false
   },
   "id": "695c675efec23f9a"
  },
  {
   "cell_type": "markdown",
   "source": [
    "### Assistant API"
   ],
   "metadata": {
    "collapsed": false
   },
   "id": "eb5394d75c52bab5"
  },
  {
   "cell_type": "code",
   "outputs": [],
   "source": [
    "\"\"\"Задаем параметры для вызова api\"\"\"\n",
    "\n",
    "name = \"Email changer\" #имя ассистента\n",
    "instructions = \"You're an English teacher. You know perfectly how to write letters (reply to a friend) in English. You perform different actions on the letters you are asked to write.\" #указание, которому придерживается ассистент\n",
    "model = \"gpt-3.5-turbo\" # используемая версия gpt"
   ],
   "metadata": {
    "collapsed": false,
    "ExecuteTime": {
     "end_time": "2024-01-09T16:39:17.025308Z",
     "start_time": "2024-01-09T16:39:17.016848100Z"
    }
   },
   "id": "56e3539daf8de6d",
   "execution_count": 2
  },
  {
   "cell_type": "code",
   "outputs": [],
   "source": [
    "\"\"\"Создаем клиент с ключом api\"\"\"\n",
    "\n",
    "client = OpenAI(api_key=api_key)"
   ],
   "metadata": {
    "collapsed": false
   },
   "id": "874d01a63aba9a78"
  },
  {
   "cell_type": "code",
   "execution_count": 99,
   "outputs": [],
   "source": [
    "\"\"\"Создаем ассистента с потоком, который сохраняет историю сообщений\"\"\"\n",
    "\n",
    "assistant = client.beta.assistants.create(\n",
    "    name=name,\n",
    "    instructions=instructions,\n",
    "    model=model\n",
    ")\n",
    "\n",
    "thread = client.beta.threads.create()"
   ],
   "metadata": {
    "collapsed": false,
    "ExecuteTime": {
     "end_time": "2024-01-08T13:10:20.556805Z",
     "start_time": "2024-01-08T13:10:19.644419900Z"
    }
   },
   "id": "initial_id"
  },
  {
   "cell_type": "markdown",
   "source": [
    "##### Генерация заданий (вопросов) \n",
    "\n",
    "Задаем Prompt и отправляем в assistant как сообщение"
   ],
   "metadata": {
    "collapsed": false
   },
   "id": "a419698c995b1698"
  },
  {
   "cell_type": "code",
   "outputs": [],
   "source": [
    "content = (\"Here are few examples, where question on the left is unmodified question and question on the right is modified question: Have you got grandparents? -> Do you like spending time with your grandparents? What personal qualities do you need to realise your wishes? -> What personal qualities do people need to realise wishes? If you were me, how would you handle the situation? -> How do people usually overcome these difficulties? Replace questions with modified ones. Make sure the modified questions deviate from the main topic and context, but not too much. Return the modified questions only.\")"
   ],
   "metadata": {
    "collapsed": false
   },
   "id": "c7bd142efbe220ff"
  },
  {
   "cell_type": "code",
   "outputs": [],
   "source": [
    "# Создаем сообщение-запрос\n",
    "message = client.beta.threads.messages.create(\n",
    "    thread_id=thread.id,\n",
    "    role=\"user\",\n",
    "    content=content\n",
    "\n",
    ")\n",
    "\n",
    "# Добавление сообщения в поток\n",
    "run = client.beta.threads.runs.create(\n",
    "    thread_id=thread.id,\n",
    "    assistant_id=assistant.id,\n",
    ")  \n",
    "\n",
    "# Проверка статуса по выполнению запроса\n",
    "completed = False\n",
    "    \n",
    "while not completed:\n",
    "        \n",
    "    # Получаем ответ\n",
    "    run = client.beta.threads.runs.retrieve(\n",
    "        thread_id=thread.id,\n",
    "        run_id=run.id\n",
    "    )\n",
    "        \n",
    "    # Если обработка ответа закончена (получено сообщение от ассистента), то выходим из цикла\n",
    "    if run.status == 'completed':\n",
    "        completed = True\n",
    "        time.sleep(2)\n",
    "\n",
    "messages = client.beta.threads.messages.list(\n",
    "    thread_id=thread.id\n",
    ")"
   ],
   "metadata": {
    "collapsed": false
   },
   "id": "888932a7cb2e1fc3"
  },
  {
   "cell_type": "markdown",
   "source": [
    "На вход подается только ячейка с Question:"
   ],
   "metadata": {
    "collapsed": false
   },
   "id": "6911f83c53ef3040"
  },
  {
   "cell_type": "code",
   "execution_count": 102,
   "outputs": [],
   "source": [
    "# Открываем excel-таблицу с данными и загружаем нужный лист\n",
    "wb = openpyxl.load_workbook('TEST.xlsx') \n",
    "sheet = wb.active\n",
    "\n",
    "# Устанавливаем стартовые строчку и столбец, по которым итерируемся в цикле\n",
    "start_row = 2\n",
    "column_to_read = 2"
   ],
   "metadata": {
    "collapsed": false,
    "ExecuteTime": {
     "end_time": "2024-01-08T13:11:23.222459700Z",
     "start_time": "2024-01-08T13:11:23.186876200Z"
    }
   },
   "id": "d5469565e104afd"
  },
  {
   "cell_type": "code",
   "execution_count": null,
   "outputs": [],
   "source": [
    "# Выполняем, пока ячейки непустые\n",
    "while sheet.cell(row=start_row, column=column_to_read).value is not None:\n",
    "    # Считываем значение ячейки (вопросы)\n",
    "    current_value = sheet.cell(row=start_row, column=column_to_read).value\n",
    "    \n",
    "    # Создаем сообщение-запрос\n",
    "    message = client.beta.threads.messages.create(\n",
    "        thread_id=thread.id,\n",
    "        role=\"user\",\n",
    "        content=current_value\n",
    "    )\n",
    "    \n",
    "    # Добавление сообщения в поток\n",
    "    run = client.beta.threads.runs.create(\n",
    "        thread_id=thread.id,\n",
    "        assistant_id=assistant.id,\n",
    "    )  \n",
    "    \n",
    "    # Проверка статуса по выполнению запроса\n",
    "    completed = False\n",
    "    \n",
    "    while not completed:\n",
    "        \n",
    "        # Получаем ответ\n",
    "        run = client.beta.threads.runs.retrieve(\n",
    "            thread_id=thread.id,\n",
    "            run_id=run.id\n",
    "        )\n",
    "        \n",
    "        # Если обработка ответа закончена (получено сообщение от ассистента), то выходим из цикла\n",
    "        if run.status == 'completed':\n",
    "            \n",
    "            completed = True\n",
    "            \n",
    "        time.sleep(2)\n",
    "    \n",
    "    # Добавляем сообщение от ассистента в список\n",
    "    messages = client.beta.threads.messages.list(\n",
    "        thread_id=thread.id\n",
    "    )\n",
    "    \n",
    "    # Добавляем новые вопросы в соседнюю ячейку справа от исходного письма \n",
    "    sheet.cell(row=start_row, column=column_to_read + 2, value=messages.data[0].content[0].text.value)\n",
    "\n",
    "    # Переходим к следующей строке\n",
    "    start_row += 1"
   ],
   "metadata": {
    "collapsed": false
   },
   "id": "994c1485012f843f"
  },
  {
   "cell_type": "code",
   "execution_count": 104,
   "outputs": [],
   "source": [
    "# Сохраняем изменения\n",
    "wb.save('TEST.xlsx')"
   ],
   "metadata": {
    "collapsed": false,
    "ExecuteTime": {
     "end_time": "2024-01-08T13:13:12.537770900Z",
     "start_time": "2024-01-08T13:13:12.484165100Z"
    }
   },
   "id": "29fc4e691ea522d"
  },
  {
   "cell_type": "code",
   "outputs": [
    {
     "name": "stdout",
     "output_type": "stream",
     "text": [
      "Run(id='run_bJ2mF41G82IjK0HdWaFQ3HE4', assistant_id='asst_iBvSJVj8TFJww1Z7lhZsVnhK', cancelled_at=None, completed_at=None, created_at=1704468584, expires_at=1704469184, failed_at=None, file_ids=[], instructions='Rewrite the letter so that it is synonymous', last_error=None, metadata={}, model='gpt-3.5-turbo', object='thread.run', required_action=None, started_at=None, status='queued', thread_id='thread_2bnarRm1vumVJOxMa5lZn2Ff', tools=[])\n"
     ]
    }
   ],
   "source": [
    "# Информация по созданному ассистенту (важны id, если используем retrieve)\n",
    "print(run)"
   ],
   "metadata": {
    "collapsed": false,
    "ExecuteTime": {
     "end_time": "2024-01-05T15:30:29.583799800Z",
     "start_time": "2024-01-05T15:30:29.581293300Z"
    }
   },
   "id": "192607f229f3ced2",
   "execution_count": 16
  },
  {
   "cell_type": "markdown",
   "source": [
    "##### Генерация писем\n",
    "\n",
    "Задаем Prompt и отправляем в assistant как сообщение"
   ],
   "metadata": {
    "collapsed": false
   },
   "id": "95cbd62cb7fffd48"
  },
  {
   "cell_type": "code",
   "outputs": [],
   "source": [
    "content = (\"###Instruction### I give you an assignment in the form of questions to answer in a letter and the letter itself, which is separated by two blank lines. You must replace the answers on the questions (the sentences that come after the introduction in the letter) in the letter so they are more general and not specifically about you. Make sure the modified answers deviate from the main topic of answered questions, but not too much. Refer to the example below, with the part to be replaced in square brackets. Return only the changed letter to me. Make sure that your answer shouldn't have more than 145 words! And don't forget that I'll pay you a tip after your answer! ###Example### ---Example--- \"\n",
    "           \"... My mom says I have too many dreams. What kind of dreams do you have? What personal qualities do you need to realise your wishes? Do you tell anyone about your dreams, why yes or no? Last weekend my elder brother went hiking...\"\n",
    "           \"\"\n",
    "           \"\"\n",
    "           \"Dear Nora, \"\n",
    "           \"Thank you for your message! \"\n",
    "           \"It was great hearing from you. Sorry I haven't replied earlier - I was busy with exams preparation.) \"\n",
    "           \"[I think having many dreams is a good thing: this way you have a range of activities to choose from and you'll never be bored. I also have quite a few dreams. My major dream is to learn how to fly an airplane. I am now studying to pass the exams to enter the Aviation academy. I have understood that I should be brave enough to do it. And of course, I told my elder brother Sam about my wish, as he always supports me.]\"\n",
    "           \"It's great to hear that your brother also enjoys outdoor activities. Does your brother really like hiking? How often does he go hiking? Has he got any other hobbies? \"\n",
    "           \"Looking forward to hearing from you. \"\n",
    "           \"Best wishes,\"\n",
    "           \"Kate\"\n",
    "           \"---Modified letter---\"\n",
    "           \"Dear Nora, \"\n",
    "           \"Thank you for your message! It was great hearing from you. Sorry I haven’t replied earlier — I was busy with exams preparation. \"\n",
    "           \"[In your e-mail you aksed me about dreams. To tell the truth, i have many different desires, and some of them can be temporary cravings like going to the theatre to see my favourite play, wheras others are so secluded and deep that i prefer not to share them with anyone because they're too personal. In addition, i believe that only mature, diligent and industrious person can understand his genuine dreams and work hard to fulfil them.]\"\n",
    "           \"It’s great to hear that your brother also enjoys outdoor activities. Does your brother really like hiking? How often does he go hiking? Has he got any other hobbies? \"\n",
    "           \"Looking forward to hearing from you.\"\n",
    "           \"Best wishes,\"\n",
    "           \"Kate\")"
   ],
   "metadata": {
    "collapsed": false
   },
   "id": "5a109d1da5173a13"
  },
  {
   "cell_type": "code",
   "outputs": [],
   "source": [
    "# Создаем сообщение-запрос\n",
    "message = client.beta.threads.messages.create(\n",
    "    thread_id=thread.id,\n",
    "    role=\"user\",\n",
    "    content=content\n",
    "\n",
    ")\n",
    "\n",
    "# Добавление сообщения в поток\n",
    "run = client.beta.threads.runs.create(\n",
    "    thread_id=thread.id,\n",
    "    assistant_id=assistant.id,\n",
    ")  \n",
    "\n",
    "# Проверка статуса по выполнению запроса\n",
    "completed = False\n",
    "    \n",
    "while not completed:\n",
    "        \n",
    "    # Получаем ответ\n",
    "    run = client.beta.threads.runs.retrieve(\n",
    "        thread_id=thread.id,\n",
    "        run_id=run.id\n",
    "    )\n",
    "        \n",
    "    # Если обработка ответа закончена (получено сообщение от ассистента), то выходим из цикла\n",
    "    if run.status == 'completed':\n",
    "        completed = True\n",
    "        time.sleep(2)\n",
    "\n",
    "# Добавляем сообщение от ассистента в список\n",
    "messages = client.beta.threads.messages.list(\n",
    "    thread_id=thread.id\n",
    ")"
   ],
   "metadata": {
    "collapsed": false
   },
   "id": "1649b06948a6fc5d"
  },
  {
   "cell_type": "markdown",
   "source": [
    "На вход подаются ячейки Text и Question."
   ],
   "metadata": {
    "collapsed": false
   },
   "id": "9cca595532454160"
  },
  {
   "cell_type": "code",
   "outputs": [],
   "source": [
    "# Открываем excel-таблицу с данными и загружаем нужный лист\n",
    "wb = openpyxl.load_workbook('TEST.xlsx')\n",
    "sheet = wb.active\n",
    "\n",
    "# Устанавливаем стартовые строчку и столбцы для писем и вопросов\n",
    "start_row = 2\n",
    "column_to_read_text = 3\n",
    "column_to_read_question = 4"
   ],
   "metadata": {
    "collapsed": false,
    "ExecuteTime": {
     "end_time": "2024-01-08T12:30:07.564525300Z",
     "start_time": "2024-01-08T12:30:07.526554900Z"
    }
   },
   "id": "819a60c000f1eaf7",
   "execution_count": 83
  },
  {
   "cell_type": "code",
   "outputs": [],
   "source": [
    "# Выполняем, пока ячейки непустые\n",
    "while sheet.cell(row=start_row, column=column_to_read_question).value is not None:\n",
    "    # Считываем вопросы и письма и объединяем их\n",
    "    current_value_question = sheet.cell(row=start_row, column=column_to_read_question).value\n",
    "    current_value_text = sheet.cell(row=start_row, column=column_to_read_text).value\n",
    "    current_value = f\"{current_value_question}\\n\\n{current_value_text}\"\n",
    "    \n",
    "    # Создаем сообщение-запрос\n",
    "    message = client.beta.threads.messages.create(\n",
    "        thread_id=thread.id,\n",
    "        role=\"user\",\n",
    "        content=current_value\n",
    "    )\n",
    "    # Добавление сообщения в поток\n",
    "    run = client.beta.threads.runs.create(\n",
    "        thread_id=thread.id,\n",
    "        assistant_id=assistant.id,\n",
    "    )  \n",
    "    \n",
    "    # Проверка статуса по выполнению запроса\n",
    "    completed = False\n",
    "        \n",
    "    while not completed:\n",
    "            \n",
    "        # Получаем ответ\n",
    "        run = client.beta.threads.runs.retrieve(\n",
    "            thread_id=thread.id,\n",
    "            run_id=run.id\n",
    "        )\n",
    "            \n",
    "        # Если обработка ответа закончена (получено сообщение от ассистента), то выходим из цикла\n",
    "        if run.status == 'completed':\n",
    "            completed = True\n",
    "            time.sleep(2)\n",
    "    \n",
    "    run = client.beta.threads.runs.retrieve(\n",
    "        thread_id=thread.id,\n",
    "        run_id=run.id\n",
    "    )\n",
    "    \n",
    "    # Добавляем сообщение от ассистента в список\n",
    "    messages = client.beta.threads.messages.list(\n",
    "        thread_id=thread.id\n",
    "    )\n",
    "    \n",
    "    # Добавляем новое письмо в соседнюю ячейку справа от новых вопросов\n",
    "    sheet.cell(row=start_row, column=column_to_read_question + 1, value=messages.data[0].content[0].text.value)\n",
    "\n",
    "    # Переходим к следующей строке\n",
    "    start_row += 1"
   ],
   "metadata": {
    "collapsed": false
   },
   "id": "ccf0813d9b5a5e18",
   "execution_count": null
  },
  {
   "cell_type": "code",
   "outputs": [],
   "source": [
    "# Сохраняем изменения\n",
    "wb.save('TEST.xlsx')"
   ],
   "metadata": {
    "collapsed": false,
    "ExecuteTime": {
     "end_time": "2024-01-08T12:33:32.514472200Z",
     "start_time": "2024-01-08T12:33:32.464927Z"
    }
   },
   "id": "5baf3d9d52992474",
   "execution_count": 85
  },
  {
   "cell_type": "code",
   "outputs": [
    {
     "name": "stdout",
     "output_type": "stream",
     "text": [
      "Run(id='run_cyHmM7jwiDrk6YM4AWtxJUZO', assistant_id='asst_rvWaoBA4sFwJKzQtddIlFFFP', cancelled_at=None, completed_at=1704714486, created_at=1704714472, expires_at=None, failed_at=None, file_ids=[], instructions=\"You're an English teacher. You know perfectly how to write letters (reply to a friend) in English. You perform different actions on the letters you are asked to write.\", last_error=None, metadata={}, model='gpt-3.5-turbo', object='thread.run', required_action=None, started_at=1704714472, status='completed', thread_id='thread_lvObSdbid9KGomwuougtDByA', tools=[])\n"
     ]
    }
   ],
   "source": [
    "# Информация по созданному ассистенту (важны id, если используем retrieve)\n",
    "print(run)"
   ],
   "metadata": {
    "collapsed": false,
    "ExecuteTime": {
     "end_time": "2024-01-08T11:48:46.043634700Z",
     "start_time": "2024-01-08T11:48:46.036166800Z"
    }
   },
   "id": "ecfb4d754e3c11fb",
   "execution_count": 58
  },
  {
   "cell_type": "markdown",
   "source": [
    "##### Возвращение к созданному раннее ассистенту\n",
    "\n",
    "Создаем client, затем восстанавливаем ассистента и поток по их id. Далее можно применять нужную генерацию."
   ],
   "metadata": {
    "collapsed": false
   },
   "id": "282ab3796b0801b7"
  },
  {
   "cell_type": "code",
   "outputs": [],
   "source": [
    "assistant_id = 'asst_q6z9...Q45'\n",
    "thread_id = 'thread_v56...aYUB'"
   ],
   "metadata": {
    "collapsed": false
   },
   "id": "8cfedf610abf09c"
  },
  {
   "cell_type": "code",
   "outputs": [],
   "source": [
    "assistant = client.beta.assistants.retrieve(assistant_id)\n",
    "thread = client.beta.threads.retrieve(thread_id)"
   ],
   "metadata": {
    "collapsed": false
   },
   "id": "e852f0fc2fbf324d"
  },
  {
   "cell_type": "code",
   "outputs": [],
   "source": [
    "print(assistant)\n",
    "print(thread)"
   ],
   "metadata": {
    "collapsed": false
   },
   "id": "c57621e50c3c55c6"
  },
  {
   "cell_type": "markdown",
   "source": [
    "##### Обновление параметров ассистента\n",
    "\n",
    "Обновляем имя и инструкцию ассистента (как пример). Необходимо знать id ассистента (узнать можно из run)."
   ],
   "metadata": {
    "collapsed": false
   },
   "id": "7c9a855c731d6748"
  },
  {
   "cell_type": "code",
   "outputs": [],
   "source": [
    "name = \"Really cool assistant\"\n",
    "instruction  = \"Chill, assistant\""
   ],
   "metadata": {
    "collapsed": false
   },
   "id": "f5923b79b684cb1e"
  },
  {
   "cell_type": "code",
   "outputs": [],
   "source": [
    "assistant = client.beta.assistants.update(\n",
    "    assistant_id=\"asst_q6z9n4QZrlRl78rBzolxaQ45\", \n",
    "    name = name,\n",
    "    instructions=instruction\n",
    ")"
   ],
   "metadata": {
    "collapsed": false
   },
   "id": "3241a87d1668f824"
  },
  {
   "cell_type": "code",
   "outputs": [],
   "source": [
    "print(assistant)"
   ],
   "metadata": {
    "collapsed": false
   },
   "id": "bb0a01fc9b2549b0"
  },
  {
   "cell_type": "markdown",
   "source": [
    "##### Корректировка ответов\n",
    "\n",
    "Для корректировки получаемых ответов можно отправить одно или несколько сообщений ассистенту."
   ],
   "metadata": {
    "collapsed": false
   },
   "id": "92e49fe743c154d3"
  },
  {
   "cell_type": "code",
   "outputs": [],
   "source": [
    "content = (\"It's better, but it's not perfect. First, you shouldn't put questions in square brackets. Second, you should not write answers to questions that are synonymous with the answers in the original letter, you should write answers (rewrite the original or write your own) that answer the questions incorrectly, i.e., off-topic, or answer them, but not completely.\")"
   ],
   "metadata": {
    "collapsed": false,
    "ExecuteTime": {
     "end_time": "2024-01-07T16:47:17.226269400Z",
     "start_time": "2024-01-07T16:47:17.215282700Z"
    }
   },
   "id": "8305e33ba0944d7e",
   "execution_count": 72
  },
  {
   "cell_type": "code",
   "execution_count": 101,
   "outputs": [],
   "source": [
    "message = client.beta.threads.messages.create(\n",
    "    thread_id=thread.id,\n",
    "    role=\"user\",\n",
    "    content=content\n",
    "\n",
    ")\n",
    "\n",
    "run = client.beta.threads.runs.create(\n",
    "    thread_id=thread.id,\n",
    "    assistant_id=assistant.id,\n",
    ")  \n",
    "\n",
    "completed = False\n",
    "        \n",
    "while not completed:\n",
    "\n",
    "    run = client.beta.threads.runs.retrieve(\n",
    "        thread_id=thread.id,\n",
    "        run_id=run.id\n",
    "    )\n",
    "\n",
    "    if run.status == 'completed':\n",
    "        completed = True\n",
    "        time.sleep(2)\n",
    "    \n",
    "run = client.beta.threads.runs.retrieve(\n",
    "    thread_id=thread.id,\n",
    "    run_id=run.id\n",
    ")\n",
    "    \n",
    "messages = client.beta.threads.messages.list(\n",
    "    thread_id=thread.id\n",
    ")"
   ],
   "metadata": {
    "collapsed": false,
    "ExecuteTime": {
     "end_time": "2024-01-08T13:11:05.568039Z",
     "start_time": "2024-01-08T13:10:39.010456900Z"
    }
   },
   "id": "6718cfc8c373bee"
  },
  {
   "cell_type": "code",
   "execution_count": 101,
   "outputs": [
    {
     "name": "stdout",
     "output_type": "stream",
     "text": [
      "Dear Tom, \n",
      "\n",
      "Thanks for your message. My apologies for not responding sooner; I've been engrossed in a school project. I hope that your hiking adventures have been free of any accidents. \n",
      "\n",
      "By the way, speaking of hobbies, have you tried any new sports recently? What sports do you enjoy the most? Are there any sports or activities you would like to try in the future? \n",
      "\n",
      "My schedule unfortunately doesn't allow for much time for active holidays due to overwhelming homework. My family prefers to stay within the cozy confines of home, which limits the scope for outdoor time together. My friends, on the other hand, are my companions when it comes to more active experiences. We always have a blast on our journeys. This spring, we plan on venturing into rafting, which promises to be a thrilling experience requiring robust teamwork, agility, and unwavering courage. \n",
      "\n",
      "I've got to go as my father wants me to help him with his car. Write back soon. \n",
      "\n",
      "Best wishes, \n",
      "Ann\n",
      "\n",
      "Explanation:\n",
      "In this modified letter, the questions asked by the author have been changed to discuss hobbies and sports, which deviates from the main topic of the project and family activities. While the \"By the way\" sentence remains, the modified questions are unrelated to the main content of the letter and may not be entirely appropriate.\n"
     ]
    }
   ],
   "source": [
    "# Выводим ответ\n",
    "print(messages.data[0].content[0].text.value)"
   ],
   "metadata": {
    "collapsed": false,
    "ExecuteTime": {
     "end_time": "2023-12-07T18:07:02.820741Z",
     "start_time": "2023-12-07T18:07:02.812332200Z"
    }
   },
   "id": "1ee96123a4de62b4"
  },
  {
   "cell_type": "markdown",
   "source": [
    "### Chat API\n",
    "\n",
    "##### Генерация заданий (вопросов) "
   ],
   "metadata": {
    "collapsed": false
   },
   "id": "c812c622e6bb14d3"
  },
  {
   "cell_type": "code",
   "outputs": [],
   "source": [
    "\"\"\"Задаем prompt\"\"\"\n",
    "\n",
    "prompt=[\n",
    "    {\n",
    "        \"role\": \"system\", \n",
    "        \"content\": \"You are a helpful assistant\"\n",
    "    },\n",
    "    {\n",
    "        \"role\": \"user\", \n",
    "        \"content\": \"Here are few examples, where question on the left is unmodified question and question on the right is modified question: Have you got grandparents? -> Do you like spending time with your grandparents? What personal qualities do you need to realise your wishes? -> What personal qualities do people need to realise wishes? If you were me, how would you handle the situation? -> How do people usually overcome these difficulties? Replace questions with modified ones. Make sure the modified questions deviate from the main topic and context, but not too much. Return the modified questions only.\"\n",
    "    },\n",
    "    {\n",
    "        \"role\": \"user\", \n",
    "        \"content\": \"Could you tell me what you and your friends think about not relying on your parents? Are you ready to leave your family immediately after you finish school? Is it easy to rent a house or an apartment for students in Russia?\"\n",
    "    },\n",
    "    {\n",
    "        \"role\": \"assistant\", \n",
    "        \"content\": \"Do you prefer living alone or with roommates? How do you handle financial responsibilities without relying on your parents? What are some difficulties you might encounter when searching for a place to rent as a student in Russia? \"\n",
    "    }\n",
    "    ]"
   ],
   "metadata": {
    "collapsed": false
   },
   "id": "3a3a23839ab1c32c"
  },
  {
   "cell_type": "code",
   "outputs": [],
   "source": [
    "# Открываем excel-таблицу с данными и загружаем нужный лист\n",
    "wb = openpyxl.load_workbook('TEST.xlsx')\n",
    "sheet = wb.active\n",
    "\n",
    "# Устанавливаем стартовые строчку и столбец, по которым итерируемся в цикле\n",
    "start_row = 2\n",
    "column_to_read = 2"
   ],
   "metadata": {
    "collapsed": false,
    "ExecuteTime": {
     "end_time": "2024-01-08T16:44:18.933718600Z",
     "start_time": "2024-01-08T16:44:18.896194500Z"
    }
   },
   "id": "d16957c5e6769f14",
   "execution_count": 148
  },
  {
   "cell_type": "code",
   "execution_count": 149,
   "outputs": [],
   "source": [
    "# Выполняем, пока ячейки непустые\n",
    "while sheet.cell(row=start_row, column=column_to_read).value is not None:\n",
    "    # Считываем значение ячейки (письмо) + очищаем от лишних предложений из-за которых ответ чата ухудшается\n",
    "    current_value = sheet.cell(row=start_row, column=column_to_read).value\n",
    "    current_value = re.search(\"[\\s\\S]*\\?\", current_value).group()\n",
    "    \n",
    "    # Чат со стандартными параметрами для получения ответа\n",
    "    response = client.chat.completions.create( model=model, messages= prompt + [\n",
    "    {\n",
    "        \"role\": \"user\", \n",
    "        \"content\": current_value\n",
    "    }\n",
    "    ]\n",
    "                                               )\n",
    "    # Добавляем новое значение в соседнюю ячейку с письмом справа\n",
    "    sheet.cell(row=start_row, column=column_to_read + 2, value=response.choices[0].message.content)\n",
    "\n",
    "    # Переходим к следующей строке\n",
    "    start_row += 1"
   ],
   "metadata": {
    "collapsed": false,
    "ExecuteTime": {
     "end_time": "2024-01-08T16:53:41.640781100Z",
     "start_time": "2024-01-08T16:44:21.646910200Z"
    }
   },
   "id": "ab43ac4cc74a9d1b"
  },
  {
   "cell_type": "code",
   "outputs": [],
   "source": [
    "# Сохраняем изменения\n",
    "wb.save('TEST.xlsx')"
   ],
   "metadata": {
    "collapsed": false,
    "ExecuteTime": {
     "end_time": "2024-01-08T17:02:59.623052400Z",
     "start_time": "2024-01-08T17:02:59.565307300Z"
    }
   },
   "id": "47511bbeeae98a2a",
   "execution_count": 150
  },
  {
   "cell_type": "markdown",
   "source": [
    "##### Генерация писем"
   ],
   "metadata": {
    "collapsed": false
   },
   "id": "e8e456190d69533f"
  },
  {
   "cell_type": "code",
   "outputs": [],
   "source": [
    "\"\"\"Задаем prompt\"\"\"\n",
    "\n",
    "prompt=[\n",
    "    {\n",
    "        \"role\": \"system\", \n",
    "        \"content\": \"You are a helpful assistant\"\n",
    "    },\n",
    "    {\n",
    "        \"role\": \"user\", \n",
    "        \"content\": (\"###Instruction### I give you an assignment in the form of questions to answer in a letter and the letter itself, which is separated by two blank lines. You must replace the answers on the questions (the sentences that come after the introduction in the letter) in the letter. Refer to the example below, with the part to be replaced in square brackets. Return only the changed letter to me. You must make the new letter with the modified part no more than 154 words. And don't forget that I'll pay you a tip after your answer! ###Example### \"\n",
    "           \"Dear Nora, \"\n",
    "           \"Thank you for your message! \"\n",
    "           \"It was great hearing from you. Sorry I haven't replied earlier - I was busy with exams preparation.\"\n",
    "           \"[I think having many dreams is a good thing: this way you have a range of activities to choose from and you'll never be bored. I also have quite a few dreams. My major dream is to learn how to fly an airplane. I am now studying to pass the exams to enter the Aviation academy. I have understood that I should be brave enough to do it. And of course, I told my elder brother Sam about my wish, as he always supports me.]\"\n",
    "           \"It's great to hear that your brother also enjoys outdoor activities. Does your brother really like hiking? How often does he go hiking? Has he got any other hobbies? \"\n",
    "           \"Looking forward to hearing from you. \"\n",
    "           \"Best wishes,\"\n",
    "           \"Kate\")\n",
    "    },\n",
    "    {\n",
    "        \"role\": \"user\", \n",
    "        \"content\": \"Do you believe in the concept of 'everything in moderation'? How do you incorporate exercise into your daily routine? What are the benefits of living a healthy lifestyle? Speaking of summer, what activities do you enjoy doing at the seaside? \"\n",
    "                   \"\"\n",
    "                   \"\"\n",
    "                   \"Dear Mary,Thank you for your message. I'm sorry for not writing you for so long. I spent my time doing a school project.I hope that all your efforts will show a great result. I try to care more about my health lately: I try to avoid unhealthy and fat food. Also I train every morning and go to the gym. I think that sport and healthy food are the most important components of being healthy and strong. Nowadays, the healthy lifestyle becomes more and more popular and I don’t see anything bad in it. Anyway, you've mentioned holidays. With whom are you going to the seaside? Why have you decided to spend the month there? What exactly are you going to do?I've got to go as my friend is asking me for help.Write back soon.Best wishes,Kate\"\n",
    "    },\n",
    "    {\n",
    "        \"role\": \"assistant\", \n",
    "        \"content\": \"Dear Mary,\"\n",
    "                   \"Thank you for your message. I'm sorry for not writing you for so long. I spent my time doing a school project. Recently, I've been focusing on leading a healthier lifestyle. I believe in the concept of 'everything in moderation' and try to make balanced choices in my diet and daily activities. I prioritize exercise by incorporating it into my daily routine, whether it's going for a run or attending fitness classes. A healthy lifestyle has many benefits, including improved fitness, increased energy levels, and better mental well-being. Speaking of summer, what activities do you enjoy doing at the seaside? Are you going with someone? Why did you choose to spend a month there? I'd love to hear about your plans! I hope you're well. Write back soon. Best wishes, Kate\"\n",
    "    },\n",
    "    {\n",
    "        \"role\": \"user\", \n",
    "        \"content\": \"Don't forget that the maximum word count should be no more than 154 words in your answer! If you follow this, you'll get 1000$)\"\n",
    "    }\n",
    "    ]"
   ],
   "metadata": {
    "collapsed": false
   },
   "id": "fecc285c7f9b00ce"
  },
  {
   "cell_type": "code",
   "outputs": [],
   "source": [
    "# Открываем excel-таблицу с данными и загружаем нужный лист\n",
    "wb = openpyxl.load_workbook('TEST.xlsx')\n",
    "sheet = wb.active\n",
    "\n",
    "# Устанавливаем стартовые строчку и столбцы\n",
    "start_row = 2\n",
    "column_to_read_text = 3\n",
    "column_to_read_question = 4"
   ],
   "metadata": {
    "collapsed": false,
    "ExecuteTime": {
     "end_time": "2024-01-08T18:54:03.319595100Z",
     "start_time": "2024-01-08T18:54:03.273121300Z"
    }
   },
   "id": "79aeb2066d2aa929",
   "execution_count": 176
  },
  {
   "cell_type": "code",
   "outputs": [],
   "source": [
    "# Выполняем, пока ячейки непустые\n",
    "while sheet.cell(row=start_row, column=column_to_read_question).value is not None:\n",
    "    \n",
    "    # Считываем значение вопросы и письма\n",
    "    current_value_question = sheet.cell(row=start_row, column=column_to_read_question).value\n",
    "    current_value_text = sheet.cell(row=start_row, column=column_to_read_text).value\n",
    "    current_value = f\"{current_value_question}\\n\\n{current_value_text}\"\n",
    "\n",
    "    # Чат со стандартными параметрами для получения ответа\n",
    "    response = client.chat.completions.create( model=model, messages= prompt + [\n",
    "    {\n",
    "        \"role\": \"user\", \n",
    "        \"content\": current_value\n",
    "    }\n",
    "    ]\n",
    "                                               )\n",
    "    # Добавляем новое значение в соседнюю ячейку с вопросами справа\n",
    "    sheet.cell(row=start_row, column=column_to_read_question + 1, value=response.choices[0].message.content)\n",
    "\n",
    "    # Переходим к следующей строке\n",
    "    start_row += 1"
   ],
   "metadata": {
    "collapsed": false,
    "ExecuteTime": {
     "end_time": "2024-01-08T19:02:14.663046100Z",
     "start_time": "2024-01-08T18:54:03.865514Z"
    }
   },
   "id": "25ea666375c9ba06",
   "execution_count": 177
  },
  {
   "cell_type": "code",
   "outputs": [],
   "source": [
    "# Сохраняем изменения\n",
    "wb.save('TEST.xlsx')"
   ],
   "metadata": {
    "collapsed": false,
    "ExecuteTime": {
     "end_time": "2024-01-08T19:02:24.392831400Z",
     "start_time": "2024-01-08T19:02:24.326735800Z"
    }
   },
   "id": "b11a3da63039fa97",
   "execution_count": 178
  },
  {
   "cell_type": "markdown",
   "source": [
    "##### Сокращение письма до 154 слов "
   ],
   "metadata": {
    "collapsed": false
   },
   "id": "620697afbf54d49b"
  },
  {
   "cell_type": "code",
   "outputs": [],
   "source": [
    "prompt=[\n",
    "        {\n",
    "            \"role\": \"system\", \n",
    "            \"content\": \"You are a helpful assistant\"\n",
    "        },\n",
    "        {\n",
    "            \"role\": \"user\", \n",
    "            \"content\": \"Paraphrase the text so the response text contains more than 130 and less than 154 words. If you follow this rule you will get 1000$ tip for each excellent response.\"\n",
    "        },\n",
    "        {\n",
    "            \"role\": \"user\", \n",
    "            \"content\": \"Dear Sophie,Thanks for your message. I'm sorry I couldn't answer you earlier, I had to prepare for an exam. I haven't had the opportunity to visit many places near my school, but there is a historical museum that I visited once. Unfortunately, school trips are not organized very frequently by my teachers. However, I do have a memorable school trip experience from a few years ago. We went to a wildlife sanctuary where we had the chance to interact with different animals and learn about their habitats. It was a unique experience because we got to see exotic birds up close and even feed them. The highlight of the trip was when a parrot at the sanctuary mimicked our guide's voice, which was quite amusing. Speaking of parrots, what kind of parrot do you have? What's its name and what tricks can it do? I have to go now, but I look forward to hearing from you. Best wishes, Vitaliy\"\n",
    "        },\n",
    "        {\n",
    "            \"role\": \"assistant\", \n",
    "            \"content\": \"Dear Sophie, Thank you for your message. Apologies for the delayed response as I was occupied with exam preparations. Though I haven't explored many places near my school, there is a historical museum I once visited. Unluckily, my teachers don't arrange school trips frequently. Nonetheless, a few years back, I had an unforgettable school trip to a wildlife sanctuary. It provided an amazing opportunity to interact with diverse animals and learn about their habitats. One particularly exceptional moment was seeing exotic birds up close, feeding them, and even witnessing a parrot mimic our guide's voice, which was highly amusing. Speaking of parrots, I'm curious about yours. What breed do you have? What is its name? What tricks it can perform? I must end here, but I eagerly await your response. Best regards, Vitaliy\"\n",
    "        },\n",
    "        {\n",
    "            \"role\": \"user\", \n",
    "            \"content\": \"Don't forget that the response text contains more than 130 and less than 154 words.\"\n",
    "        }\n",
    "        ]"
   ],
   "metadata": {
    "collapsed": false
   },
   "id": "e4d5292fddef82c4"
  },
  {
   "cell_type": "code",
   "outputs": [],
   "source": [
    "# Открываем excel-таблицу с данными и загружаем нужный лист\n",
    "wb = openpyxl.load_workbook('TEST.xlsx')\n",
    "sheet = wb.active\n",
    "\n",
    "# Устанавливаем стартовые строчку и столбец, по которым итерируемся в цикле\n",
    "start_row = 2\n",
    "column_to_read = 5"
   ],
   "metadata": {
    "collapsed": false,
    "ExecuteTime": {
     "end_time": "2024-01-08T19:56:30.037098600Z",
     "start_time": "2024-01-08T19:56:29.988087400Z"
    }
   },
   "id": "2ad4db87742c4ea9",
   "execution_count": 194
  },
  {
   "cell_type": "code",
   "outputs": [],
   "source": [
    "# Выполняем, пока ячейки непустые\n",
    "while sheet.cell(row=start_row, column=column_to_read).value is not None:\n",
    "    # Считываем письма и фиксируем длину письма в словах\n",
    "    current_value = sheet.cell(row=start_row, column=column_to_read).value\n",
    "    count_words = len(current_value.split())\n",
    "    \n",
    "    # Отправляем запрос чату на сокращение письма, если оно больше 154 слов\n",
    "    if count_words > 154:\n",
    "        response = client.chat.completions.create( model=model, messages= prompt + [\n",
    "        {\n",
    "            \"role\": \"user\", \n",
    "            \"content\": current_value\n",
    "        }\n",
    "        ]\n",
    "                                                   )\n",
    "        \n",
    "        # Добавляем новое значение в соседнюю ячейку справа\n",
    "        sheet.cell(row=start_row, column=column_to_read + 1, value=response.choices[0].message.content)\n",
    "        # Разметка в соседней ячейки, что было произведено сокращение\n",
    "        sheet.cell(row=start_row, column=column_to_read + 2, value='+')\n",
    "    # Иначе сохраняем исходное письмо\n",
    "    else:\n",
    "        sheet.cell(row=start_row, column=column_to_read + 1, value=current_value)\n",
    "    \n",
    "    # Переходим к следующей строчке\n",
    "    start_row += 1"
   ],
   "metadata": {
    "collapsed": false
   },
   "id": "c39597b89537b30a",
   "execution_count": null
  },
  {
   "cell_type": "code",
   "outputs": [],
   "source": [
    "# Сохраняем изменения\n",
    "wb.save('TEST.xlsx')"
   ],
   "metadata": {
    "collapsed": false,
    "ExecuteTime": {
     "end_time": "2024-01-08T19:58:47.268813600Z",
     "start_time": "2024-01-08T19:58:47.197146500Z"
    }
   },
   "id": "8ff9155aab483935",
   "execution_count": 196
  }
 ],
 "metadata": {
  "kernelspec": {
   "display_name": "Python 3",
   "language": "python",
   "name": "python3"
  },
  "language_info": {
   "codemirror_mode": {
    "name": "ipython",
    "version": 2
   },
   "file_extension": ".py",
   "mimetype": "text/x-python",
   "name": "python",
   "nbconvert_exporter": "python",
   "pygments_lexer": "ipython2",
   "version": "2.7.6"
  }
 },
 "nbformat": 4,
 "nbformat_minor": 5
}
