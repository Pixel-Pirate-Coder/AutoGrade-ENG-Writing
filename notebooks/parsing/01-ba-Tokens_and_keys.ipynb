{
  "nbformat": 4,
  "nbformat_minor": 0,
  "metadata": {
    "colab": {
      "provenance": []
    },
    "kernelspec": {
      "name": "python3",
      "display_name": "Python 3"
    },
    "language_info": {
      "name": "python"
    }
  },
  "cells": [
    {
      "cell_type": "code",
      "execution_count": null,
      "metadata": {
        "id": "7wR6q52l1XHk"
      },
      "outputs": [],
      "source": [
        "'''\n",
        "\n",
        "VK API:\n",
        "access_to_VK_token = 'vk1.a.gqNEDvGXDzKp2JkPe3zbg-n5bhjPdW0dgqBFAd2jnOLy8A96tMJNLGgQbwoTgeAOmVxx_ARhU4EsJOpKngr3-hgjTdFDNfoltD1L-9lc1CFrMB1l26gS-3SFN-O2HUov3hsVW58OHhon02-aB-QkLPklPUp8hbgcB2hIYjHFzlzxWWRoyqW5S-WiifS32TWpCKboxKLvZSINcbaJLElX8g'\n",
        "\n",
        "MyScript SDK Web:\n",
        "Your application key: 291ea089-105d-4317-9652-2fd1d0255c30\n",
        "Your HMAC key: 9b3f553e-bc23-4f4f-b85f-c6159d65f7a6\n",
        "\n",
        "'''"
      ]
    }
  ]
}