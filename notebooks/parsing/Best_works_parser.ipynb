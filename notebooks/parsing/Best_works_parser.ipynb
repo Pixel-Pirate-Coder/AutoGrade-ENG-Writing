{
  "cells": [
    {
      "cell_type": "code",
      "execution_count": null,
      "id": "6eb355ae",
      "metadata": {
        "id": "6eb355ae"
      },
      "outputs": [],
      "source": [
        "import requests\n",
        "from bs4 import BeautifulSoup\n",
        "import json"
      ]
    },
    {
      "cell_type": "code",
      "source": [
        "'''\n",
        "ID lists of required groups:\n",
        "\n",
        "best_works_2023 = ['group_id': 40390729, 'topic_id': 49360949]\n",
        "best_works_2022 = ['group_id': 40390729, 'topic_id': 48906302]\n",
        "best_works_2021 = ['group_id': 40390729, 'topic_id': 47774234]\n",
        "\n",
        "access_token = 'vk1.a.gqNEDvGXDzKp2JkPe3zbg-n5bhjPdW0dgqBFAd2jnOLy8A96tMJNLGgQbwoTgeAOmVxx_ARhU4EsJOpKngr3-hgjTdFDNfoltD1L-9lc1CFrMB1l26gS-3SFN-O2HUov3hsVW58OHhon02-aB-QkLPklPUp8hbgcB2hIYjHFzlzxWWRoyqW5S-WiifS32TWpCKboxKLvZSINcbaJLElX8g'\n",
        "'''"
      ],
      "metadata": {
        "id": "wABT96LAm5dK"
      },
      "id": "wABT96LAm5dK",
      "execution_count": null,
      "outputs": []
    },
    {
      "cell_type": "code",
      "execution_count": null,
      "id": "8fee7fad",
      "metadata": {
        "id": "8fee7fad"
      },
      "outputs": [],
      "source": [
        "# comment parsing\n",
        "\n",
        "group_id = 40390729\n",
        "topic_id = 48906302\n",
        "access_token = 'your token'\n",
        "\n",
        "response = requests.get('https://api.vk.com/method/board.getComments',\n",
        "                        params={'group_id': group_id, 'topic_id': topic_id, 'access_token': access_token, 'v': '5.131'})\n",
        "\n",
        "json_response = response.json()\n",
        "if 'response' in json_response:\n",
        "    comments = json_response['response']['items']\n",
        "    for comment in comments:\n",
        "        print(comment['text'])"
      ]
    },
    {
      "cell_type": "code",
      "execution_count": null,
      "id": "69561e98",
      "metadata": {
        "id": "69561e98"
      },
      "outputs": [],
      "source": [
        "json_data = json.dumps(json_response, indent=2)\n",
        "print(json_data)"
      ]
    },
    {
      "cell_type": "code",
      "execution_count": null,
      "id": "23c47db3",
      "metadata": {
        "id": "23c47db3"
      },
      "outputs": [],
      "source": [
        "photo_urls = []\n",
        "\n",
        "# Go through each item in the comment\n",
        "for item in json_response['response']['items']:\n",
        "\n",
        "    # Check if there is a photo in the comment item\n",
        "    if 'attachments' in item:\n",
        "\n",
        "        # Save the text part of the comment\n",
        "        text = item['text']\n",
        "\n",
        "        # Search for the photo with the highest quality\n",
        "        for attachment in item['attachments']:\n",
        "            if attachment['type'] == 'photo':\n",
        "                for size in attachment['photo']['sizes']:\n",
        "                    if size['height'] >= 800:\n",
        "                        photo_urls.append(size['url'])\n",
        "                        print(\"фото добавлено\")"
      ]
    },
    {
      "cell_type": "code",
      "execution_count": null,
      "id": "b3961158",
      "metadata": {
        "id": "b3961158"
      },
      "outputs": [],
      "source": [
        "# saving the images\n",
        "\n",
        "def save_image(url, file_name):\n",
        "    response = requests.get(url)\n",
        "    if response.status_code == 200:\n",
        "        with open(file_name, 'wb') as f:\n",
        "            f.write(response.content)\n",
        "        print(f\"Фотография сохранена как {file_name}\")\n",
        "    else:\n",
        "        print(\"Не удалось скачать фотографию\")\n",
        "\n",
        "i = 0\n",
        "for url in photo_urls:\n",
        "    i += 1\n",
        "    file_name = f\"photo{i}.jpg\"\n",
        "    save_image(url, file_name)"
      ]
    },
    {
      "cell_type": "code",
      "execution_count": null,
      "id": "76dccb6d",
      "metadata": {
        "id": "76dccb6d",
        "outputId": "3dfe5d1e-b0b7-47e2-c548-97d2f537df0a"
      },
      "outputs": [
        {
          "name": "stdout",
          "output_type": "stream",
          "text": [
            "Requirement already satisfied: pytesseract in c:\\users\\1\\anaconda3\\lib\\site-packages (0.3.10)Note: you may need to restart the kernel to use updated packages.\n",
            "\n",
            "Requirement already satisfied: packaging>=21.3 in c:\\users\\1\\anaconda3\\lib\\site-packages (from pytesseract) (23.0)\n",
            "Requirement already satisfied: Pillow>=8.0.0 in c:\\users\\1\\anaconda3\\lib\\site-packages (from pytesseract) (9.4.0)\n"
          ]
        }
      ],
      "source": [
        "pip install pytesseract"
      ]
    },
    {
      "cell_type": "code",
      "execution_count": null,
      "id": "96da9a40",
      "metadata": {
        "id": "96da9a40"
      },
      "outputs": [],
      "source": [
        "# Let's use pytesseract to recognize handwritten text in photos\n",
        "\n",
        "import pytesseract\n",
        "from PIL import Image"
      ]
    },
    {
      "cell_type": "code",
      "execution_count": null,
      "id": "c933c4df",
      "metadata": {
        "id": "c933c4df"
      },
      "outputs": [],
      "source": [
        "for i in range(1, 45):\n",
        "    image = Image.open(f'C:\\\\Users\\\\1\\\\OneDrive\\\\Рабочий стол\\\\ЕГЭ, письмо\\\\VK\\\\2023\\\\photo{i}.jpg')\n",
        "\n",
        "    # Use pytesseract to recognize the text\n",
        "    text = pytesseract.image_to_string(image, lang='eng')\n",
        "\n",
        "    with open(f'C:\\\\Users\\\\1\\\\OneDrive\\\\Рабочий стол\\\\ЕГЭ, письмо\\\\VK\\\\2023\\\\text{i}.txt', 'w', encoding='utf-8') as file:\n",
        "        # Write text to file\n",
        "        file.write(text)"
      ]
    }
  ],
  "metadata": {
    "kernelspec": {
      "display_name": "Python 3 (ipykernel)",
      "language": "python",
      "name": "python3"
    },
    "language_info": {
      "codemirror_mode": {
        "name": "ipython",
        "version": 3
      },
      "file_extension": ".py",
      "mimetype": "text/x-python",
      "name": "python",
      "nbconvert_exporter": "python",
      "pygments_lexer": "ipython3",
      "version": "3.11.4"
    },
    "colab": {
      "provenance": []
    }
  },
  "nbformat": 4,
  "nbformat_minor": 5
}