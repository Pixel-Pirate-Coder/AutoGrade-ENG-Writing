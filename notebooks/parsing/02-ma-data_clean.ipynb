{
 "cells": [
  {
   "cell_type": "markdown",
   "source": [
    "# Чтение и грубая очистка данных"
   ],
   "metadata": {
    "collapsed": false
   },
   "id": "8542cad240673e9e"
  },
  {
   "cell_type": "code",
   "execution_count": 1,
   "outputs": [],
   "source": [
    "import pandas as pd\n",
    "import numpy as np\n",
    "import string, re\n",
    "from collections import Counter\n",
    "\n",
    "from src.data.read_raw_data import read_from_gsheet, drop_unwanted_data, split_types"
   ],
   "metadata": {
    "collapsed": false,
    "ExecuteTime": {
     "end_time": "2023-11-24T20:55:07.350904100Z",
     "start_time": "2023-11-24T20:55:02.777130200Z"
    }
   },
   "id": "initial_id"
  },
  {
   "cell_type": "code",
   "execution_count": 2,
   "outputs": [
    {
     "name": "stderr",
     "output_type": "stream",
     "text": [
      "C:\\Users\\max_a\\AppData\\Local\\Temp\\ipykernel_15316\\2553523661.py:2: DeprecationWarning: [Deprecated][in version 6.0.0]: client_factory will be replaced by gspread.http_client types\n",
      "  raw_data = read_from_gsheet()\n"
     ]
    }
   ],
   "source": [
    "# Читаем данные из таблицы, удаляем неинтересующие столбцы, фильтруем по типу задания\n",
    "raw_data = read_from_gsheet()\n",
    "data = drop_unwanted_data(raw_data)\n",
    "_, email_data = split_types(data)"
   ],
   "metadata": {
    "collapsed": false,
    "ExecuteTime": {
     "end_time": "2023-11-24T20:55:09.900788100Z",
     "start_time": "2023-11-24T20:55:07.349904Z"
    }
   },
   "id": "2bd174dcb542409b"
  },
  {
   "cell_type": "code",
   "execution_count": 3,
   "outputs": [
    {
     "data": {
      "text/plain": "    Type Question id                                           Question  \\\n2  Email              …I am so happy that summer has come and we are...   \n3  Email              …I am learning to cook from my mother now. But...   \n4  Email              …I am so happy that summer has come and we are...   \n5  Email              …I’ve recently been involved in a school surve...   \n6  Email              …All of my friends think camping is a perfect ...   \n\n                                                Text  \\\n2  Dear Ronny, I was glad to hear from you again....   \n3  Dear Mary, Thanks for your message. It was gre...   \n4  Moscow\\n15 october\\nHi!\\nThanks you for you re...   \n5  Hey, Mike.\\r\\nHow's it going? As for me, i'm p...   \n6  Hi Emily,\\r\\nThank you for the e-mail. I'm so ...   \n\n   Solving a communicative task  Text structure  Use of English (for emails)  \n2                           1.0             2.0                          2.0  \n3                           1.0             2.0                          2.0  \n4                           1.0             0.0                          0.0  \n5                           0.0             0.0                          0.0  \n6                           2.0             1.0                          0.0  ",
      "text/html": "<div>\n<style scoped>\n    .dataframe tbody tr th:only-of-type {\n        vertical-align: middle;\n    }\n\n    .dataframe tbody tr th {\n        vertical-align: top;\n    }\n\n    .dataframe thead th {\n        text-align: right;\n    }\n</style>\n<table border=\"1\" class=\"dataframe\">\n  <thead>\n    <tr style=\"text-align: right;\">\n      <th></th>\n      <th>Type</th>\n      <th>Question id</th>\n      <th>Question</th>\n      <th>Text</th>\n      <th>Solving a communicative task</th>\n      <th>Text structure</th>\n      <th>Use of English (for emails)</th>\n    </tr>\n  </thead>\n  <tbody>\n    <tr>\n      <th>2</th>\n      <td>Email</td>\n      <td></td>\n      <td>…I am so happy that summer has come and we are...</td>\n      <td>Dear Ronny, I was glad to hear from you again....</td>\n      <td>1.0</td>\n      <td>2.0</td>\n      <td>2.0</td>\n    </tr>\n    <tr>\n      <th>3</th>\n      <td>Email</td>\n      <td></td>\n      <td>…I am learning to cook from my mother now. But...</td>\n      <td>Dear Mary, Thanks for your message. It was gre...</td>\n      <td>1.0</td>\n      <td>2.0</td>\n      <td>2.0</td>\n    </tr>\n    <tr>\n      <th>4</th>\n      <td>Email</td>\n      <td></td>\n      <td>…I am so happy that summer has come and we are...</td>\n      <td>Moscow\\n15 october\\nHi!\\nThanks you for you re...</td>\n      <td>1.0</td>\n      <td>0.0</td>\n      <td>0.0</td>\n    </tr>\n    <tr>\n      <th>5</th>\n      <td>Email</td>\n      <td></td>\n      <td>…I’ve recently been involved in a school surve...</td>\n      <td>Hey, Mike.\\r\\nHow's it going? As for me, i'm p...</td>\n      <td>0.0</td>\n      <td>0.0</td>\n      <td>0.0</td>\n    </tr>\n    <tr>\n      <th>6</th>\n      <td>Email</td>\n      <td></td>\n      <td>…All of my friends think camping is a perfect ...</td>\n      <td>Hi Emily,\\r\\nThank you for the e-mail. I'm so ...</td>\n      <td>2.0</td>\n      <td>1.0</td>\n      <td>0.0</td>\n    </tr>\n  </tbody>\n</table>\n</div>"
     },
     "execution_count": 3,
     "metadata": {},
     "output_type": "execute_result"
    }
   ],
   "source": [
    " # Далее будем работать с данными по письмам\n",
    "email_data.head()"
   ],
   "metadata": {
    "collapsed": false,
    "ExecuteTime": {
     "end_time": "2023-11-24T20:55:09.952984300Z",
     "start_time": "2023-11-24T20:55:09.902790800Z"
    }
   },
   "id": "ba14f04daa09bb81"
  },
  {
   "cell_type": "code",
   "execution_count": 5,
   "outputs": [],
   "source": [
    "email_data = email_data[email_data['Text'].str.strip().astype(bool)] # Удалим строки с пустыми ответами"
   ],
   "metadata": {
    "collapsed": false,
    "ExecuteTime": {
     "end_time": "2023-11-24T20:55:10.007020Z",
     "start_time": "2023-11-24T20:55:09.963016700Z"
    }
   },
   "id": "4a24337909a94170"
  },
  {
   "cell_type": "code",
   "execution_count": 6,
   "outputs": [],
   "source": [
    "# К сожалению, пока придется удалить и строки, в которых задание кратко описано на русском или отсутствует\n",
    "email_data.drop(email_data[email_data['Question'].str.contains('[А-Яа-я]+')].index, inplace=True)"
   ],
   "metadata": {
    "collapsed": false,
    "ExecuteTime": {
     "end_time": "2023-11-24T20:55:10.047019Z",
     "start_time": "2023-11-24T20:55:09.978397400Z"
    }
   },
   "id": "a8ffcb99cec88049"
  },
  {
   "cell_type": "markdown",
   "source": [
    "# Очистка и токенизация текста"
   ],
   "metadata": {
    "collapsed": false
   },
   "id": "dd42395415958852"
  },
  {
   "cell_type": "code",
   "execution_count": 7,
   "outputs": [
    {
     "name": "stderr",
     "output_type": "stream",
     "text": [
      "[nltk_data] Downloading package punkt to\n",
      "[nltk_data]     C:\\Users\\max_a\\AppData\\Roaming\\nltk_data...\n",
      "[nltk_data]   Package punkt is already up-to-date!\n",
      "[nltk_data] Downloading package stopwords to\n",
      "[nltk_data]     C:\\Users\\max_a\\AppData\\Roaming\\nltk_data...\n",
      "[nltk_data]   Package stopwords is already up-to-date!\n"
     ]
    }
   ],
   "source": [
    "import nltk\n",
    "from nltk.util import ngrams\n",
    "from nltk.tokenize import word_tokenize\n",
    "from nltk.corpus import stopwords\n",
    "\n",
    "nltk.download('punkt')\n",
    "nltk.download('stopwords')\n",
    "\n",
    "import contractions\n",
    "\n",
    "from collections import Counter"
   ],
   "metadata": {
    "collapsed": false,
    "ExecuteTime": {
     "end_time": "2023-11-24T20:55:12.837713900Z",
     "start_time": "2023-11-24T20:55:09.998020900Z"
    }
   },
   "id": "f84dbef2427a71c2"
  },
  {
   "cell_type": "code",
   "execution_count": 8,
   "outputs": [],
   "source": [
    "email_data['Text'] = email_data['Text'].str.lower() # Приведем символы к нижнему регистру\n",
    "email_data['Text'] = email_data['Text'].apply(lambda x: contractions.fix(x)) # Преобразуем сокращения в полную запись: e.g. I'll -> I will\n",
    "email_data['Text'] = email_data['Text'].apply(lambda x: re.sub('[\\.\\n\\r\\t]', ' ', x)) # Уберем символы переноса строк, табуляции\n",
    "email_data['Text'] = email_data['Text'].apply(lambda x: re.sub(r'[]!\"$%&\\'()*+,./:;=#@?[\\\\^_`{|}~-’]+', \" \", x)) # Удалим символы пунктуации"
   ],
   "metadata": {
    "collapsed": false,
    "ExecuteTime": {
     "end_time": "2023-11-24T20:55:12.891686900Z",
     "start_time": "2023-11-24T20:55:12.830716Z"
    }
   },
   "id": "37803591ac1b1916"
  },
  {
   "cell_type": "code",
   "execution_count": 9,
   "outputs": [],
   "source": [
    "# Добавим колонку с токенизированным текстом (показалось, что правильнее будет токенизировать тексты по отдельности)\n",
    "email_data['Tokenized'] = email_data['Text'].apply(word_tokenize)"
   ],
   "metadata": {
    "collapsed": false,
    "ExecuteTime": {
     "end_time": "2023-11-24T20:55:13.074520600Z",
     "start_time": "2023-11-24T20:55:12.887677600Z"
    }
   },
   "id": "bd1b0e1c96613a08"
  },
  {
   "cell_type": "code",
   "execution_count": null,
   "outputs": [],
   "source": [
    "# Возможно, НЕ стоит очищать текст от stopwords, так как при этом, например, мы теряем конструкции со вспомогательным глаголом\n",
    "# filtered_tokens = [word for word in tokens if not word in stopwords.words('english')]"
   ],
   "metadata": {
    "collapsed": false
   },
   "id": "55964d5146296323"
  },
  {
   "cell_type": "code",
   "execution_count": 138,
   "outputs": [
    {
     "name": "stdout",
     "output_type": "stream",
     "text": [
      "(('by', 'the', 'way'), 300) (('you', 'asked', 'me'), 271) (('asked', 'me', 'about'), 255) (('the', 'way', 'tell'), 240) (('way', 'tell', 'me'), 239) (('tell', 'me', 'more'), 228) (('me', 'more', 'about'), 228) (('for', 'your', 'recent'), 225) (('from', 'you', 'in'), 221) (('you', 'in', 'your'), 218) (('i', 'am', 'always'), 206) (('messages', 'from', 'you'), 192) (('more', 'about', 'your'), 190) (('get', 'messages', 'from'), 186) (('to', 'get', 'messages'), 185) (('in', 'your', 'email'), 181) (('thanks', 'for', 'your'), 179) (('your', 'email', 'you'), 176) (('drop', 'me', 'a'), 173) (('me', 'a', 'line'), 173) (('all', 'for', 'now'), 170) (('that', 'is', 'all'), 162) (('is', 'all', 'for'), 160) (('your', 'recent', 'email'), 157) (('email', 'you', 'asked'), 156) (('soon', 'best', 'wishes'), 146) (('now', 'drop', 'me'), 144) (('email', 'i', 'am'), 142) (('a', 'line', 'best'), 137) (('line', 'best', 'wishes'), 137) (('recent', 'email', 'i'), 136) (('thank', 'you', 'for'), 135) (('you', 'for', 'your'), 133) (('write', 'back', 'soon'), 129) (('i', 'have', 'to'), 128) (('hear', 'from', 'you'), 125) (('to', 'hear', 'from'), 124) (('back', 'soon', 'best'), 122) (('me', 'about', 'my'), 110) (('for', 'now', 'drop'), 107) (('always', 'glad', 'to'), 105) (('glad', 'to', 'get'), 101) (('to', 'go', 'now'), 100) (('have', 'to', 'go'), 98) (('am', 'always', 'glad'), 98) (('sorry', 'i', 'have'), 94) (('i', 'am', 'sorry'), 86) (('i', 'have', 'got'), 84) (('i', 'do', 'not'), 78) (('e-mail', 'you', 'asked'), 74) (('in', 'your', 'e-mail'), 73) (('a', 'lot', 'of'), 72) (('your', 'e-mail', 'you'), 72) (('well', 'i', 'have'), 70) (('for', 'your', 'message'), 69) (('how', 'old', 'is'), 68) (('a', 'lot', 'for'), 63) (('i', 'think', 'that'), 62) (('lot', 'for', 'your'), 62) (('sister', 's', 'wedding'), 61) (('from', 'you', 'again'), 60) (('your', 'recent', 'e-mail'), 60) (('about', 'my', 'dreams'), 60) (('now', 'write', 'back'), 59) (('thanks', 'a', 'lot'), 59) (('e-mail', 'i', 'am'), 58) (('always', 'excited', 'to'), 58) (('excited', 'to', 'get'), 58) (('your', 'sister', 's'), 58) (('message', 'i', 'am'), 58) (('your', 'message', 'i'), 58) (('for', 'your', 'email'), 56) (('have', 'got', 'to'), 55) (('i', 'would', 'like'), 55) (('would', 'like', 'to'), 55) (('am', 'always', 'excited'), 55) (('glad', 'to', 'hear'), 54) (('always', 'happy', 'to'), 54) (('recent', 'e-mail', 'i'), 54) (('got', 'to', 'go'), 53) (('am', 'always', 'happy'), 52) (('your', 'new', 'classmate'), 50) (('your', 'elder', 'brother'), 50) (('what', 'is', 'the'), 49) (('i', 'need', 'to'), 49) (('with', 'my', 'family'), 48) (('to', 'go', 'as'), 47) (('i', 'want', 'to'), 46) (('i', 'have', 'a'), 46) (('go', 'as', 'my'), 46) (('happy', 'to', 'get'), 45) (('your', 'granny', 's'), 45) (('your', 'email', 'i'), 44) (('my', 'family', 'members'), 43) (('dear', 'andy', 'thanks'), 43) (('granny', 's', 'biscuits'), 43) (('you', 'have', 'mentioned'), 42) (('about', 'your', 'new'), 42) (('you', 'i', 'would'), 42) (('about', 'your', 'elder'), 41) (('you', 'again', 'in'), 40) (('again', 'in', 'your'), 40) (('dear', 'lily', 'thanks'), 40) (('dear', 'nora', 'thanks'), 39) (('i', 'were', 'you'), 39) (('were', 'you', 'i'), 39) (('about', 'your', 'sister'), 38) (('dear', 'ralph', 'thanks'), 38) (('about', 'your', 'granny'), 38) (('if', 'i', 'were'), 38) (('me', 'to', 'help'), 37) (('anyway', 'you', 'have'), 37) (('for', 'now', 'write'), 36) (('sorry', 'for', 'not'), 36) (('so', 'long', 'i'), 36) (('more', 'about', 'the'), 36) (('best', 'wishes', 'kate'), 36) (('wishes', 'kate', 'dear'), 36) (('because', 'it', 'is'), 35) (('for', 'not', 'writing'), 35) (('go', 'now', 'drop'), 35) (('for', 'so', 'long'), 35) (('as', 'for', 'me'), 34) (('for', 'me', 'i'), 34) (('am', 'sorry', 'i'), 34) (('arguments', 'with', 'my'), 34) (('me', 'when', 'i'), 34) (('dreams', 'well', 'i'), 34) (('about', 'my', 'grandparents'), 34) (('am', 'sorry', 'for'), 34) (('not', 'writing', 'you'), 34) (('writing', 'you', 'for'), 34) (('you', 'for', 'so'), 34) (('have', 'a', 'lot'), 33) (('when', 'i', 'have'), 33) (('grandparents', 'well', 'i'), 33) (('help', 'him', 'with'), 33) (('to', 'help', 'him'), 33) (('email', 'i', 'was'), 32) (('online', 'friends', 'are'), 32) (('me', 'about', 'your'), 31) (('new', 'classmate', 'what'), 31) (('him', 'with', 'his'), 31) (('she', 'look', 'like'), 30) (('have', 'arguments', 'with'), 30) (('i', 'have', 'problems'), 30) (('andy', 'thanks', 'for'), 30) (('i', 'was', 'very'), 29) (('was', 'very', 'glad'), 29) (('very', 'glad', 'to'), 29) (('old', 'is', 'he'), 29) (('via', 'social', 'media'), 29) (('from', 'you', 'soon'), 28) (('it', 'is', 'great'), 28) (('what', 'is', 'her'), 28) (('nora', 'thanks', 'for'), 28) (('make', 'new', 'friends'), 28) (('lily', 'thanks', 'for'), 28) (('is', 'asking', 'me'), 28) (('the', 'way', 'i'), 27) (('does', 'she', 'look'), 27) (('as', 'real', 'ones'), 27) (('good', 'as', 'real'), 27) (('my', 'grandparents', 'well'), 27) (('in', 'my', 'opinion'), 26) (('they', 'live', 'in'), 26) (('great', 'to', 'hear'), 25) (('are', 'you', 'going'), 25) (('hope', 'to', 'hear'), 25) (('now', 'it', 'is'), 25) (('it', 'is', 'a'), 25) (('ralph', 'thanks', 'for'), 25) (('always', 'support', 'me'), 25) (('elder', 'brother', 'what'), 25) (('i', 'try', 'to'), 25) (('friends', 'well', 'i'), 25) (('best', 'wishes', 'sasha'), 25) (('as', 'good', 'as'), 25) (('for', 'me', 'to'), 25) (('that', 'is', 'why'), 24) (('go', 'now', 'write'), 24) (('that', 'online', 'friends'), 24) (('support', 'me', 'when'), 24) (('name', 'how', 'old'), 24) (('me', 'about', 'dreams'), 24) (('well', 'if', 'i'), 24) (('to', 'be', 'honest'), 23) (('is', 'her', 'name'), 23) (('as', 'for', 'my'), 23) (('i', 'have', 'not'), 22) (('what', 'is', 'his'), 22) (('to', 'help', 'my'), 22) (('what', 'colour', 'is'), 22) (('brother', 'what', 'is'), 22) (('my', 'dreams', 'well'), 22) (('for', 'example', 'i'), 22) (('wishes', 'sasha', 'dear'), 22) (('you', 'ask', 'me'), 22) (('looking', 'forward', 'to'), 21) (('you', 'soon', 'best'), 21)\n"
     ]
    }
   ],
   "source": [
    "tokens = list()\n",
    "for tokens_list in email_data['Tokenized']:\n",
    "    tokens.extend(tokens_list)\n",
    "bigrams = ngrams(tokens, 3)\n",
    "cnt_bi = Counter(bigrams)\n",
    "\n",
    "print(*cnt_bi.most_common(200))"
   ],
   "metadata": {
    "collapsed": false,
    "ExecuteTime": {
     "end_time": "2023-11-23T21:27:54.610919800Z",
     "start_time": "2023-11-23T21:27:54.575861700Z"
    }
   },
   "id": "6ea82aaeab0acf16"
  },
  {
   "cell_type": "code",
   "execution_count": 10,
   "outputs": [],
   "source": [
    "# Соберем токены обратно в текст\n",
    "email_data['prep_text'] = [' '.join(map(str, l)) for l in email_data['Tokenized']]"
   ],
   "metadata": {
    "collapsed": false,
    "ExecuteTime": {
     "end_time": "2023-11-24T20:56:42.913248800Z",
     "start_time": "2023-11-24T20:56:42.899087900Z"
    }
   },
   "id": "c67a00776302d392"
  },
  {
   "cell_type": "markdown",
   "source": [
    "# Кодирование текста"
   ],
   "metadata": {
    "collapsed": false
   },
   "id": "eb72a9507a73d6d9"
  },
  {
   "cell_type": "code",
   "execution_count": 12,
   "outputs": [],
   "source": [
    "from sklearn.feature_extraction.text import CountVectorizer\n",
    "from sklearn.model_selection import train_test_split"
   ],
   "metadata": {
    "collapsed": false,
    "ExecuteTime": {
     "end_time": "2023-11-24T21:24:11.030986500Z",
     "start_time": "2023-11-24T21:24:09.597654600Z"
    }
   },
   "id": "6b1fc759861470cc"
  },
  {
   "cell_type": "code",
   "execution_count": 23,
   "outputs": [],
   "source": [
    "features = ['Question', 'prep_text']\n",
    "targets = ['Solving a communicative task', 'Text structure', 'Use of English (for emails)']\n",
    "\n",
    "test_size = int(0.25 * email_data.shape[0])  # Количество документов в тестовой выборке\n",
    "\n",
    "# Разделим на тестовые и тренировочные данные\n",
    "test_data_index = email_data.sample(test_size).index\n",
    "train_data_index = email_data.index.difference(test_data_index)\n",
    "test_data = email_data.loc[test_data_index]\n",
    "train_data = email_data.loc[train_data_index]"
   ],
   "metadata": {
    "collapsed": false,
    "ExecuteTime": {
     "end_time": "2023-11-24T21:33:42.318442200Z",
     "start_time": "2023-11-24T21:33:42.306753800Z"
    }
   },
   "id": "e214b613b0820867"
  },
  {
   "cell_type": "code",
   "execution_count": 36,
   "outputs": [],
   "source": [
    "def vectorize_as_bongrams(texts: list[str], ngram_min=1, ngram_max=2, max_words=3000):\n",
    "    \"\"\"\n",
    "    Кодирует список текстов в список из закодированных векторов с помощью Bag of N-grams\n",
    "    :param texts: Список текстов для кодирования\n",
    "    :param ngram_min: Минимальная кратность n-граммы\n",
    "    :param ngram_max: Максимальная кратность n-граммы\n",
    "    :param max_words: Максимальное количество слов в словаре (размерность признакового пространства)\n",
    "    :return: \n",
    "    \"\"\"\n",
    "    count_vectorizer = CountVectorizer(ngram_range=(ngram_min, ngram_max), max_features=max_words)\n",
    "    emb = count_vectorizer.fit_transform(texts).toarray()\n",
    "    print(\"Создан vectorizer с размерностью признаков:\", str(np.array(emb).shape[1]))\n",
    "    return emb, count_vectorizer"
   ],
   "metadata": {
    "collapsed": false,
    "ExecuteTime": {
     "end_time": "2023-11-24T21:51:55.236226800Z",
     "start_time": "2023-11-24T21:51:55.233229100Z"
    }
   },
   "id": "26bac00f6a2604f4"
  },
  {
   "cell_type": "code",
   "execution_count": 41,
   "outputs": [
    {
     "name": "stdout",
     "output_type": "stream",
     "text": [
      "Создан vectorizer с размерностью признаков: 3000\n"
     ]
    }
   ],
   "source": [
    "train_encoded, train_vectorizer = vectorize_as_bongrams(train_data['prep_text'].to_list())\n",
    "test_encoded = train_vectorizer.transform(test_data['prep_text'].to_list()).toarray() "
   ],
   "metadata": {
    "collapsed": false,
    "ExecuteTime": {
     "end_time": "2023-11-24T21:54:49.583060900Z",
     "start_time": "2023-11-24T21:54:49.475058900Z"
    }
   },
   "id": "e3fe948d45354d8b"
  },
  {
   "cell_type": "code",
   "execution_count": 60,
   "outputs": [],
   "source": [
    "def print_out(emb, feat, ngram):\n",
    "    print(ngram,\"bag-of-words: \")\n",
    "    print(feat.get_feature_names_out()[:25], \"\\n\")\n",
    "    print(ngram,\"bag-of-feature: \")\n",
    "    print(feat.vocabulary_, \"\\n\")\n",
    "    print(\"BoW matrix:\")\n",
    "    print(pd.DataFrame(emb.transpose(), index=feat.get_feature_names_out()).head(), \"\\n\")"
   ],
   "metadata": {
    "collapsed": false,
    "ExecuteTime": {
     "end_time": "2023-11-24T22:09:15.044417Z",
     "start_time": "2023-11-24T22:09:15.042416300Z"
    }
   },
   "id": "2d4b591ffd08bbdf"
  },
  {
   "cell_type": "code",
   "execution_count": 61,
   "outputs": [
    {
     "name": "stdout",
     "output_type": "stream",
     "text": [
      "1-2-грамма bag-of-words: \n",
      "['able' 'able to' 'about' 'about arguments' 'about dreams' 'about family'\n",
      " 'about friends' 'about friendship' 'about grandparents' 'about holidays'\n",
      " 'about horse' 'about household' 'about how' 'about it' 'about languages'\n",
      " 'about making' 'about me' 'about my' 'about school' 'about that'\n",
      " 'about the' 'about their' 'about this' 'about to' 'about travelling'] \n",
      "\n",
      "1-2-грамма bag-of-feature: \n",
      "{'dear': 576, 'ronny': 2043, 'was': 2675, 'glad': 931, 'to': 2487, 'hear': 1057, 'from': 886, 'you': 2920, 'again': 51, 'actually': 36, 'summer': 2246, 'in': 1186, 'russia': 2051, 'is': 1239, 'quite': 1985, 'hot': 1138, 'and': 128, 'though': 2464, 'it': 1279, 'depends': 604, 'on': 1804, 'certain': 435, 'region': 2023, 'be': 280, 'honest': 1128, 'my': 1621, 'favourite': 787, 'season': 2074, 'winter': 2825, 'because': 300, 'this': 2455, 'time': 2470, 'with': 2855, 'new': 1696, 'year': 2914, 'if': 1169, 'parents': 1865, 'me': 1506, 'visit': 2656, 'would': 2893, 'happy': 1003, 'spend': 2206, 'next': 1705, 'country': 545, 'having': 1044, 'about': 2, 'the': 2323, 'of': 1760, 'your': 2964, 'uncle': 2606, 'made': 1465, 'what': 2765, 'profession': 1966, 'has': 1012, 'he': 1045, 'got': 953, 'any': 193, 'hobbies': 1109, 'going': 945, 'some': 2157, 'museums': 1615, 'or': 1837, 'his': 1102, 'not': 1715, 'have': 1015, 'finish': 807, 'letter': 1381, 'looking': 1445, 'forward': 853, 'hearing': 1061, 'soon': 2173, 'best': 331, 'wishes': 2827, 'denis': 603, 'dear ronny': 595, 'was glad': 2677, 'glad to': 933, 'to hear': 2511, 'hear from': 1058, 'from you': 894, 'you again': 2922, 'summer in': 2248, 'in russia': 1203, 'russia is': 2052, 'to be': 2492, 'be honest': 286, 'my favourite': 1637, 'is winter': 1276, 'new year': 1702, 'my parents': 1658, 'me to': 1526, 'to visit': 2555, 'would be': 2894, 'happy to': 1004, 'to spend': 2540, 'spend my': 2207, 'next summer': 1706, 'in this': 1214, 'about the': 20, 'of your': 1789, 'your uncle': 2996, 'what is': 2776, 'is the': 1268, 'got any': 954, 'any hobbies': 194, 'is he': 1251, 'he going': 1047, 'going to': 948, 'or not': 1843, 'have got': 1025, 'got to': 956, 'to finish': 2504, 'finish my': 808, 'looking forward': 1446, 'forward to': 854, 'to hearing': 2512, 'hearing from': 1062, 'you soon': 2952, 'soon best': 2176, 'best wishes': 335, 'mary': 1499, 'thanks': 2300, 'for': 828, 'message': 1552, 'great': 977, 'sorry': 2180, 'answered': 190, 'earlier': 693, 'but': 382, 'really': 2005, 'busy': 379, 'am': 94, 'are': 206, 'well': 2739, 'think': 2449, 'that': 2305, 'one': 1815, 'should': 2114, 'cook': 528, 'at': 256, 'home': 1121, 'than': 2295, 'out': 1855, 'as': 234, 'like': 1388, 'makes': 1484, 'often': 1790, 'family': 768, 'they': 2434, 'dishes': 630, 'by': 396, 'way': 2695, 'tell': 2286, 'learning': 1369, 'russian': 2053, 'when': 2783, 'did': 607, 'start': 2220, 'do': 634, 'name': 1671, 'book': 356, 'go': 936, 'better': 336, 'now': 1740, 'mother': 1594, 'wants': 2670, 'help': 1066, 'shopping': 2110, 'take': 2264, 'care': 422, 'write': 2903, 'dear mary': 590, 'thanks for': 2301, 'for your': 849, 'your message': 2984, 'it was': 1309, 'was great': 2678, 'great to': 981, 'again sorry': 55, 'sorry have': 2186, 'have not': 1035, 'not answered': 1717, 'answered earlier': 191, 'am glad': 99, 'you are': 2926, 'well think': 2756, 'think that': 2453, 'at home': 258, 'home because': 1122, 'because it': 307, 'it is': 1300, 'as for': 236, 'for me': 838, 'like to': 1400, 'to cook': 2497, 'and it': 149, 'it makes': 1302, 'for my': 839, 'my family': 1634, 'because they': 313, 'like my': 1396, 'by the': 398, 'the way': 2386, 'way tell': 2699, 'tell me': 2288, 'me about': 1507, 'about your': 27, 'when did': 2785, 'did you': 614, 'do you': 642, 'it what': 1310, 'the name': 2360, 'name of': 1674, 'of that': 1779, 'actually would': 40, 'now because': 1742, 'because my': 309, 'my mother': 1654, 'wants me': 2671, 'to help': 2513, 'help me': 1071, 'me with': 1529, 'with shopping': 2875, 'take care': 2265, 'care and': 423, 'write me': 2905, 'me soon': 1524, 'moscow': 1585, 'hi': 1092, 'recent': 2013, 'email': 713, 'firstly': 814, 'quiet': 1984, 'warm': 2672, 'here': 1091, 'month': 1573, 'july': 1326, 'secondly': 2077, 'enjoy': 728, 'can': 405, 'too': 2572, 'every': 739, 'day': 569, 'finally': 802, 'another': 183, 'countries': 543, 'learn': 1368, 'meet': 1537, 'news': 1703, 'where': 2797, 'does': 644, 'visiting': 2660, 'must': 1618, 'feed': 790, 'dog': 651, 'hope': 1132, 'see': 2078, 'mark': 1496, 'you for': 2937, 'for you': 848, 'recent email': 2014, 'email message': 717, 'some time': 2162, 'time it': 2479, 'every day': 740, 'in summer': 1211, 'often visit': 1797, 'to learn': 2518, 'meet new': 1538, 'is his': 1254, 'his name': 1106, 'name where': 1676, 'where is': 2801, 'does he': 645, 'he like': 1050, 'my dog': 1630, 'hear you': 1059, 'thank': 2298, 'mail': 1467, 'so': 2136, 'oh': 1798, 'agree': 57, 'friends': 864, 'nice': 1708, 'holidays': 1116, 'very': 2645, 'popular': 1937, 'teenagers': 2283, 'active': 34, 'more': 1579, 'over': 1860, 'nature': 1682, 'why': 2811, 'lot': 1448, 'places': 1921, 'ways': 2705, 'spending': 2209, 'get': 917, 'together': 2563, 'something': 2165, 'enough': 729, 'watch': 2689, 'tv': 2601, 'show': 2118, 'online': 1822, 'how': 1154, 'long': 1430, 'continue': 524, 'all': 65, 'homework': 1124, 'keep': 1331, 'touch': 2575, 'yours': 2997, 'arina': 231, 'thank you': 2299, 'for the': 845, 'mail am': 1469, 'am so': 107, 'so glad': 2139, 'again oh': 54, 'agree with': 58, 'with your': 2883, 'your friends': 2975, 'is really': 1263, 'way to': 2700, 'is very': 1274, 'popular with': 1940, 'of russia': 1777, 'that is': 2310, 'is why': 1275, 'have lot': 1029, 'lot of': 1452, 'to go': 2507, 'the best': 2325, 'ways of': 2706, 'spending holidays': 2210, 'holidays with': 1120, 'with friends': 2860, 'friends are': 868, 'go to': 943, 'to the': 2549, 'get together': 922, 'together in': 2565, 'is so': 1265, 'that you': 2321, 'you have': 2941, 'time to': 2481, 'to watch': 2557, 'tv show': 2602, 'of this': 1783, 'is it': 1255, 'how long': 1160, 'long does': 1434, 'is all': 1240, 'have to': 1040, 'to do': 2499, 'do my': 638, 'my homework': 1646, 'keep in': 1332, 'in touch': 1215, 'after': 50, 'such': 2243, 'school': 2062, 'asked': 249, 'healthy': 1054, 'lifestyle': 1387, 'want': 2667, 'say': 2060, 'young': 2962, 'people': 1891, 'eat': 703, 'only': 1827, 'food': 826, 'most': 1587, 'activities': 35, 'football': 827, 'tennis': 2294, 'basketball': 279, 'besides': 328, 'teens': 2284, 'free': 858, 'ask': 246, 'holiday': 1115, 'plans': 1925, 'will': 2817, 'kind': 1334, 'mum': 1611, 'back': 271, 'your recent': 2991, 'recent letter': 2015, 'letter it': 1383, 'is great': 1249, 'long time': 1440, 'earlier because': 694, 'because was': 315, 'was busy': 2676, 'busy with': 381, 'with my': 2871, 'my school': 1663, 'well in': 2749, 'in your': 1217, 'your letter': 2982, 'letter you': 1384, 'you asked': 2928, 'asked me': 251, 'healthy lifestyle': 1056, 'want to': 2669, 'to say': 2535, 'young people': 2963, 'they want': 2444, 'to keep': 2516, 'and eat': 138, 'healthy food': 1055, 'the most': 2358, 'most popular': 1592, 'free time': 859, 'at the': 260, 'to ask': 2490, 'where will': 2803, 'will you': 2824, 'what kind': 2777, 'kind of': 1336, 'winter holidays': 2826, 'you like': 2947, 'like what': 1401, 'what do': 2772, 'on the': 1809, 'my mum': 1655, 'me for': 1513, 'soon with': 2178, 'wishes mary': 2840, 'dave': 567, 'know': 1341, 'pe': 1888, 'classes': 462, 'favorite': 786, 'stress': 2228, 'our': 1853, 'sport': 2214, 'same': 2056, 'playing': 1928, 'we': 2707, 'always': 82, 'gym': 993, 'told': 2566, 'picnic': 1916, 'you sorry': 2953, 'sorry that': 2188, 'that have': 2308, 'to you': 2561, 'for long': 837, 'you know': 2945, 'pe classes': 1889, 'is my': 1258, 'my favorite': 1636, 'in our': 1200, 'the same': 2371, 'same time': 2057, 'time like': 2480, 'and we': 176, 'we are': 2709, 'are always': 207, 'my friends': 1639, 'time and': 2471, 'and what': 177, 'what about': 2766, 'about you': 26, 'you you': 2961, 'you told': 2956, 'told me': 2567, 'time with': 2483, 'your family': 2971, 'is your': 1277, 'your favorite': 2973, 'where did': 2799, 'go now': 940, 'now write': 1755, 'write back': 2904, 'back soon': 273, 'travelling': 2585, 'never': 1692, 'maybe': 1505, 'helps': 1084, 'come': 489, 'flight': 816, 'main': 1473, 'problem': 1958, 'problems': 1959, 'sleep': 2131, 'pretty': 1956, 'easy': 699, 'talk': 2273, 'prefer': 1945, 'then': 2417, 'train': 2580, 'yes': 2917, 'there': 2418, 'example': 748, 'fast': 780, 'view': 2653, 'atmosphere': 262, 'compared': 504, 'anything': 200, 'sister': 2125, 'she': 2096, 'her': 1086, 'work': 2886, 'give': 929, 'love': 1455, 'letter am': 1382, 'am happy': 100, 'you in': 2943, 'about travelling': 24, 'it helps': 1297, 'helps me': 1085, 'the main': 2357, 'know that': 1343, 'that some': 2316, 'some people': 2160, 'people have': 1895, 'have problems': 1036, 'problems with': 1964, 'but do': 385, 'do not': 639, 'not so': 1729, 'is pretty': 1262, 'easy for': 700, 'if we': 1174, 'talk about': 2274, 'about what': 25, 'of travelling': 1786, 'it would': 1314, 'there is': 2425, 'for example': 832, 'example this': 749, 'is not': 1259, 'not as': 1718, 'but the': 391, 'from the': 891, 'can not': 415, 'not be': 1719, 'compared to': 505, 'your sister': 2994, 'what was': 2782, 'all for': 66, 'for now': 841, 'soon love': 2177, 'anna': 182, 'language': 1348, 'english': 727, 'many': 1489, 'children': 443, 'study': 2235, 'students': 2234, 'exam': 746, 'speaking': 2199, 'foreign': 850, 'languages': 1350, 'films': 801, 'listen': 1414, 'music': 1616, 'need': 1687, 'used': 2625, 'sounds': 2193, 'french': 860, 'dasha': 566, 'again in': 53, 'about my': 17, 'tell you': 2291, 'you think': 2954, 'in school': 1204, 'school and': 2063, 'and many': 154, 'speaking about': 2200, 'foreign languages': 851, 'on this': 1811, 'language because': 1349, 'because you': 317, 'you need': 2949, 'need to': 1690, 'used to': 2626, 'think about': 2450, 'are you': 226, 'you going': 2939, 'the next': 2362, 'write to': 2906, 'to me': 2522, 'now need': 1750, 'with love': 2869, 'questions': 1980, 'mysterious': 1669, 'interesting': 1226, 'interested': 1224, 'everything': 744, 'even': 735, 'join': 1325, 'team': 2282, 'special': 2202, 'kate': 1329, 'email was': 718, 'was very': 2683, 'very glad': 2646, 'me some': 1523, 'some questions': 2161, 'questions about': 1981, 'mysterious places': 1670, 'there are': 2420, 'some interesting': 2158, 'interesting places': 1228, 'such as': 2244, 'to people': 2529, 'they are': 2436, 'interested in': 1225, 'and they': 171, 'about me': 16, 'me would': 1530, 'would like': 2897, 'because like': 308, 'or even': 1840, 'way have': 2697, 'have some': 1038, 'to join': 2515, 'to have': 2510, 'help my': 1072, 'hope to': 1134, 'jessica': 1322, 'last': 1353, 'several': 2090, 'truth': 2597, 'travel': 2583, 'usually': 2628, 'live': 1418, 'stay': 2222, 'their': 2393, 'exams': 751, 'pass': 1880, 'hours': 1139, 'kamilla': 1328, 'jessica thanks': 1323, 'your mail': 2983, 'your last': 2981, 'last message': 1356, 'message you': 1557, 'to tell': 2548, 'tell the': 2290, 'the truth': 2380, 'my summer': 1665, 'summer holidays': 2247, 'because we': 316, 'we always': 2708, 'in the': 1212, 'the summer': 2376, 'we usually': 2718, 'usually spend': 2632, 'holidays at': 1118, 'people enjoy': 1894, 'holidays where': 1119, 'where they': 2802, 'they live': 2440, 'to stay': 2542, 'and spend': 166, 'spend time': 2208, 'with their': 2879, 'way would': 2703, 'ask you': 248, 'how many': 1161, 'exams did': 752, 'did the': 613, 'the exams': 2336, 'would better': 2895, 'better go': 337, 'now as': 1741, 'as have': 238, 'of homework': 1768, 'homework to': 1126, 'touch best': 2576, 'studying': 2237, 'course': 548, 'money': 1570, 'since': 2123, 'also': 75, 'cheap': 439, 'were': 2762, 'difficult': 620, 'results': 2037, 'your email': 2970, 'about holidays': 9, 'of course': 1763, 'interesting people': 1227, 'because do': 305, 'not have': 1723, 'money to': 1572, 'to travel': 2552, 'they can': 2437, 'can meet': 414, 'friends also': 866, 'also it': 80, 'know the': 1344, 'the results': 2368, 'did he': 608, 'now it': 1746, 'is time': 1271, 'all the': 69, 'internet': 1233, 'use': 2622, 'reading': 1994, 'books': 360, 'opinion': 1831, 'own': 1861, 'opportunity': 1835, 'find': 803, 'went': 2760, 'class': 461, 'trip': 2587, 'thanks lot': 2302, 'lot for': 1450, 'the internet': 2351, 'use the': 2624, 'reading books': 1995, 'well usually': 2757, 'in my': 1198, 'my opinion': 1656, 'opinion it': 1832, 'their own': 2394, 'great opportunity': 979, 'opportunity to': 1836, 'to find': 2503, 'friends by': 872, 'way it': 2698, 'your class': 2966, 'on school': 1807, 'trip to': 2589, 'long did': 1432, 'did your': 615, 'your trip': 2995, 'trip last': 2588, 'what did': 2771, 'like the': 1399, 'harry': 1011, 'writing': 2908, 'asking': 252, 'answer': 186, 'them': 2396, 'pleasure': 1931, 'answering': 192, 'first': 811, 'question': 1979, 'endangered': 722, 'animals': 181, 'known': 1345, 'personally': 1912, 'consider': 518, 'helping': 1081, 'important': 1178, 'responsible': 2033, 'lives': 1423, 'other': 1848, 'number': 1757, 'things': 2447, 'species': 2203, 'society': 2154, 'novel': 1738, 'who': 2807, 'author': 264, 'pages': 1862, 'calling': 401, 'dana': 560, 'dear harry': 584, 'to get': 2506, 'sorry for': 2185, 'for not': 840, 'not writing': 1736, 'so long': 2143, 'long was': 1441, 'answer them': 187, 'them with': 2415, 'with pleasure': 2874, 'the first': 2339, 'endangered animals': 723, 'one of': 1816, 'of the': 1780, 'important because': 1179, 'responsible for': 2035, 'is better': 1244, 'people can': 1893, 'can do': 410, 'number of': 1758, 'help endangered': 1068, 'endangered species': 724, 'is one': 1260, 'of them': 1781, 'them by': 2402, 'me more': 1520, 'more about': 1580, 'the novel': 2363, 'who is': 2809, 'the author': 2324, 'author of': 265, 'about how': 12, 'many pages': 1492, 'pages are': 1863, 'are there': 222, 'there sorry': 2427, 'parents are': 1867, 'calling me': 402, 'me write': 1531, 'nowadays': 1756, 'set': 2089, 'up': 2616, 'order': 1846, 'email it': 716, 'email you': 719, 'and am': 131, 'to answer': 2489, 'answer your': 189, 'your questions': 2990, 'are lot': 214, 'them in': 2407, 'personally think': 1913, 'in order': 1199, 'order to': 1847, 'way what': 2702, 'does it': 646, 'it have': 1296, 'there in': 2424, 'now my': 1749, 'my sister': 1664, 'is calling': 1245, 'fine': 805, 'ecotourism': 705, 'let': 1379, 'shows': 2119, 'without': 2884, 'making': 1486, 'which': 2804, 'mind': 1563, 'planet': 1922, 'clean': 467, 'youth': 2998, 'camp': 404, 'days': 572, 'an': 119, 'event': 736, 'mostly': 1593, 'sonya': 2172, 'last email': 1354, 'again hope': 52, 'fine with': 806, 'with you': 2882, 'let me': 1380, 'me answer': 1510, 'them as': 2399, 'popular in': 1939, 'we do': 2712, 'have many': 1031, 'who can': 2808, 'you also': 2924, 'to my': 2526, 'my mind': 1652, 'our planet': 1854, 'news about': 1704, 'many days': 1490, 'days did': 573, 'did it': 609, 'it take': 1305, 'it an': 1280, 'love sonya': 1459, 'excited': 754, 'messages': 1558, 'issues': 1278, 'part': 1876, 'events': 737, 'helped': 1079, 'rubbish': 2048, 'household': 1149, 'try': 2598, 'stop': 2225, 'these': 2432, 'look': 1443, 'green': 982, 'trees': 2586, 'lakes': 1347, 'museum': 1614, 'historical': 1107, 'vasilisa': 2641, 'email am': 715, 'am always': 97, 'always excited': 84, 'excited to': 755, 'get messages': 920, 'messages from': 1559, 'take part': 2266, 'part in': 1877, 'to take': 2546, 'try to': 2599, 'to stop': 2543, 'and clean': 135, 'there will': 2430, 'will be': 2819, 'the museum': 2359, 'there any': 2419, 'wishes vasilisa': 2852, 'jane': 1318, 'much': 1607, 'around': 232, 'its': 1315, 'unique': 2614, 'perfect': 1901, 'place': 1918, 'mountains': 1596, 'dear jane': 585, 'jane thank': 1319, 'well can': 2745, 'say that': 2061, 'but would': 393, 'do it': 637, 'this summer': 2460, 'because of': 311, 'live in': 1419, 'with lot': 2868, 'the trip': 2379, 'you want': 2957, 'horse': 1136, 'riding': 2038, 'unfortunately': 2612, 'awesome': 269, 'relax': 2028, 'hobby': 1112, 'cold': 482, 'transport': 2582, 'games': 906, 'among': 115, 'present': 1952, 'big': 341, 'small': 2132, 'cost': 536, 'dear dave': 582, 'about horse': 10, 'horse riding': 1137, 'unfortunately have': 2613, 'have never': 1034, 'think it': 2451, 'an awesome': 120, 'riding is': 2039, 'not popular': 1727, 'my region': 1660, 'of transport': 1785, 'as well': 244, 'well as': 2744, 'are popular': 218, 'among teens': 116, 'teens in': 2285, 'the present': 2364, 'it big': 1284, 'big or': 343, 'or small': 1844, 'small what': 2134, 'how much': 1162, 'much did': 1608, 'it cost': 1288, 'cost that': 538, 'gloria': 934, 'moving': 1601, 'moved': 1599, 'two': 2604, 'years': 2915, 'before': 324, 'father': 781, 'job': 1324, 'house': 1140, 'dreams': 667, 'floor': 817, 'traditional': 2579, 'style': 2238, 'near': 1683, 'able': 0, 'grow': 986, 'city': 460, 'town': 2578, 'vegetable': 2642, 'garden': 907, 'plants': 1926, 'growing': 988, 'dear gloria': 583, 'moving to': 1602, 'well have': 2747, 'have moved': 1033, 'to another': 2488, 'only one': 1828, 'of my': 1772, 'my father': 1635, 'the house': 2349, 'my dreams': 1632, 'house with': 1147, 'be in': 288, 'am not': 104, 'able to': 1, 'to live': 2520, 'when grow': 2787, 'grow up': 987, 'the city': 2328, 'or in': 1842, 'vegetable garden': 2643, 'the vegetable': 2382, 'there that': 2428, 'history': 1108, 'old': 1800, 'buildings': 377, 'week': 2735, 'exactly': 745, 'decorate': 601, 'looks': 1447, 'wonderful': 2885, 'club': 479, 'performance': 1902, 'well live': 2752, 'in small': 1205, 'an interesting': 124, 'that we': 2319, 'we have': 2714, 'speaking of': 2201, 'the school': 2372, 'there what': 2429, 'what are': 2767, 'when will': 2794, 'be the': 292, 'sophie': 2179, 'trips': 2590, 'teacher': 2280, 'takes': 2271, 'classmates': 466, 'cities': 459, 'seldom': 2084, 'however': 1165, 'bought': 364, 'expensive': 756, 'three': 2466, 'girls': 928, 'classmate': 463, 'real': 1997, 'parrot': 1874, 'colour': 486, 'dear sophie': 596, 'about school': 18, 'school trips': 2069, 'well my': 2754, 'go on': 941, 'my best': 1623, 'friends and': 867, 'but it': 388, 'was not': 2680, 'was the': 2682, 'the real': 2366, 'your parrot': 2988, 'parrot what': 1875, 'what colour': 2769, 'colour is': 488, 'small how': 2133, 'how old': 1164, 'old is': 1802, 'it that': 1307, 'marge': 1494, 'essential': 733, 'speak': 2198, 'make': 1475, 'career': 425, 'good': 949, 'dream': 663, 'international': 1231, 'company': 503, 'names': 1677, 'dear marge': 588, 'about languages': 14, 'to make': 2521, 'is good': 1248, 'but am': 384, 'day and': 570, 'to talk': 2547, 'talk with': 2276, 'with people': 2873, 'my dream': 1631, 'dream is': 665, 'is to': 1272, 'to work': 2559, 'work in': 2887, 'an international': 125, 'international company': 1232, 'and to': 172, 'old are': 1801, 'are they': 224, 'are their': 221, 'alice': 61, 'sorting': 2191, 'bedroom': 321, 'room': 2044, 'sort': 2189, 'dust': 686, 'furniture': 901, 'speed': 2204, 'cleaning': 470, 'tips': 2486, 'chores': 451, 'supermarket': 2250, 'grocery': 984, 'domestic': 659, 'dear alice': 577, 'alice thank': 62, 'sorting out': 2192, 'my bedroom': 1622, 'room because': 2045, 'sort out': 2190, 'out my': 1856, 'my room': 1662, 'dust the': 687, 'the furniture': 2343, 'furniture and': 902, 'clean the': 468, 'speed cleaning': 2205, 'cleaning tips': 472, 'household chores': 1151, 'chores and': 452, 'and do': 137, 'do all': 635, 'all of': 68, 'the cleaning': 2329, 'the new': 2361, 'new supermarket': 1701, 'supermarket is': 2251, 'what time': 2781, 'does the': 649, 'the supermarket': 2377, 'andy': 178, 'sociable': 2148, 'person': 1905, 'easily': 698, 'genre': 915, 'talking': 2277, 'phone': 1915, 'each': 691, 'chatting': 438, 'others': 1852, 'friend': 861, 'him': 1098, 'ones': 1817, 'common': 496, 'interests': 1229, 'wedding': 2722, 'dress': 679, 'wearing': 2720, 'dear andy': 578, 'andy thank': 179, 'and family': 140, 'sociable person': 2149, 'person and': 1906, 'and make': 153, 'make friends': 1478, 'friends easily': 874, 'friends in': 876, 'talk to': 2275, 'about their': 21, 'genre of': 916, 'to each': 2500, 'each other': 692, 'of online': 1774, 'online friends': 1825, 'to write': 2560, 'my friend': 1638, 'and ask': 133, 'him about': 1099, 'he is': 1049, 'that online': 2314, 'are better': 209, 'better than': 338, 'than real': 2297, 'real ones': 2000, 'ones they': 1821, 'and have': 146, 'real friends': 1998, 'sister wedding': 2126, 'wedding what': 2730, 'is she': 1264, 'the wedding': 2388, 'wedding that': 2729, 'lucas': 1461, 'doing': 653, 'hate': 1014, 'duties': 688, 'idea': 1167, 'pay': 1887, 'kids': 1333, 'become': 318, 'easier': 697, 'dear lucas': 587, 'lucas thanks': 1462, 'always happy': 87, 'honest hate': 1129, 'doing household': 654, 'household duties': 1152, 'too much': 2573, 'much time': 1610, 'good idea': 951, 'to pay': 2528, 'for doing': 830, 'chores because': 453, 'can get': 411, 'it in': 1299, 'around the': 233, 'house because': 1142, 'can help': 413, 'help them': 1074, 'them to': 2411, 'to become': 2493, 'more responsible': 1581, 'responsible and': 2034, 'the book': 2327, 'is its': 1256, 'book how': 358, 'am sorry': 108, 'sorry am': 2182, 'am about': 95, 'about to': 23, 'stop writing': 2226, 'writing need': 2911, 'mum now': 1613, 'wishes kate': 2836, 'believe': 326, 'dancing': 561, 'birthday': 346, 'dave thanks': 568, 'hobbies that': 1111, 'can say': 417, 'that it': 2311, 'is also': 1241, 'this hobby': 2456, 'believe that': 327, 'to music': 2525, 'music and': 1617, 'present for': 1953, 'cost is': 537, 'experience': 757, 'once': 1814, 'leave': 1373, 'hometown': 1123, 'vegetables': 2644, 'gloria thanks': 935, 'actually have': 38, 'difficult to': 622, 'to leave': 2519, 'in moscow': 1196, 'your new': 2985, 'be there': 293, 'absolutely': 29, 'sure': 2259, 'communicate': 498, 'world': 2891, 'well am': 2743, 'sure that': 2260, 'to use': 2554, 'help to': 1075, 'to communicate': 2496, 'communicate with': 499, 'with the': 2878, 'the world': 2391, 'friends what': 882, 'are your': 227, 'do they': 641, 'susan': 2261, 'fashion': 779, 'buy': 394, 'clothes': 477, 'comfortable': 495, 'kitten': 1339, 'dear susan': 597, 'susan thanks': 2262, 'idea of': 1168, 'going shopping': 947, 'shopping and': 2111, 'you to': 2955, 'to buy': 2494, 'most of': 1590, 'them are': 2398, 'clothes because': 478, 'are very': 225, 'course my': 550, 'love to': 1460, 'so they': 2145, 'your kitten': 2980, 'kitten what': 1340, 'name what': 1675, 'weather': 2721, 'wear': 2719, 'yet': 2919, 'different': 616, 'dresses': 681, 'shirts': 2109, 'fancy': 775, 'party': 1879, 'visited': 2659, 'weekend': 2738, 'guests': 991, 'full': 896, 'the weather': 2387, 'you can': 2933, 'that the': 2317, 'and usually': 174, 'when we': 2793, 'are on': 217, 'on holiday': 1805, 'you should': 2950, 'you will': 2958, 'them if': 2406, 'if you': 1176, 'take place': 2267, 'place how': 1919, 'many guests': 1491, 'were there': 2763, 'was it': 2679, 'full of': 897, 'mess': 1551, 'times': 2484, 'process': 1965, 'amount': 117, 'mom': 1567, 'alice thanks': 63, 'always try': 92, 'not like': 1725, 'when it': 2790, 'times week': 2485, 'better to': 339, 'listen to': 1416, 'when you': 2795, 'clean up': 469, 'your room': 2992, 'amount of': 118, 'my mom': 1653, 'ralph': 1987, 'relationship': 2024, 'sometimes': 2168, 'arguments': 229, 'relatives': 2027, 'fall': 766, 'bad': 275, 'eye': 760, 'members': 1541, 'support': 2252, 'solve': 2156, 'dear ralph': 594, 'ralph thanks': 1989, 'relationship with': 2025, 'family of': 772, 'sometimes have': 2169, 'have arguments': 1018, 'arguments with': 230, 'my relatives': 1661, 'fall out': 767, 'out with': 1857, 'with them': 2880, 'them because': 2401, 'at school': 259, 'school when': 2071, 'when get': 2786, 'not see': 1728, 'eye to': 761, 'to eye': 2502, 'with each': 2859, 'from time': 892, 'to time': 2551, 'but my': 389, 'family members': 771, 'members always': 1542, 'always support': 90, 'support me': 2256, 'me when': 1528, 'when have': 2788, 'problems and': 1960, 'and help': 147, 'to solve': 2539, 'new classmate': 1697, 'classmate what': 465, 'is her': 1252, 'her name': 1087, 'name how': 1672, 'she what': 2108, 'what does': 2773, 'does she': 648, 'she look': 2105, 'look like': 1444, 'like am': 1389, 'writing because': 2909, 'because need': 310, 'mum about': 1612, 'house write': 1148, 'lots': 1453, 'reliable': 2029, 'life': 1385, 'worse': 2892, 'both': 363, 'lend': 1376, 'hand': 998, 'countryside': 547, 'andy thanks': 180, 'about friends': 6, 'am very': 110, 'person so': 1909, 'lots of': 1454, 'of people': 1776, 'also have': 78, 'friends from': 875, 'people who': 1899, 'in difficult': 1192, 'are not': 216, 'friends because': 871, 'guests will': 992, 'wedding when': 2731, 'will it': 2820, 'it be': 1282, 'be will': 296, 'the countryside': 2332, 'nora': 1712, 'personal': 1910, 'qualities': 1975, 'hard': 1005, 'working': 2889, 'patient': 1885, 'self': 2085, 'confident': 512, 'realise': 2001, 'achieve': 30, 'success': 2240, 'elder': 707, 'brother': 367, 'dear nora': 592, 'nora thanks': 1714, 'my wishes': 1667, 'dream of': 666, 'for personal': 842, 'personal qualities': 1911, 'think need': 2452, 'be hard': 284, 'hard working': 1009, 'patient and': 1886, 'and self': 162, 'self confident': 2087, 'to realise': 2532, 'all my': 67, 'their support': 2395, 'on my': 1806, 'your elder': 2969, 'elder brother': 708, 'brother what': 375, 'your brother': 2965, 'he look': 1051, 'move': 1597, 'st': 2216, 'petersburg': 1914, 'apartment': 204, 'furthermore': 903, 'center': 433, 'drop': 682, 'line': 1408, 'alex': 60, 'recent mail': 2016, 'mail you': 1472, 'but in': 387, 'move to': 1598, 'st petersburg': 2217, 'dream about': 664, 'because there': 312, 'how big': 1155, 'big is': 342, 'in it': 1195, 'now drop': 1743, 'drop me': 683, 'me line': 1519, 'line best': 1410, 'wishes alex': 2829, 'cathleen': 429, 'festivals': 796, 'adore': 43, 'maslenitsa': 1502, 'festival': 795, 'celebration': 432, 'attend': 263, 'pancakes': 1864, 'pumpkin': 1972, 'dear cathleen': 581, 'cathleen thanks': 430, 'of different': 1764, 'an important': 123, 'my country': 1628, 'your own': 2986, 'family and': 770, 'and always': 130, 'we get': 2713, 'have good': 1024, 'time by': 2473, 'pumpkin how': 1973, 'would you': 2902, 'similar': 2121, 'especially': 732, 'table': 2263, 'tidy': 2468, 'twice': 2603, 'rarely': 1990, 'fact': 764, 'advise': 46, 'routine': 2047, 'well actually': 2740, 'have similar': 1037, 'room is': 2046, 'the table': 2378, 'tidy up': 2469, 'up my': 2618, 'and that': 169, 'so rarely': 2144, 'the fact': 2337, 'is that': 1267, 'advise you': 47, 'up with': 2619, 'about this': 22, 'this supermarket': 2461, 'have you': 1043, 'is this': 1270, 'you go': 2938, 'cases': 428, 'no': 1710, 'matter': 1503, 'girl': 925, 'ago': 56, 'about arguments': 3, 'family well': 774, 'in most': 1197, 'most cases': 1588, 'this is': 2457, 'that my': 2312, 'family always': 769, 'no matter': 1711, 'girl what': 927, 'she like': 2103, 'like how': 1393, 'long ago': 1431, 'did she': 612, 'she come': 2098, 'come to': 491, 'to your': 2562, 'happens': 1002, 'happen': 1001, 'wash': 2684, 'right': 2040, 'away': 267, 'everyone': 743, 'course have': 549, 'wash the': 2685, 'the dishes': 2333, 'me by': 1512, 'she have': 2101, 'hobby that': 1113, 'wishes dasha': 2835, 'high': 1093, 'university': 2615, 'anyway': 201, 'discipline': 627, 'anyone': 198, 'change': 436, 'point': 1932, 'about dreams': 4, 'dreams well': 677, 'have two': 1041, 'dreams to': 676, 'to pass': 2527, 'pass my': 1881, 'my exams': 1633, 'and go': 144, 'need such': 1689, 'such personal': 2245, 'qualities as': 1976, 'working and': 2890, 'and patient': 160, 'besides do': 329, 'tell anyone': 2287, 'anyone about': 199, 'dreams because': 669, 'them and': 2397, 'he what': 1052, 'successful': 2241, 'future': 904, 'realize': 2003, 'develop': 606, 'recent message': 2017, 'message am': 1553, 'am really': 105, 'really glad': 2007, 'well also': 2741, 'and in': 148, 'the future': 2344, 'to realize': 2533, 'to develop': 2498, 'not tell': 1731, 'my life': 1650, 'not know': 1724, 'brother how': 371, 'brother name': 373, 'wide': 2815, 'jeans': 1320, 'done': 660, 'almost': 70, 'possible': 1942, 'convenient': 525, 'follow': 823, 'play': 1927, 'energy': 725, 'glad that': 932, 'are going': 211, 'for some': 844, 'jeans and': 1321, 'really like': 2009, 'not only': 1726, 'but also': 383, 'passed': 1883, 'therefore': 2431, 'floors': 820, 'is hard': 1250, 'hard to': 1007, 'in such': 1210, 'that need': 2313, 'possible to': 1944, 'moment': 1569, 'true': 2593, 'confidence': 511, 'hiking': 1096, 'hike': 1095, 'nastya': 1680, 'get message': 919, 'message from': 1554, 'of dreams': 1765, 'dreams but': 670, 'my main': 1651, 'main dream': 1474, 'at this': 261, 'not to': 1733, 'come true': 492, 'must have': 1620, 'hard work': 1008, 'self confidence': 2086, 'brother where': 376, 'brother go': 370, 'long will': 1442, 'wishes nastya': 2842, 'character': 437, 'lera': 1377, 'questions well': 1982, 'the kitten': 2352, 'have what': 1042, 'wishes lera': 2838, 'put': 1974, 'large': 1352, 'in their': 1213, 'and not': 157, 'thanks to': 2303, 'week to': 2736, 'things by': 2448, 'are the': 220, 'barbara': 276, 'centre': 434, 'flat': 815, 'bright': 366, 'bed': 320, 'sofa': 2155, 'living': 1425, 'dark': 564, 'dear barbara': 579, 'my house': 1647, 'house well': 1146, 'live near': 1420, 'favourite place': 789, 'living in': 1426, 'or dark': 1838, 'is there': 1269, 'vacuuming': 2636, 'housework': 1153, 'washing': 2686, 'boring': 361, 'lawn': 1363, 'mower': 1603, 'warranty': 2673, 'period': 1903, 'dear mark': 589, 'mark thanks': 1498, 'about household': 11, 'chores well': 454, 'well always': 2742, 'always help': 88, 'parents around': 1868, 'house for': 1144, 'do the': 640, 'helping my': 1082, 'parents with': 1872, 'the housework': 2350, 'want them': 2668, 'and washing': 175, 'washing the': 2687, 'boring and': 362, 'your father': 2972, 'father lawn': 783, 'lawn mower': 1364, 'mower how': 1604, 'how often': 1163, 'often does': 1793, 'does your': 650, 'the lawn': 2355, 'mower what': 1606, 'the warranty': 2384, 'warranty period': 2674, 'period of': 1904, 'outgoing': 1858, 'sports': 2215, 'social': 2150, 'media': 1532, 'met': 1560, 'friends well': 881, 'well make': 2753, 'make new': 1481, 'new friends': 1698, 'of friends': 1766, 'friends on': 877, 'on social': 1808, 'social media': 2151, 'in different': 1191, 'different cities': 617, 'than online': 2296, 'online because': 1823, 'in person': 1201, 'person by': 1907, 'what style': 2780, 'will the': 2822, 'wedding be': 2723, 'be how': 287, 'be at': 283, 'wedding where': 2732, 'wedding take': 2728, 'place that': 1920, 'alone': 71, 'entering': 731, 'taking': 2272, 'ambitious': 113, 'afraid': 48, 'someone': 2163, 'when am': 2784, 'should be': 2115, 'be responsible': 291, 'ambitious and': 114, 'make my': 1480, 'because am': 302, 'am afraid': 96, 'afraid that': 49, 'they will': 2445, 'will not': 2821, 'not come': 1720, 'true by': 2594, 'he go': 1046, 'go hiking': 939, 'with him': 2863, 'with someone': 2877, 'finished': 809, 'project': 1967, 'sasha': 2059, 'always glad': 85, 'well do': 2746, 'book you': 359, 'you bought': 2931, 'the genre': 2346, 'of it': 1770, 'it who': 1311, 'much does': 1609, 'is high': 1253, 'high time': 1094, 'time finished': 2477, 'finished my': 810, 'school project': 2068, 'project drop': 1969, 'wishes sasha': 2847, 'reckon': 2020, 'reckon it': 2021, 'very interesting': 2648, 'present what': 1954, 'it how': 1298, 'it sorry': 1304, 'teachers': 2281, 'memorable': 1546, 'boy': 365, 'calm': 403, 'it happens': 1294, 'its name': 1316, 'second': 2076, 'minutes': 1564, 'far': 776, 'so it': 2142, 'yes have': 2918, 'makes the': 1485, 'time did': 2475, 'did my': 610, 'located': 1428, 'fond': 824, 'had': 994, 'being': 325, 'space': 2196, 'thing': 2446, 'which is': 2805, 'my time': 1666, 'fond of': 825, 'your favourite': 2974, 'walking': 2666, 'mop': 1575, 'lawnmower': 1365, 'mark thank': 1497, 'my household': 1648, 'with housework': 2866, 'am responsible': 106, 'mop the': 1576, 'the floor': 2340, 'washing up': 2688, 'it takes': 1306, 'lawnmower what': 1367, 'how does': 1158, 'it work': 1313, 'few': 797, 'enter': 730, 'necessary': 1686, 'close': 473, 'nora thank': 1713, 'the last': 2353, 'have few': 1022, 'few dreams': 798, 'to enter': 2501, 'and ambitious': 132, 'my close': 1626, 'close friends': 474, 'friends about': 865, 'support is': 2255, 'important for': 1181, 'anyway have': 202, 'drawing': 662, 'darina': 563, 'far from': 778, 'of time': 1784, 'popular hobbies': 1938, 'you buy': 2932, 'buy it': 395, 'it will': 1312, 'wishes darina': 2834, 'beautiful': 297, 'nearby': 1685, 'would say': 2899, 'garden and': 908, 'the garden': 2345, 'fun': 898, 'sochi': 2147, 'result': 2036, 'choose': 448, 'jack': 1317, 'of fun': 1767, 'fun holidays': 899, 'holidays and': 1117, 'make it': 1479, 'it did': 1289, 'why did': 2812, 'you choose': 2934, 'your pumpkin': 2989, 'run': 2050, 'business': 378, 'help you': 1078, 'successful career': 2242, 'as you': 245, 'be able': 281, 'from different': 887, 'in fact': 1193, 'really want': 2010, 'languages in': 1351, 'my future': 1640, 'future career': 905, 'career and': 426, 'for an': 829, 'you am': 2925, 'money for': 1571, 'well it': 2750, 'prefer to': 1946, 'to wear': 2558, 'dying': 689, 'of something': 1778, 'it can': 1286, 'can be': 408, 'way am': 2696, 'am dying': 98, 'dying to': 690, 'went to': 2761, 'last week': 1358, 'like it': 1395, 'many people': 1493, 'people were': 1898, 'cozy': 553, 'so we': 2146, 'we can': 2711, 'and friends': 141, 'like that': 1398, 'stand': 2218, 'watering': 2692, 'flowers': 821, 'mopping': 1577, 'least': 1370, 'chore': 449, 'not stand': 1730, 'the clothes': 2330, 'mopping the': 1578, 'talking about': 2278, 'my least': 1649, 'least favorite': 1371, 'household chore': 1150, 'vacuuming the': 2637, 'floor because': 819, 'house and': 1141, 'take the': 2268, 'day by': 571, 'father lawnmower': 784, 'stubborn': 2232, 'caring': 427, 'ralph thank': 1988, 'problems they': 1963, 'and caring': 134, 'come from': 490, 'from what': 893, 'cool': 535, 'tall': 2279, 'short': 2113, 'make your': 1483, 'your dreams': 2968, 'dreams come': 672, 'dreams with': 678, 'name is': 1673, 'when is': 2789, 'ton': 2570, 'may': 1504, 'reason': 2011, 'damir': 559, 'thanks ton': 2304, 'ton for': 2571, 'well like': 2751, 'like doing': 1391, 'do household': 636, 'if they': 1173, 'the room': 2369, 'book have': 357, 'wishes damir': 2833, 'during': 684, 'parents well': 1871, 'parents during': 1869, 'during the': 685, 'the week': 2390, 'floor and': 818, 'watering the': 2693, 'the flowers': 2342, 'least favourite': 1372, 'favourite household': 788, 'actually do': 37, 'it because': 1283, 'new lawnmower': 1699, 'dangerous': 562, 'useful': 2627, 'because think': 314, 'ever': 738, 'london': 1429, 'been': 322, 'long has': 1436, 'been there': 323, 'etc': 734, 'movies': 1600, 'have different': 1021, 'of how': 1769, 'it usually': 1308, 'us': 2620, 'amazing': 111, 'you ask': 2927, 'ask me': 247, 'us to': 2621, 'for how': 835, 'often it': 1795, 'it look': 1301, 'it every': 1291, 'as my': 240, 'have any': 1017, 'need it': 1688, 'when the': 2791, 'nothing': 1737, 'information': 1220, 'if do': 1170, 'tell my': 2289, 'where does': 2800, 'time best': 2472, 'just': 1327, 'impossible': 1184, 'found': 855, 'whom': 2810, 'invited': 1236, 'about making': 15, 'making friends': 1487, 'fact that': 765, 'in real': 1202, 'real life': 1999, 'and online': 159, 'impossible to': 1185, 'friends online': 878, 'because all': 301, 'have been': 1020, 'invited to': 1237, 'fortunately': 852, 'socialise': 2152, 'understand': 2607, 'wavelength': 2694, 'honestly': 1130, 'became': 298, 'contact': 522, 'friends as': 869, 'me am': 1508, 'socialise with': 2153, 'understand that': 2609, 'same wavelength': 2058, 'honestly have': 1131, 'became friends': 299, 'opinion online': 1833, 'as good': 237, 'good as': 950, 'as real': 242, 'ones because': 1818, 'besides you': 330, 'to know': 2517, 'life by': 1386, 'wedding how': 2724, 'now looking': 1748, 'distance': 633, 'feel': 792, 'alena': 59, 'usually make': 2631, 'but sometimes': 390, 'friends can': 873, 'wishes alena': 2828, 'themselves': 2416, 'via': 2651, 'communication': 502, 'me usually': 1527, 'friends at': 870, 'start to': 2221, 'other people': 1851, 'friends with': 883, 'people via': 1897, 'via social': 2652, 'years ago': 2916, 'and now': 158, 'now we': 1753, 'wedding present': 2726, 'sister what': 2127, 'for her': 834, 'acquainted': 32, 'parks': 1873, 'moreover': 1583, 'held': 1064, 'siranush': 2124, 'oh it': 1799, 'great that': 980, 'people at': 1892, 'similar interests': 2122, 'get acquainted': 918, 'acquainted with': 33, 'friends via': 880, 'media and': 1533, 'can also': 406, 'also always': 76, 'always there': 91, 'there be': 2421, 'now would': 1754, 'know more': 1342, 'held how': 1065, 'people will': 1900, 'now hope': 1745, 'soon all': 2174, 'best siranush': 334, 'alina': 64, 'me have': 1514, 'and close': 136, 'we became': 2710, 'new people': 1700, 'easy going': 701, 'going and': 946, 'lot in': 1451, 'in common': 1189, 'is more': 1257, 'ones but': 1819, 'far away': 777, 'way want': 2701, 'you some': 2951, 'will there': 2823, 'me hope': 1515, 'already': 73, 'mood': 1574, 'emotions': 720, 'seems': 2080, 'mentioned': 1547, 'invite': 1235, 'chosen': 456, 'varya': 2640, 'hope you': 1135, 'doing well': 658, 'we just': 2715, 'next to': 1707, 'other and': 1849, 'it seems': 1303, 'important to': 1183, 'have mentioned': 1032, 'mentioned your': 1550, 'her wedding': 1089, 'has she': 1013, 'already chosen': 74, 'wishes varya': 2851, 'conversation': 526, 'seen': 2083, 'definitely': 602, 'friendship': 884, 'code': 480, 'outside': 1859, 'polina': 1936, 'is easy': 1247, 'usually try': 2633, 'to start': 2541, 'conversation with': 527, 'person have': 1908, 'in social': 1207, 'as am': 235, 'are many': 215, 'an opportunity': 126, 'to meet': 2523, 'dress code': 680, 'be held': 285, 'back as': 272, 'as soon': 243, 'soon as': 2175, 'as possible': 241, 'possible best': 1943, 'wishes polina': 2843, 'acquaintances': 31, 'between': 340, 'and my': 156, 'most often': 1591, 'friend on': 863, 'are as': 208, 'be on': 290, 'do your': 643, 'have the': 1039, 'wedding or': 2725, 'competitions': 506, 'courses': 551, 'supportive': 2257, 'childhood': 442, 'people in': 1896, 'school because': 2064, 'media we': 1536, 'are really': 219, 'supportive and': 2258, 'spending time': 2211, 'there for': 2422, 'for each': 831, 'other by': 1850, 'sorry need': 2187, 'share': 2094, 'for help': 833, 'help and': 1067, 'and get': 142, 'they have': 2439, 'wedding sorry': 2727, 'through': 2467, 'adriana': 44, 'friendship well': 885, 'with it': 2867, 'become friends': 319, 'someone via': 2164, 'media but': 1534, 'am sure': 109, 'can support': 418, 'you mentioned': 2948, 'any special': 197, 'now keep': 1747, 'in contact': 1190, 'cheerful': 440, 'gift': 924, 'are doing': 210, 'often make': 1796, 'different events': 618, 'with girl': 2861, 'girl via': 926, 'anyway you': 203, 'this present': 2458, 'still': 2223, 'katya': 1330, 'wrote': 2913, 'about friendship': 7, 'can have': 412, 'have become': 1019, 'we still': 2717, 'still keep': 2224, 'and share': 163, 'be more': 289, 'can always': 407, 'always be': 83, 'line all': 1409, 'best katya': 332, 'volunteer': 2662, 'face': 763, 'comes': 493, 'snezhana': 2135, 'it comes': 1287, 'comes to': 494, 'friends or': 879, 'because can': 304, 'meet them': 1539, 'them at': 2400, 'at any': 257, 'long is': 1438, 'wishes snezhana': 2848, 'communicating': 500, 'screen': 2073, 'weeding': 2734, 'anastasia': 127, 'communicating with': 501, 'very important': 2647, 'the weeding': 2389, 'wishes anastasia': 2831, 'hard for': 1006, 'seems to': 2082, 'me that': 1525, 'can become': 409, 'to him': 2514, 'does not': 647, 'online friend': 1824, 'strike': 2229, 'based': 277, 'masha': 1501, 'shape': 2091, 'tserena': 2600, 'strike up': 2230, 'up friendship': 2617, 'she lives': 2104, 'away from': 268, 'from me': 888, 'what shape': 2778, 'is always': 1242, 'always nice': 89, 'nice to': 1709, 'touch with': 2577, 'sometimes it': 2170, 'with us': 2881, 'code for': 481, 'circle': 457, 'closest': 475, 'tend': 2292, 'mail always': 1468, 'making new': 1488, 'circle of': 458, 'my closest': 1627, 'closest friends': 476, 'tend to': 2293, 'interests and': 1230, 'this wedding': 2462, 'that all': 2306, 'best polina': 333, 'getting': 923, 'local': 1427, 'lastly': 1359, 'hearted': 1063, 'dad': 556, 'vacuum': 2634, 'rimma': 2041, 'mail it': 1470, 'always great': 86, 'you let': 2946, 'the questions': 2365, 'questions you': 1983, 'asked in': 250, 'usually do': 2629, 'in some': 1208, 'and kind': 151, 'kind hearted': 1335, 'way you': 2704, 'my dad': 1629, 'dad asked': 558, 'wishes rimma': 2844, 'color': 484, 'irina': 1238, 'about that': 19, 'what color': 2768, 'color is': 485, 'situation': 2128, 'mail message': 1471, 'message hope': 1555, 'media have': 1535, 'of us': 1787, 'this situation': 2459, 'be where': 295, 'planning': 1923, 'kseniya': 1346, 'reckon that': 2022, 'wedding will': 2733, 'wishes kseniya': 2837, 'needs': 1691, 'rusya': 2054, 'to school': 2536, 'wishes rusya': 2845, 'call': 400, 'walk': 2664, 'any problems': 196, 'them for': 2404, 'for walk': 847, 'not think': 1732, 'have lots': 1030, 'and keep': 150, 'more than': 1582, 'line love': 1412, 'love katya': 1456, 'guess': 989, 'rather': 1992, 'vika': 2654, 'moscow and': 1586, 'actually think': 39, 'me back': 1511, 'wishes vika': 2853, 'me and': 1509, 'with me': 2870, 'well need': 2755, 'gregarious': 983, 'meeting': 1540, 'and love': 152, 'never had': 1693, 'to strike': 2544, 'me so': 1522, 'are invited': 212, 'line with': 1413, 'love polina': 1458, 'addition': 42, 'despite': 605, 'provide': 1971, 'understanding': 2611, 'lilia': 1404, 'common in': 497, 'in addition': 1187, 'wishes lilia': 2839, 'ready': 1996, 'obviously': 1759, 'have in': 1028, 'with some': 2876, 'some of': 2159, 'of these': 1782, 'guess that': 990, 'discuss': 628, 'school we': 2070, 'support each': 2254, 'have fun': 1023, 'ones by': 1820, 'frankly': 856, 'weekdays': 2737, 'frankly speaking': 857, 'it hard': 1295, 'however it': 1166, 'it by': 1285, 'on weekdays': 1812, 'celebrated': 431, 'email always': 714, 'line lots': 1411, 'of love': 1771, 'instance': 1222, 'wide circle': 2816, 'for instance': 836, 'am interested': 102, 'she is': 2102, 'my own': 1657, 'go drop': 938, 'group': 985, 'add': 41, 'school events': 2066, 'and start': 167, 'feeling': 793, 'so have': 2140, 'heard': 1060, 'alyona': 93, 'seems like': 2081, 'wishes alyona': 2830, 'trouble': 2591, 'support and': 2253, 'rely': 2030, 'please': 1929, 'vary': 2639, 'because have': 306, 'can rely': 416, 'rely on': 2031, 'on them': 1810, 'now tell': 1752, 'now please': 1751, 'please drop': 1930, 'wishes vary': 2850, 'lily': 1405, 'grandparents': 968, 'grandmothers': 967, 'grandfather': 960, 'grandmother': 964, 'side': 2120, 'village': 2655, 'cooking': 533, 'water': 2690, 'granny': 975, 'biscuits': 347, 'chocolate': 444, 'dear lily': 586, 'lily thanks': 1407, 'my grandparents': 1644, 'grandparents well': 974, 'two grandmothers': 2605, 'and even': 139, 'great grandmother': 978, 'my grandmother': 1643, 'grandmother and': 965, 'and grandfather': 145, 'father side': 785, 'grandmother lives': 966, 'lives in': 1424, 'in village': 1216, 'grandparents for': 970, 'or do': 1839, 'the cooking': 2331, 'the village': 2383, 'water the': 2691, 'flowers by': 822, 'your granny': 2979, 'granny biscuits': 976, 'biscuits what': 354, 'chocolate are': 445, 'they made': 2442, 'made of': 1466, 'shape are': 2092, 'they that': 2443, 'cousins': 552, 'grandma': 961, 'computer': 510, 'recipe': 2018, 'have grandparents': 1027, 'grandparents they': 973, 'visit them': 2658, 'helped my': 1080, 'my grandma': 1642, 'with his': 2864, 'is difficult': 1246, 'difficult for': 621, 'him to': 1100, 'your grandma': 2977, 'grandma chocolate': 963, 'chocolate biscuits': 446, 'the recipe': 2367, 'these biscuits': 2433, 'it difficult': 1290, 'her to': 1088, 'cook them': 531, 'them how': 2405, 'wishes arina': 2832, 'grand': 958, 'ingredients': 1221, 'grand parents': 959, 'live with': 1422, 'me in': 1516, 'for them': 846, 'biscuits how': 349, 'them what': 2413, 'what ingredients': 2775, 'she use': 2107, 'use for': 2623, 'she cook': 2099, 'them that': 2410, 'role': 2042, 'gardening': 910, 'lily thank': 1406, 'message was': 1556, 'that they': 2318, 'important role': 1182, 'grandparents live': 972, 'not far': 1722, 'doing the': 657, 'biscuits sorry': 352, 'consist': 519, 'prepare': 1947, 'we meet': 2716, 'love my': 1457, 'very much': 2650, 'the floors': 2341, 'consist of': 520, 'the biscuits': 2326, 'long do': 1433, 'make biscuits': 1476, 'first time': 813, 'lucky': 1463, 'earlier was': 696, 'busy doing': 380, 'about grandparents': 8, 'am lucky': 103, 'time together': 2482, 'with cooking': 2857, 'cooking by': 534, 'grandma biscuits': 962, 'recipe how': 2019, 'your grandmother': 2978, 'filling': 799, 'have grandmother': 1026, 'house in': 1145, 'them so': 2409, 'biscuits are': 348, 'homework write': 1127, 'with all': 2856, 'my help': 1645, 'and supportive': 168, 'mother and': 1595, 'to them': 2550, 'usually help': 2630, 'give me': 930, 'often do': 1792, 'helping them': 1083, 'visit my': 2657, 'every summer': 741, 'got grandparents': 955, 'live not': 1421, 'often as': 1791, 'the dog': 2334, 'also help': 79, 'biscuits made': 351, 'part of': 1878, 'they always': 2435, 'near my': 1684, 'so can': 2137, 'in any': 1188, 'take to': 2269, 'size': 2130, 'biscuits which': 355, 'biscuits is': 350, 'biscuits that': 353, 'cottage': 540, 'to come': 2495, 'how did': 1156, 'she make': 2106, 'doing it': 655, 'sorry but': 2183, 'often help': 1794, 'the shopping': 2374, 'the washing': 2385, 'easy to': 702, 'writing it': 2910, 'mom about': 1568, 'spent': 2212, 'grandparents have': 971, 'and all': 129, 'her with': 1090, 'spent time': 2213, 'lot about': 1449, 'see them': 2079, 'them often': 2408, 'dishes and': 631, 'every time': 742, 'dinner': 623, 'can wash': 419, 'store': 2227, 'health': 1053, 'care of': 424, 'the grocery': 2347, 'the shape': 2373, 'shape of': 2093, 'of biscuits': 1762, 'are these': 223, 'you about': 2921, 'help her': 1069, 'with household': 2865, 'chocolate or': 447, 'dark chocolate': 565, 'cleaning the': 471, 'to walk': 2556, 'ill': 1177, 'my grandfather': 1641, 'when was': 2792, 'they look': 2441, 'like sorry': 1397, 'them do': 2403, 'energy and': 726, 'send': 2088, 'contain': 523, 'them very': 2412, 'help with': 1076, 'cook the': 530, 'end': 721, 'laundry': 1362, 'the email': 2335, 'together by': 2564, 'about it': 13, 'how do': 1157, 'the laundry': 2354, 'cookies': 532, 'in sochi': 1206, 'shopping because': 2112, 'sorry about': 2181, 'garden by': 909, 'kitchen': 1338, 'dish': 629, 'help him': 1070, 'him with': 1101, 'with our': 2872, 'mary thank': 1500, 'now have': 1744, 'like helping': 1392, 'grandparents and': 969, 'while': 2806, 'really happy': 2008, 'time for': 2478, 'feed the': 791, 'or with': 1845, 'maria': 1495, 'and the': 170, 'what size': 2779, 'generous': 914, 'from my': 889, 'and try': 173, 'valya': 2638, 'wishes valya': 2849, 'parents they': 1870, 'and so': 164, 'so do': 2138, 'vacuum the': 2635, 'cook it': 529, 'well you': 2759, 'are kind': 213, 'cheerful and': 441, 'model': 1566, 'miss': 1565, 'middle': 1561, 'them when': 2414, 'sometimes we': 2171, 'make dinner': 1477, 'long have': 1437, 'colour are': 487, 'could': 541, 'strong': 2231, 'dreams for': 673, 'example want': 750, 'realise my': 2002, 'house drop': 1143, 'hardworking': 1010, 'thoughts': 2465, 'dreams as': 668, 'another country': 185, 'country and': 546, 'be ambitious': 282, 'share my': 2095, 'first of': 812, 'of all': 1761, 'the university': 2381, 'myself': 1668, 'fulfill': 895, 'trust': 2595, 'down': 661, 'must be': 1619, 'to fulfill': 2505, 'to share': 2537, 'brother look': 372, 'abroad': 28, 'to good': 2508, 'good university': 952, 'also dream': 77, 'very long': 2649, 'to study': 2545, 'pass the': 1882, 'realize my': 2004, 'of new': 1773, 'with good': 2862, 'most important': 1589, 'important dream': 1180, 'parents about': 1866, 'ambition': 112, 'also want': 81, 'that will': 2320, 'mentioned that': 1548, 'that your': 2322, 'goals': 944, 'relationships': 2026, 'eyes': 762, 'dreams have': 674, 'connected': 516, 'education': 706, 'decided': 599, 'intelligent': 1223, 'dreams they': 675, 'connected with': 517, 'decided to': 600, 'trust them': 2596, 'alone or': 72, 'industrious': 1218, 'industrious and': 1219, 'hiking that': 1097, 'except': 753, 'to move': 2524, 'should not': 2116, 'be very': 294, 'how is': 1159, 'economics': 704, 'stand by': 2219, 'by me': 397, 'me it': 1518, 'dreams by': 671, 'like does': 1390, 'into': 1234, 'based on': 278, 'and moving': 155, 'another city': 184, 'what hobbies': 2774, 'hobbies does': 1110, 'he have': 1048, 'advice': 45, 'and give': 143, 'me is': 1517, 'think they': 2454, 'receive': 2012, 'to receive': 2534, 'not do': 1721, 'to show': 2538, 'something for': 2166, 'patience': 1884, 'understand my': 2608, 'traits': 2581, 'possibility': 1941, 'spanish': 2197, 'study in': 2236, 'in spanish': 1209, 'is too': 1273, 'is something': 1266, 'whenever': 2796, 'and some': 165, 'will always': 2818, 'me now': 1521, 'those': 2463, 'situations': 2129, 'like is': 1394, 'sad': 2055, 'compromise': 507, 'nevertheless': 1694, 'openly': 1829, 'your dad': 2967, 'were you': 2764, 'you would': 2959, 'would talk': 2900, 'find compromise': 804, 'members because': 1545, 'nevertheless they': 1695, 'listen openly': 1415, 'openly to': 1830, 'conflict': 513, 'argue': 228, 'if were': 1175, 'would listen': 2898, 'dad and': 557, 'my point': 1659, 'point of': 1933, 'of view': 1788, 'to understand': 2553, 'members are': 1544, 'she from': 2100, 'disagreements': 626, 'points': 1934, 'yulia': 2999, 'different points': 619, 'points of': 1935, 'problems by': 1961, 'quarrel': 1977, 'compromise with': 509, 'problems in': 1962, 'like where': 1402, 'from sorry': 890, 'conflicts': 514, 'avoid': 266, 'lately': 1360, 'you hope': 2942, 'about family': 5, 'well if': 2748, 'would try': 2901, 'to avoid': 2491, 'if have': 1172, 'peace': 1890, 'they do': 2438, 'classmate how': 464, 'deal': 574, 'make up': 1482, 'you it': 2944, 'am in': 101, 'deal with': 575, 'hair': 997, 'not understand': 1734, 'with dad': 2858, 'your future': 2976, 'rarely have': 1991, 'opinions': 1834, 'your school': 2993, 'compromise in': 508, 'feelings': 794, 'little': 1417, 'members and': 1543, 'she an': 2097, 'less': 1378, 'disagree': 624, 'disagree with': 625, 'hold': 1114, 'appreciate': 205, 'quarrel with': 1978, 'get on': 921, 'on well': 1813, 'well with': 2758, 'really appreciate': 2006, 'understand your': 2610, 'handle': 999, 'to handle': 2509, 'handle the': 1000, 'the situation': 2375, 'troubles': 2592, 'so if': 2141, 'subjects': 2239, 'the help': 2348, 'help of': 1073, 'your parents': 2987, 'student': 2233, 'family we': 773, 'of our': 1775, 'that can': 2307, 'function': 900, 'it function': 1293, 'responsibilities': 2032, 'consuming': 521, 'dishwasher': 632, 'chore is': 450, 'time consuming': 2474, 'why do': 2813, 'you already': 2923, 'the lawnmower': 2356, 'it for': 1292, 'work what': 2888, 'electric': 709, 'gas': 911, 'lawnmower how': 1366, 'an electric': 121, 'electric or': 710, 'or gas': 1841, 'gas lawn': 912, 'mower sorry': 1605, 'totally': 2574, 'back to': 274, 'as it': 239, 'the rubbish': 2370, 'rubbish out': 2049, 'should say': 2117, 'because believe': 303, 'that parents': 2315, 'it as': 1281, 'where can': 2798, 'lunch': 1464, 'bill': 344, 'dear bill': 580, 'bill thank': 345, 'could not': 542, 'not write': 1735, 'write you': 2907, 'have already': 1016, 'mentioned travelling': 1549, 'what countries': 2770, 'countries would': 544, 'take your': 2270, 'go as': 937, 'friend is': 862, 'is asking': 1243, 'asking me': 253, 'help write': 1077, 'tom': 2568, 'leaving': 1375, 'government': 957, 'dear tom': 598, 'tom thank': 2569, 'but unfortunately': 392, 'travel alone': 2584, 'you been': 2929, 'there have': 2423, 'morning': 1584, 'car': 420, 'writing you': 2912, 'for so': 843, 'long spent': 1439, 'time doing': 2476, 'doing school': 656, 'hope that': 1133, 'why have': 2814, 'you decided': 2935, 'his car': 1103, 'car write': 421, 'did not': 611, 'you write': 2960, 'theater': 2392, 'cuisine': 554, 'project am': 1968, 'my brother': 1625, 'brother asked': 368, 'his homework': 1105, 'something that': 2167, 'general': 913, 'cultural': 555, 'in general': 1194, 'congratulations': 515, 'presents': 1955, 'there lot': 2426, 'prize': 1957, 'long had': 1435, 'that in': 2309, 'if had': 1171, 'projects': 1970, 'novels': 1739, 'read': 1993, 'would choose': 2896, 'mike': 1562, 'sorry could': 2184, 'father is': 782, 'wishes mike': 2841, 'walk my': 2665, 'film': 800, 'not answer': 1716, 'answer you': 188, 'you earlier': 2936, 'to read': 2531, 'the film': 2338, 'schools': 2072, 'brother wants': 374, 'preparing': 1949, 'was preparing': 2681, 'preparing to': 1951, 'you had': 2940, 'school performance': 2067, 'wishes sarah': 2846, 'planning to': 1924, 'go there': 942, 'awful': 270, 'had to': 996, 'nancy': 1678, 'dear nancy': 591, 'nancy thank': 1679, 'last letter': 1355, 'volunteer in': 2663, 'cold and': 483, 'natural': 1681, 'seasons': 2075, 'last summer': 1357, 'costume': 539, 'preparing for': 1950, 'had lot': 995, 'asks': 254, 'homework lately': 1125, 'lately it': 1361, 'brother asks': 369, 'asks me': 255, 'his chores': 1104, 'chores write': 455, 'liked': 1403, 'prepare for': 1948, 'vitaliy': 2661, 'earlier had': 695, 'to prepare': 2530, 'an exam': 122, 'exam it': 747, 'any of': 195, 'but have': 386, 'leave now': 1374, 'dog looking': 652, 'you best': 2930, 'wishes vitaliy': 2854, 'rainy': 1986, 'and rainy': 161, 'kirill': 1337, 'sounds great': 2194, 'pity': 1917, 'is pity': 1261, 'sunny': 2249, 'olivia': 1803, 'dear olivia': 593, 'souvenirs': 2195, 'elle': 712, 'ella': 711, 'cafeteria': 399, 'school cafeteria': 2065, 'extreme': 758, 'extreme sports': 759, 'online shopping': 1826, 'my birthday': 1624} \n",
      "\n",
      "BoW matrix:\n",
      "                 0    1    2    3    4    5    6    7    8    9    ...  293  \\\n",
      "able               0    0    0    0    0    0    0    0    0    0  ...    0   \n",
      "able to            0    0    0    0    0    0    0    0    0    0  ...    0   \n",
      "about              1    1    0    1    3    2    4    4    2    0  ...    1   \n",
      "about arguments    0    0    0    0    0    0    0    0    0    0  ...    0   \n",
      "about dreams       0    0    0    0    0    0    0    0    0    0  ...    0   \n",
      "\n",
      "                 294  295  296  297  298  299  300  301  302  \n",
      "able               0    0    0    0    0    0    0    0    0  \n",
      "able to            0    0    0    0    0    0    0    0    0  \n",
      "about              1    2    2    1    3    0    2    2    2  \n",
      "about arguments    0    0    0    0    0    0    0    0    0  \n",
      "about dreams       0    0    0    0    0    0    0    0    0  \n",
      "\n",
      "[5 rows x 303 columns] \n"
     ]
    }
   ],
   "source": [
    "print_out(train_encoded, train_vectorizer, ngram='1-2-грамма')"
   ],
   "metadata": {
    "collapsed": false,
    "ExecuteTime": {
     "end_time": "2023-11-24T22:09:15.953177900Z",
     "start_time": "2023-11-24T22:09:15.939201900Z"
    }
   },
   "id": "74890e5a538c209e"
  }
 ],
 "metadata": {
  "kernelspec": {
   "display_name": "Python 3",
   "language": "python",
   "name": "python3"
  },
  "language_info": {
   "codemirror_mode": {
    "name": "ipython",
    "version": 2
   },
   "file_extension": ".py",
   "mimetype": "text/x-python",
   "name": "python",
   "nbconvert_exporter": "python",
   "pygments_lexer": "ipython2",
   "version": "2.7.6"
  }
 },
 "nbformat": 4,
 "nbformat_minor": 5
}
