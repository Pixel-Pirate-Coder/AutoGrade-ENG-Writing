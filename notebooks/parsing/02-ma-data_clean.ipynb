{
 "cells": [
  {
   "cell_type": "markdown",
   "source": [
    "# Чтение и грубая очистка данных"
   ],
   "metadata": {
    "collapsed": false
   },
   "id": "8542cad240673e9e"
  },
  {
   "cell_type": "code",
   "execution_count": 127,
   "outputs": [],
   "source": [
    "import pandas as pd\n",
    "import numpy as np\n",
    "import string, re\n",
    "from collections import Counter\n",
    "\n",
    "from src.data.read_raw_data import read_from_gsheet, drop_unwanted_data, split_types"
   ],
   "metadata": {
    "collapsed": false,
    "ExecuteTime": {
     "end_time": "2023-11-23T21:21:11.693407800Z",
     "start_time": "2023-11-23T21:21:11.682350400Z"
    }
   },
   "id": "initial_id"
  },
  {
   "cell_type": "code",
   "execution_count": 128,
   "outputs": [
    {
     "name": "stderr",
     "output_type": "stream",
     "text": [
      "C:\\Users\\max_a\\AppData\\Local\\Temp\\ipykernel_11328\\2553523661.py:2: DeprecationWarning: [Deprecated][in version 6.0.0]: client_factory will be replaced by gspread.http_client types\n",
      "  raw_data = read_from_gsheet()\n"
     ]
    }
   ],
   "source": [
    "# Читаем данные из таблицы, удаляем неинтересующие столбцы, фильтруем по типу задания\n",
    "raw_data = read_from_gsheet()\n",
    "data = drop_unwanted_data(raw_data)\n",
    "_, email_data = split_types(data)"
   ],
   "metadata": {
    "collapsed": false,
    "ExecuteTime": {
     "end_time": "2023-11-23T21:21:15.498759400Z",
     "start_time": "2023-11-23T21:21:12.161408Z"
    }
   },
   "id": "2bd174dcb542409b"
  },
  {
   "cell_type": "code",
   "execution_count": 129,
   "outputs": [
    {
     "data": {
      "text/plain": "    Type Question id                                           Question  \\\n2  Email              …I am so happy that summer has come and we are...   \n3  Email              …I am learning to cook from my mother now. But...   \n4  Email              …I am so happy that summer has come and we are...   \n5  Email              …I’ve recently been involved in a school surve...   \n6  Email              …All of my friends think camping is a perfect ...   \n\n                                                Text  \\\n2  Dear Ronny, I was glad to hear from you again....   \n3  Dear Mary, Thanks for your message. It was gre...   \n4  Moscow\\n15 october\\nHi!\\nThanks you for you re...   \n5  Hey, Mike.\\r\\nHow's it going? As for me, i'm p...   \n6  Hi Emily,\\r\\nThank you for the e-mail. I'm so ...   \n\n   Solving a communicative task  Text structure  Use of English (for emails)  \n2                           1.0             2.0                          2.0  \n3                           1.0             2.0                          2.0  \n4                           1.0             0.0                          0.0  \n5                           0.0             0.0                          0.0  \n6                           2.0             1.0                          0.0  ",
      "text/html": "<div>\n<style scoped>\n    .dataframe tbody tr th:only-of-type {\n        vertical-align: middle;\n    }\n\n    .dataframe tbody tr th {\n        vertical-align: top;\n    }\n\n    .dataframe thead th {\n        text-align: right;\n    }\n</style>\n<table border=\"1\" class=\"dataframe\">\n  <thead>\n    <tr style=\"text-align: right;\">\n      <th></th>\n      <th>Type</th>\n      <th>Question id</th>\n      <th>Question</th>\n      <th>Text</th>\n      <th>Solving a communicative task</th>\n      <th>Text structure</th>\n      <th>Use of English (for emails)</th>\n    </tr>\n  </thead>\n  <tbody>\n    <tr>\n      <th>2</th>\n      <td>Email</td>\n      <td></td>\n      <td>…I am so happy that summer has come and we are...</td>\n      <td>Dear Ronny, I was glad to hear from you again....</td>\n      <td>1.0</td>\n      <td>2.0</td>\n      <td>2.0</td>\n    </tr>\n    <tr>\n      <th>3</th>\n      <td>Email</td>\n      <td></td>\n      <td>…I am learning to cook from my mother now. But...</td>\n      <td>Dear Mary, Thanks for your message. It was gre...</td>\n      <td>1.0</td>\n      <td>2.0</td>\n      <td>2.0</td>\n    </tr>\n    <tr>\n      <th>4</th>\n      <td>Email</td>\n      <td></td>\n      <td>…I am so happy that summer has come and we are...</td>\n      <td>Moscow\\n15 october\\nHi!\\nThanks you for you re...</td>\n      <td>1.0</td>\n      <td>0.0</td>\n      <td>0.0</td>\n    </tr>\n    <tr>\n      <th>5</th>\n      <td>Email</td>\n      <td></td>\n      <td>…I’ve recently been involved in a school surve...</td>\n      <td>Hey, Mike.\\r\\nHow's it going? As for me, i'm p...</td>\n      <td>0.0</td>\n      <td>0.0</td>\n      <td>0.0</td>\n    </tr>\n    <tr>\n      <th>6</th>\n      <td>Email</td>\n      <td></td>\n      <td>…All of my friends think camping is a perfect ...</td>\n      <td>Hi Emily,\\r\\nThank you for the e-mail. I'm so ...</td>\n      <td>2.0</td>\n      <td>1.0</td>\n      <td>0.0</td>\n    </tr>\n  </tbody>\n</table>\n</div>"
     },
     "execution_count": 129,
     "metadata": {},
     "output_type": "execute_result"
    }
   ],
   "source": [
    " # Далее будем работать с данными по письмам\n",
    "email_data.head()"
   ],
   "metadata": {
    "collapsed": false,
    "ExecuteTime": {
     "end_time": "2023-11-23T21:21:15.522976100Z",
     "start_time": "2023-11-23T21:21:15.498759400Z"
    }
   },
   "id": "ba14f04daa09bb81"
  },
  {
   "cell_type": "code",
   "execution_count": 130,
   "outputs": [],
   "source": [
    "# Отсортируем колонки по на признаковые и относящиеся к целевой переменной\n",
    "target = ['Solving a communicative task', 'Text structure', 'Use of English (for emails)']\n",
    "info_columns = [' Type', 'Question id']\n",
    "features = email_data.columns.difference(target).difference(info_columns)"
   ],
   "metadata": {
    "collapsed": false,
    "ExecuteTime": {
     "end_time": "2023-11-23T21:21:15.545974300Z",
     "start_time": "2023-11-23T21:21:15.514641100Z"
    }
   },
   "id": "98ffef62cf041f4b"
  },
  {
   "cell_type": "code",
   "execution_count": 131,
   "outputs": [],
   "source": [
    "email_data = email_data[email_data['Text'].str.strip().astype(bool)] # Удалим строки с пустыми ответами"
   ],
   "metadata": {
    "collapsed": false,
    "ExecuteTime": {
     "end_time": "2023-11-23T21:21:15.580596Z",
     "start_time": "2023-11-23T21:21:15.521975Z"
    }
   },
   "id": "4a24337909a94170"
  },
  {
   "cell_type": "code",
   "execution_count": 132,
   "outputs": [],
   "source": [
    "# К сожалению, пока придется удалить и строки, в которых задание кратко описано на русском или отсутствует\n",
    "email_data.drop(email_data[email_data['Question'].str.contains('[А-Яа-я]+')].index, inplace=True)"
   ],
   "metadata": {
    "collapsed": false,
    "ExecuteTime": {
     "end_time": "2023-11-23T21:21:15.642596300Z",
     "start_time": "2023-11-23T21:21:15.551553500Z"
    }
   },
   "id": "a8ffcb99cec88049"
  },
  {
   "cell_type": "markdown",
   "source": [
    "# Очистка текста"
   ],
   "metadata": {
    "collapsed": false
   },
   "id": "dd42395415958852"
  },
  {
   "cell_type": "code",
   "execution_count": 133,
   "outputs": [
    {
     "name": "stderr",
     "output_type": "stream",
     "text": [
      "[nltk_data] Downloading package punkt to\n",
      "[nltk_data]     C:\\Users\\max_a\\AppData\\Roaming\\nltk_data...\n",
      "[nltk_data]   Package punkt is already up-to-date!\n",
      "[nltk_data] Downloading package stopwords to\n",
      "[nltk_data]     C:\\Users\\max_a\\AppData\\Roaming\\nltk_data...\n",
      "[nltk_data]   Package stopwords is already up-to-date!\n"
     ]
    }
   ],
   "source": [
    "import nltk\n",
    "from nltk.util import ngrams\n",
    "from nltk.tokenize import word_tokenize\n",
    "from nltk.corpus import stopwords\n",
    "\n",
    "nltk.download('punkt')\n",
    "nltk.download('stopwords')\n",
    "\n",
    "import contractions\n",
    "\n",
    "from collections import Counter"
   ],
   "metadata": {
    "collapsed": false,
    "ExecuteTime": {
     "end_time": "2023-11-23T21:21:15.653635100Z",
     "start_time": "2023-11-23T21:21:15.566849500Z"
    }
   },
   "id": "f84dbef2427a71c2"
  },
  {
   "cell_type": "code",
   "execution_count": 134,
   "outputs": [],
   "source": [
    "email_data['Text'] = email_data['Text'].str.lower() # Приведем символы к нижнему регистру\n",
    "email_data['Text'] = email_data['Text'].apply(lambda x: contractions.fix(x)) # Преобразуем сокращения в полную запись: e.g. I'll -> I will\n",
    "email_data['Text'] = email_data['Text'].apply(lambda x: re.sub('[\\.\\n\\r\\t]', ' ', x)) # Уберем символы переноса строк, табуляции\n",
    "email_data['Text'] = email_data['Text'].apply(lambda x: re.sub(r'[]!\"$%&\\'()*+,./:;=#@?[\\\\^_`{|}~-’]+', \" \", x)) # Удалим символы пунктуации"
   ],
   "metadata": {
    "collapsed": false,
    "ExecuteTime": {
     "end_time": "2023-11-23T21:21:16.640418400Z",
     "start_time": "2023-11-23T21:21:16.599355100Z"
    }
   },
   "id": "37803591ac1b1916"
  },
  {
   "cell_type": "code",
   "execution_count": 136,
   "outputs": [],
   "source": [
    "# Добавим колонку с токенизированным текстом (показалось, что правильнее будет токенизировать тексты по отдельности)\n",
    "email_data['Tokenized'] = email_data['Text'].apply(word_tokenize)"
   ],
   "metadata": {
    "collapsed": false,
    "ExecuteTime": {
     "end_time": "2023-11-23T21:24:51.743328300Z",
     "start_time": "2023-11-23T21:24:51.590920100Z"
    }
   },
   "id": "bd1b0e1c96613a08"
  },
  {
   "cell_type": "code",
   "execution_count": null,
   "outputs": [],
   "source": [
    "# Возможно, НЕ стоит очищать текст от stopwords, так как при этом, например, мы теряем конструкции со вспомогательным глаголом\n",
    "# filtered_tokens = [word for word in tokens if not word in stopwords.words('english')]"
   ],
   "metadata": {
    "collapsed": false
   },
   "id": "55964d5146296323"
  },
  {
   "cell_type": "code",
   "execution_count": 138,
   "outputs": [
    {
     "name": "stdout",
     "output_type": "stream",
     "text": [
      "(('by', 'the', 'way'), 300) (('you', 'asked', 'me'), 271) (('asked', 'me', 'about'), 255) (('the', 'way', 'tell'), 240) (('way', 'tell', 'me'), 239) (('tell', 'me', 'more'), 228) (('me', 'more', 'about'), 228) (('for', 'your', 'recent'), 225) (('from', 'you', 'in'), 221) (('you', 'in', 'your'), 218) (('i', 'am', 'always'), 206) (('messages', 'from', 'you'), 192) (('more', 'about', 'your'), 190) (('get', 'messages', 'from'), 186) (('to', 'get', 'messages'), 185) (('in', 'your', 'email'), 181) (('thanks', 'for', 'your'), 179) (('your', 'email', 'you'), 176) (('drop', 'me', 'a'), 173) (('me', 'a', 'line'), 173) (('all', 'for', 'now'), 170) (('that', 'is', 'all'), 162) (('is', 'all', 'for'), 160) (('your', 'recent', 'email'), 157) (('email', 'you', 'asked'), 156) (('soon', 'best', 'wishes'), 146) (('now', 'drop', 'me'), 144) (('email', 'i', 'am'), 142) (('a', 'line', 'best'), 137) (('line', 'best', 'wishes'), 137) (('recent', 'email', 'i'), 136) (('thank', 'you', 'for'), 135) (('you', 'for', 'your'), 133) (('write', 'back', 'soon'), 129) (('i', 'have', 'to'), 128) (('hear', 'from', 'you'), 125) (('to', 'hear', 'from'), 124) (('back', 'soon', 'best'), 122) (('me', 'about', 'my'), 110) (('for', 'now', 'drop'), 107) (('always', 'glad', 'to'), 105) (('glad', 'to', 'get'), 101) (('to', 'go', 'now'), 100) (('have', 'to', 'go'), 98) (('am', 'always', 'glad'), 98) (('sorry', 'i', 'have'), 94) (('i', 'am', 'sorry'), 86) (('i', 'have', 'got'), 84) (('i', 'do', 'not'), 78) (('e-mail', 'you', 'asked'), 74) (('in', 'your', 'e-mail'), 73) (('a', 'lot', 'of'), 72) (('your', 'e-mail', 'you'), 72) (('well', 'i', 'have'), 70) (('for', 'your', 'message'), 69) (('how', 'old', 'is'), 68) (('a', 'lot', 'for'), 63) (('i', 'think', 'that'), 62) (('lot', 'for', 'your'), 62) (('sister', 's', 'wedding'), 61) (('from', 'you', 'again'), 60) (('your', 'recent', 'e-mail'), 60) (('about', 'my', 'dreams'), 60) (('now', 'write', 'back'), 59) (('thanks', 'a', 'lot'), 59) (('e-mail', 'i', 'am'), 58) (('always', 'excited', 'to'), 58) (('excited', 'to', 'get'), 58) (('your', 'sister', 's'), 58) (('message', 'i', 'am'), 58) (('your', 'message', 'i'), 58) (('for', 'your', 'email'), 56) (('have', 'got', 'to'), 55) (('i', 'would', 'like'), 55) (('would', 'like', 'to'), 55) (('am', 'always', 'excited'), 55) (('glad', 'to', 'hear'), 54) (('always', 'happy', 'to'), 54) (('recent', 'e-mail', 'i'), 54) (('got', 'to', 'go'), 53) (('am', 'always', 'happy'), 52) (('your', 'new', 'classmate'), 50) (('your', 'elder', 'brother'), 50) (('what', 'is', 'the'), 49) (('i', 'need', 'to'), 49) (('with', 'my', 'family'), 48) (('to', 'go', 'as'), 47) (('i', 'want', 'to'), 46) (('i', 'have', 'a'), 46) (('go', 'as', 'my'), 46) (('happy', 'to', 'get'), 45) (('your', 'granny', 's'), 45) (('your', 'email', 'i'), 44) (('my', 'family', 'members'), 43) (('dear', 'andy', 'thanks'), 43) (('granny', 's', 'biscuits'), 43) (('you', 'have', 'mentioned'), 42) (('about', 'your', 'new'), 42) (('you', 'i', 'would'), 42) (('about', 'your', 'elder'), 41) (('you', 'again', 'in'), 40) (('again', 'in', 'your'), 40) (('dear', 'lily', 'thanks'), 40) (('dear', 'nora', 'thanks'), 39) (('i', 'were', 'you'), 39) (('were', 'you', 'i'), 39) (('about', 'your', 'sister'), 38) (('dear', 'ralph', 'thanks'), 38) (('about', 'your', 'granny'), 38) (('if', 'i', 'were'), 38) (('me', 'to', 'help'), 37) (('anyway', 'you', 'have'), 37) (('for', 'now', 'write'), 36) (('sorry', 'for', 'not'), 36) (('so', 'long', 'i'), 36) (('more', 'about', 'the'), 36) (('best', 'wishes', 'kate'), 36) (('wishes', 'kate', 'dear'), 36) (('because', 'it', 'is'), 35) (('for', 'not', 'writing'), 35) (('go', 'now', 'drop'), 35) (('for', 'so', 'long'), 35) (('as', 'for', 'me'), 34) (('for', 'me', 'i'), 34) (('am', 'sorry', 'i'), 34) (('arguments', 'with', 'my'), 34) (('me', 'when', 'i'), 34) (('dreams', 'well', 'i'), 34) (('about', 'my', 'grandparents'), 34) (('am', 'sorry', 'for'), 34) (('not', 'writing', 'you'), 34) (('writing', 'you', 'for'), 34) (('you', 'for', 'so'), 34) (('have', 'a', 'lot'), 33) (('when', 'i', 'have'), 33) (('grandparents', 'well', 'i'), 33) (('help', 'him', 'with'), 33) (('to', 'help', 'him'), 33) (('email', 'i', 'was'), 32) (('online', 'friends', 'are'), 32) (('me', 'about', 'your'), 31) (('new', 'classmate', 'what'), 31) (('him', 'with', 'his'), 31) (('she', 'look', 'like'), 30) (('have', 'arguments', 'with'), 30) (('i', 'have', 'problems'), 30) (('andy', 'thanks', 'for'), 30) (('i', 'was', 'very'), 29) (('was', 'very', 'glad'), 29) (('very', 'glad', 'to'), 29) (('old', 'is', 'he'), 29) (('via', 'social', 'media'), 29) (('from', 'you', 'soon'), 28) (('it', 'is', 'great'), 28) (('what', 'is', 'her'), 28) (('nora', 'thanks', 'for'), 28) (('make', 'new', 'friends'), 28) (('lily', 'thanks', 'for'), 28) (('is', 'asking', 'me'), 28) (('the', 'way', 'i'), 27) (('does', 'she', 'look'), 27) (('as', 'real', 'ones'), 27) (('good', 'as', 'real'), 27) (('my', 'grandparents', 'well'), 27) (('in', 'my', 'opinion'), 26) (('they', 'live', 'in'), 26) (('great', 'to', 'hear'), 25) (('are', 'you', 'going'), 25) (('hope', 'to', 'hear'), 25) (('now', 'it', 'is'), 25) (('it', 'is', 'a'), 25) (('ralph', 'thanks', 'for'), 25) (('always', 'support', 'me'), 25) (('elder', 'brother', 'what'), 25) (('i', 'try', 'to'), 25) (('friends', 'well', 'i'), 25) (('best', 'wishes', 'sasha'), 25) (('as', 'good', 'as'), 25) (('for', 'me', 'to'), 25) (('that', 'is', 'why'), 24) (('go', 'now', 'write'), 24) (('that', 'online', 'friends'), 24) (('support', 'me', 'when'), 24) (('name', 'how', 'old'), 24) (('me', 'about', 'dreams'), 24) (('well', 'if', 'i'), 24) (('to', 'be', 'honest'), 23) (('is', 'her', 'name'), 23) (('as', 'for', 'my'), 23) (('i', 'have', 'not'), 22) (('what', 'is', 'his'), 22) (('to', 'help', 'my'), 22) (('what', 'colour', 'is'), 22) (('brother', 'what', 'is'), 22) (('my', 'dreams', 'well'), 22) (('for', 'example', 'i'), 22) (('wishes', 'sasha', 'dear'), 22) (('you', 'ask', 'me'), 22) (('looking', 'forward', 'to'), 21) (('you', 'soon', 'best'), 21)\n"
     ]
    }
   ],
   "source": [
    "tokens = list()\n",
    "for tokens_list in email_data['Tokenized']:\n",
    "    tokens.extend(tokens_list)\n",
    "bigrams = ngrams(tokens, 3)\n",
    "cnt_bi = Counter(bigrams)\n",
    "\n",
    "print(*cnt_bi.most_common(200))"
   ],
   "metadata": {
    "collapsed": false,
    "ExecuteTime": {
     "end_time": "2023-11-23T21:27:54.610919800Z",
     "start_time": "2023-11-23T21:27:54.575861700Z"
    }
   },
   "id": "6ea82aaeab0acf16"
  }
 ],
 "metadata": {
  "kernelspec": {
   "display_name": "Python 3",
   "language": "python",
   "name": "python3"
  },
  "language_info": {
   "codemirror_mode": {
    "name": "ipython",
    "version": 2
   },
   "file_extension": ".py",
   "mimetype": "text/x-python",
   "name": "python",
   "nbconvert_exporter": "python",
   "pygments_lexer": "ipython2",
   "version": "2.7.6"
  }
 },
 "nbformat": 4,
 "nbformat_minor": 5
}
