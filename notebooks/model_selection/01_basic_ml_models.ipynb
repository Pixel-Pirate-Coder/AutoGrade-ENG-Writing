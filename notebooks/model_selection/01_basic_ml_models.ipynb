{
  "nbformat": 4,
  "nbformat_minor": 0,
  "metadata": {
    "colab": {
      "provenance": [],
      "toc_visible": true
    },
    "kernelspec": {
      "name": "python3",
      "display_name": "Python 3"
    },
    "language_info": {
      "name": "python"
    }
  },
  "cells": [
    {
      "cell_type": "code",
      "source": [
        "!pip install gensim"
      ],
      "metadata": {
        "colab": {
          "base_uri": "https://localhost:8080/"
        },
        "id": "cSqEnXqWgqgO",
        "outputId": "489136d3-e3bd-45cb-dca9-dea1a5bf3fd3"
      },
      "execution_count": 1,
      "outputs": [
        {
          "output_type": "stream",
          "name": "stdout",
          "text": [
            "Requirement already satisfied: gensim in /usr/local/lib/python3.10/dist-packages (4.3.2)\n",
            "Requirement already satisfied: numpy>=1.18.5 in /usr/local/lib/python3.10/dist-packages (from gensim) (1.23.5)\n",
            "Requirement already satisfied: scipy>=1.7.0 in /usr/local/lib/python3.10/dist-packages (from gensim) (1.11.4)\n",
            "Requirement already satisfied: smart-open>=1.8.1 in /usr/local/lib/python3.10/dist-packages (from gensim) (6.4.0)\n"
          ]
        }
      ]
    },
    {
      "cell_type": "code",
      "source": [
        "import numpy as np\n",
        "from sklearn.metrics import (\n",
        "    cohen_kappa_score,\n",
        "    explained_variance_score,\n",
        "    mean_squared_error,\n",
        ")\n",
        "\n",
        "\n",
        "def calc_metrics(true: np.array, pred: np.array) -> dict:\n",
        "    \"\"\"Calculates all necesserary metrics\n",
        "\n",
        "    Args:\n",
        "        true (np.array): True ansers\n",
        "        pred (np.array): Predicted answers\n",
        "\n",
        "    Returns:\n",
        "        dict: Dictionary with metrics\n",
        "    \"\"\"\n",
        "    # The mean squared error\n",
        "    mse = mean_squared_error(true, pred)\n",
        "\n",
        "    # Explained variance score\n",
        "    exp_var = explained_variance_score(true, pred)\n",
        "\n",
        "    # Kappa score\n",
        "    kappa = cohen_kappa_score(true, np.around(pred), weights=\"quadratic\")\n",
        "\n",
        "    return {\"mse\": mse, \"explained_variance\": exp_var, \"kappa\": kappa}"
      ],
      "metadata": {
        "id": "TRBMTctVhM5J"
      },
      "execution_count": 2,
      "outputs": []
    },
    {
      "cell_type": "code",
      "source": [
        "import pandas as pd\n",
        "import numpy as np\n",
        "import string, re\n",
        "from collections import Counter\n",
        "\n",
        "from gspread import authorize\n",
        "import pandas as pd\n",
        "\n",
        "from oauth2client.service_account import ServiceAccountCredentials\n",
        "\n",
        "scopes = [\"https://spreadsheets.google.com/feeds\",\n",
        "                  \"https://www.googleapis.com/auth/spreadsheets\",\n",
        "                  \"https://www.googleapis.com/auth/drive\",\n",
        "                  \"https://www.googleapis.com/auth/drive\"]\n",
        "\n",
        "\n",
        "from sklearn.metrics import confusion_matrix, ConfusionMatrixDisplay\n",
        "import matplotlib.pyplot as plt\n"
      ],
      "metadata": {
        "id": "FyawVjnPke2Z"
      },
      "execution_count": 8,
      "outputs": []
    },
    {
      "cell_type": "code",
      "source": [
        "import scipy"
      ],
      "metadata": {
        "id": "a1ccek_2nSoV"
      },
      "execution_count": 22,
      "outputs": []
    },
    {
      "cell_type": "code",
      "source": [
        "from google.colab import drive\n",
        "drive.mount('/content/drive')"
      ],
      "metadata": {
        "colab": {
          "base_uri": "https://localhost:8080/"
        },
        "id": "mIm0qNN1khAB",
        "outputId": "19923be8-6a79-43ff-b575-5fbf0e05a0b1"
      },
      "execution_count": 5,
      "outputs": [
        {
          "output_type": "stream",
          "name": "stdout",
          "text": [
            "Mounted at /content/drive\n"
          ]
        }
      ]
    },
    {
      "cell_type": "code",
      "source": [
        "def display_confusion_matrix(y_true, y_pred, model_name: str) -> None:\n",
        "\n",
        "  confusion_matrix_data = confusion_matrix(y_true, y_pred)\n",
        "\n",
        "  plt.figure(figsize=(8,8))\n",
        "  cm_display = ConfusionMatrixDisplay(confusion_matrix=confusion_matrix_data, display_labels=sorted(np.unique(y_true)))\n",
        "  cm_display.plot()\n",
        "  plt.title(model_name)\n",
        "  plt.show()"
      ],
      "metadata": {
        "id": "N7gg2UHQklBQ"
      },
      "execution_count": 25,
      "outputs": []
    },
    {
      "cell_type": "code",
      "source": [
        "def read_from_gsheet():\n",
        "    cred = ServiceAccountCredentials.from_json_keyfile_name('/content/drive/MyDrive/movs_project/credentials_googlesheets.json', scopes)\n",
        "    gc = authorize(cred)\n",
        "    sheet = gc.open_by_url('https://docs.google.com/spreadsheets/d/1m0mc1H7ULIZ2HEkT4dha_XRmRjt0gWJ8aht_GJ2lxfw/edit#gid=0')\n",
        "    ws = sheet.worksheet('Dataset')\n",
        "    return pd.DataFrame(ws.get_all_records())\n",
        "\n",
        "def drop_unwanted_data(df: pd.DataFrame):\n",
        "    columns_to_drop = ['Comments', 'origin', 'task_image', 'score_image']\n",
        "    columns = ['Solving a communicative task', 'Text structure', 'Use of English (for emails)', 'Lexis (essay)',\n",
        "               'Grammatical accuracy (essay)', 'Punctuation and spelling (essay)']\n",
        "\n",
        "    # Удаляем лишние столбцы (на данный момент)\n",
        "    df = df.drop(columns=columns_to_drop)\n",
        "\n",
        "    # Удаляем строки баллов, если там сожержатся другие значения, кроме int и float (избавимся от string)\n",
        "    for column in columns:\n",
        "        df[column] = pd.to_numeric(df[column], errors='coerce')\n",
        "\n",
        "    return df\n",
        "\n",
        "def split_types(df: pd.DataFrame):\n",
        "    # Следующий этап - разделим на письма и эссе\n",
        "    essay_df = df[df[' Type'] == 'Essay']\n",
        "    email_df = df[df[' Type'] == 'Email']\n",
        "\n",
        "    # и удалим лишние колонки для каждого типа\n",
        "    essay_df = essay_df.drop(columns='Use of English (for emails)')\n",
        "    email_df = email_df.drop(\n",
        "        columns=['Lexis (essay)', 'Grammatical accuracy (essay)', 'Punctuation and spelling (essay)'])\n",
        "\n",
        "    # Убираем NaN\n",
        "    essay_df = essay_df.dropna()\n",
        "    email_df = email_df.dropna()\n",
        "\n",
        "    return essay_df, email_df"
      ],
      "metadata": {
        "id": "nhOVExETkn31"
      },
      "execution_count": 7,
      "outputs": []
    },
    {
      "cell_type": "code",
      "execution_count": 29,
      "metadata": {
        "id": "sdjXu1DJdGsX"
      },
      "outputs": [],
      "source": [
        "# Читаем данные из таблицы, удаляем неинтересующие столбцы, фильтруем по типу задания\n",
        "raw_data = read_from_gsheet()\n",
        "_, email_data = split_types(raw_data)"
      ]
    },
    {
      "cell_type": "code",
      "execution_count": 30,
      "metadata": {
        "id": "q9jHDSJQdMAh"
      },
      "outputs": [],
      "source": [
        "email_data = email_data[email_data['Text'].str.strip().astype(bool)] # Удалим строки с пустыми ответами\n",
        "# email_data = email_data[email_data['Overall_score'] != 0]\n",
        "email_data = email_data[~email_data['Question'].str.contains('[А-Яа-я]+', regex=True)]\n",
        "email_data = email_data[email_data['Question'].notna()]\n",
        "email_data = email_data[email_data['Question'] != '']\n",
        "email_data[\"Text\"] = email_data[\"Text\"].apply(lambda x: re.sub(r'[^A-Za-z ]', ' ', x))"
      ]
    },
    {
      "cell_type": "code",
      "execution_count": 31,
      "metadata": {
        "id": "CHoPdaKUdNNB"
      },
      "outputs": [],
      "source": [
        "score_columns = ['Solving a communicative task']\n",
        "for score_col in score_columns:\n",
        "    email_data = email_data[pd.to_numeric(email_data[score_col], errors='coerce').notna()]\n",
        "    email_data[score_col] = email_data[score_col].astype(\"float16\")"
      ]
    },
    {
      "cell_type": "code",
      "source": [
        "email_data[\"input\"] = email_data[\"Question\"] + \"\\n\" + email_data[\"Text\"]"
      ],
      "metadata": {
        "id": "4rT_mlnalbEm"
      },
      "execution_count": 34,
      "outputs": []
    },
    {
      "cell_type": "code",
      "execution_count": 35,
      "metadata": {
        "id": "Y6L2DSxFghwl"
      },
      "outputs": [],
      "source": [
        "import logging\n",
        "import re\n",
        "\n",
        "import nltk\n",
        "import numpy as np\n",
        "import pandas as pd\n",
        "from gensim.models import KeyedVectors, Word2Vec\n",
        "from nltk.corpus import stopwords\n",
        "\n",
        "log = logging.getLogger(__name__)\n",
        "\n",
        "def essay_to_wordlist(essay_v: str, remove_stopwords: bool) -> tuple:\n",
        "    \"\"\"Remove the tagged labels and word tokenize the sentence\"\"\"\n",
        "    essay_v = re.sub(\"[^a-zA-Z]\", \" \", essay_v)\n",
        "    words = essay_v.lower().split()\n",
        "    if remove_stopwords:\n",
        "        stops = set(stopwords.words(\"english\"))\n",
        "        words = [w for w in words if w not in stops]\n",
        "    return words\n",
        "\n",
        "\n",
        "def essay_to_sentences(essay_v: str, remove_stopwords: bool) -> list:\n",
        "    \"\"\"Sentence tokenize the essay and call essay_to_wordlist() for word tokenization.\"\"\"\n",
        "    tokenizer = nltk.data.load(\"tokenizers/punkt/english.pickle\")\n",
        "    raw_sentences = tokenizer.tokenize(essay_v.strip())\n",
        "    sentences = []\n",
        "    for raw_sentence in raw_sentences:\n",
        "        if len(raw_sentence) > 0:\n",
        "            sentences.append(essay_to_wordlist(raw_sentence, remove_stopwords))\n",
        "    return sentences\n",
        "\n",
        "\n",
        "def make_feature_vec(\n",
        "    words: list, model: Word2Vec | KeyedVectors, num_features: int\n",
        ") -> np.array:\n",
        "    \"\"\"Make ar from the words list of an Essay.\"\"\"\n",
        "    feature_vec = np.zeros((num_features,), dtype=\"float32\")\n",
        "    num_words = 0\n",
        "    if hasattr(model, \"wv\"):\n",
        "        index2word_set = set(model.wv.index_to_key)\n",
        "    else:\n",
        "        index2word_set = set(model.index_to_key)\n",
        "\n",
        "    for word in words:\n",
        "        if word in index2word_set:\n",
        "            num_words += 1\n",
        "            if hasattr(model, \"wv\"):\n",
        "                feature_vec = np.add(feature_vec, model.wv[word])\n",
        "            else:\n",
        "                feature_vec = np.add(feature_vec, model[word])\n",
        "    feature_vec = np.divide(feature_vec, num_words)\n",
        "    return feature_vec\n",
        "\n",
        "\n",
        "def get_avg_feature_vecs(\n",
        "    essays: list, model: Word2Vec | KeyedVectors, num_features: int\n",
        ") -> np.array:\n",
        "    \"\"\"Main function to generate the word vectors for word2vec model.\"\"\"\n",
        "    counter = 0\n",
        "    essay_feature_vecs = np.zeros((len(essays), num_features), dtype=\"float32\")\n",
        "    for essay in essays:\n",
        "        essay_feature_vecs[counter] = make_feature_vec(essay, model, num_features)\n",
        "        counter += 1\n",
        "    return essay_feature_vecs\n",
        "\n",
        "\n",
        "def prep_train_data(train_data: pd.DataFrame, w2vec_path) -> tuple:\n",
        "    \"\"\"Prepare data for training\n",
        "\n",
        "    Args:\n",
        "        data (pd.DataFrame): Input raw dataframe\n",
        "\n",
        "    Returns:\n",
        "        tuple: Tuple of features np.array and answers np.array\n",
        "    \"\"\"\n",
        "    log.info(\"NLTK punkt downloading started\")\n",
        "    nltk.download(\"punkt\")\n",
        "    log.info(\"Download finished.\\n\")\n",
        "    log.info(\"NLTK punkt downloading started\")\n",
        "    nltk.download(\"stopwords\")\n",
        "    log.info(\"Download finished.\\n\")\n",
        "\n",
        "    train_data = train_data.dropna(axis=1)\n",
        "    scores = train_data[\"Solving a communicative task\"]\n",
        "    train_data = train_data[\"input\"]\n",
        "\n",
        "    sentences = []\n",
        "\n",
        "    for essay in train_data:\n",
        "        sentences += essay_to_sentences(essay, remove_stopwords=True)\n",
        "    log.info(\"Training Word2Vec Model...\")\n",
        "    model = Word2Vec(\n",
        "        sentences,\n",
        "        workers=8,\n",
        "        vector_size=300,\n",
        "        min_count=40,\n",
        "        window=10,\n",
        "        sample=0.001,\n",
        "    )\n",
        "    log.info(\"Word2Vec Model trained successfully!\")\n",
        "    # model.init_sims(replace=True)\n",
        "    log.info(\"Saving Word2Vec Model...\")\n",
        "    model.wv.save_word2vec_format(w2vec_path, binary=True)\n",
        "    log.info(\"Word2Vec Model saved successfully!\\n\")\n",
        "\n",
        "    clean_train_essays = []\n",
        "\n",
        "    for essay_text in train_data:\n",
        "        clean_train_essays.append(essay_to_wordlist(essay_text, remove_stopwords=True))\n",
        "    train_vectors = get_avg_feature_vecs(\n",
        "        clean_train_essays, model, 300\n",
        "    )\n",
        "\n",
        "    return np.array(train_vectors), np.array(scores)"
      ]
    },
    {
      "cell_type": "code",
      "source": [
        "X, y = prep_train_data(email_data, \"./word2vecmodel.bin\")"
      ],
      "metadata": {
        "colab": {
          "base_uri": "https://localhost:8080/"
        },
        "id": "mvVracO_mISD",
        "outputId": "3e1d8002-3ac6-4991-f3a3-afcc76a9db04"
      },
      "execution_count": 79,
      "outputs": [
        {
          "output_type": "stream",
          "name": "stderr",
          "text": [
            "[nltk_data] Downloading package punkt to /root/nltk_data...\n",
            "[nltk_data]   Package punkt is already up-to-date!\n",
            "[nltk_data] Downloading package stopwords to /root/nltk_data...\n",
            "[nltk_data]   Package stopwords is already up-to-date!\n"
          ]
        }
      ]
    },
    {
      "cell_type": "code",
      "source": [
        "from sklearn.model_selection import train_test_split\n",
        "X_train, X_test, y_train, y_test = train_test_split(X, y, test_size=0.2, random_state=42, stratify=y)"
      ],
      "metadata": {
        "id": "eFJsmTNLsRyk"
      },
      "execution_count": 80,
      "outputs": []
    },
    {
      "cell_type": "markdown",
      "source": [
        "# Линейная регрессия"
      ],
      "metadata": {
        "id": "5TRjig5elRKb"
      }
    },
    {
      "cell_type": "code",
      "source": [
        "# линейная регрессия\n",
        "from sklearn.linear_model import LinearRegression\n",
        "from sklearn.metrics import mean_squared_error\n",
        "\n",
        "model = LinearRegression()\n",
        "model.fit(X_train, y_train)\n",
        "\n",
        "y_pred = model.predict(X_test)\n",
        "mse = mean_squared_error(y_test, y_pred)\n",
        "print(f\"RMSE: {np.sqrt(mse)}\")\n",
        "r_1 = np.corrcoef(y_test, y_pred)[0, 1] # коэффициент корреляции Пирсона для модели 1\n",
        "rho_1 = scipy.stats.spearmanr(y_test, y_pred)[0] # коэффициент корреляции Спирмена для модели 1\n",
        "print(\"r = {:.3f}, rho = {:.3f}\".format(r_1, rho_1))"
      ],
      "metadata": {
        "colab": {
          "base_uri": "https://localhost:8080/"
        },
        "id": "zlrRgeMIlTQd",
        "outputId": "a5438054-9162-4e6d-c749-bd7047f3bc84"
      },
      "execution_count": 47,
      "outputs": [
        {
          "output_type": "stream",
          "name": "stdout",
          "text": [
            "RMSE: 0.8119825720787048\n",
            "r = 0.116, rho = 0.166\n"
          ]
        }
      ]
    },
    {
      "cell_type": "code",
      "source": [
        "y_pred_int = np.where(y_pred < 2, y_pred, 2)\n",
        "y_pred_int = np.where(y_pred_int > 0, y_pred_int, 0)\n",
        "y_pred_int = np.round(y_pred_int)\n",
        "display_confusion_matrix(y_test, y_pred_int, \"Linear Regression\")"
      ],
      "metadata": {
        "colab": {
          "base_uri": "https://localhost:8080/",
          "height": 489
        },
        "id": "8l5s27-4nrQO",
        "outputId": "7ba98ee1-1d90-42db-dc41-3b685b0d8bb1"
      },
      "execution_count": 53,
      "outputs": [
        {
          "output_type": "display_data",
          "data": {
            "text/plain": [
              "<Figure size 800x800 with 0 Axes>"
            ]
          },
          "metadata": {}
        },
        {
          "output_type": "display_data",
          "data": {
            "text/plain": [
              "<Figure size 640x480 with 2 Axes>"
            ],
            "image/png": "[encoded data removed]"
          },
          "metadata": {}
        }
      ]
    },
    {
      "cell_type": "code",
      "source": [
        "from sklearn.metrics import classification_report\n",
        "print(classification_report(y_test.astype(int), y_pred_int))"
      ],
      "metadata": {
        "colab": {
          "base_uri": "https://localhost:8080/"
        },
        "id": "-RszCxs1rm7N",
        "outputId": "0de72966-7e25-4c53-fecc-74ce00b6caf3"
      },
      "execution_count": 54,
      "outputs": [
        {
          "output_type": "stream",
          "name": "stdout",
          "text": [
            "              precision    recall  f1-score   support\n",
            "\n",
            "           0       0.00      0.00      0.00         1\n",
            "           1       0.31      0.50      0.38        16\n",
            "           2       0.87      0.70      0.77        69\n",
            "\n",
            "    accuracy                           0.65        86\n",
            "   macro avg       0.39      0.40      0.39        86\n",
            "weighted avg       0.76      0.65      0.69        86\n",
            "\n"
          ]
        }
      ]
    },
    {
      "cell_type": "markdown",
      "source": [
        "# DecisionTree"
      ],
      "metadata": {
        "id": "hrbKFGg1tGCa"
      }
    },
    {
      "cell_type": "code",
      "source": [
        "from sklearn.tree import DecisionTreeRegressor\n",
        "\n",
        "model = DecisionTreeRegressor()\n",
        "model.fit(X_train, y_train)\n",
        "\n",
        "# Предсказание на тестовой выборке и вычисление ошибки\n",
        "y_pred = model.predict(X_test)\n",
        "mse = mean_squared_error(y_test, y_pred, squared=False)\n",
        "print(f\"RMSE: {mse}\")"
      ],
      "metadata": {
        "colab": {
          "base_uri": "https://localhost:8080/"
        },
        "id": "_64OBXP7tITf",
        "outputId": "720e3d6d-2baa-435b-f1c3-4e1df35a22f5"
      },
      "execution_count": 60,
      "outputs": [
        {
          "output_type": "stream",
          "name": "stdout",
          "text": [
            "RMSE: 0.5603155257282213\n"
          ]
        }
      ]
    },
    {
      "cell_type": "code",
      "source": [
        "y_pred_int = np.where(y_pred < 2, y_pred, 2)\n",
        "y_pred_int = np.where(y_pred_int > 0, y_pred_int, 0)\n",
        "y_pred_int = np.round(y_pred_int)\n",
        "display_confusion_matrix(y_test, y_pred_int, \"DecisionTree\")"
      ],
      "metadata": {
        "colab": {
          "base_uri": "https://localhost:8080/",
          "height": 489
        },
        "id": "FQV2xjJotMLQ",
        "outputId": "39594ec8-6ac5-4f8a-cb61-2e6a3ba11e5d"
      },
      "execution_count": 62,
      "outputs": [
        {
          "output_type": "display_data",
          "data": {
            "text/plain": [
              "<Figure size 800x800 with 0 Axes>"
            ]
          },
          "metadata": {}
        },
        {
          "output_type": "display_data",
          "data": {
            "text/plain": [
              "<Figure size 640x480 with 2 Axes>"
            ],
            "image/png": "[encoded data removed]"
          },
          "metadata": {}
        }
      ]
    },
    {
      "cell_type": "code",
      "source": [
        "from sklearn.metrics import classification_report\n",
        "print(classification_report(y_test.astype(int), y_pred_int))"
      ],
      "metadata": {
        "colab": {
          "base_uri": "https://localhost:8080/"
        },
        "id": "h_qJ2EnPtQ6v",
        "outputId": "e17d9631-eeb6-4bdb-b644-6e6f4373ddda"
      },
      "execution_count": 63,
      "outputs": [
        {
          "output_type": "stream",
          "name": "stdout",
          "text": [
            "              precision    recall  f1-score   support\n",
            "\n",
            "           0       0.00      0.00      0.00         1\n",
            "           1       0.23      0.19      0.21        16\n",
            "           2       0.81      0.86      0.83        69\n",
            "\n",
            "    accuracy                           0.72        86\n",
            "   macro avg       0.35      0.35      0.35        86\n",
            "weighted avg       0.69      0.72      0.71        86\n",
            "\n"
          ]
        },
        {
          "output_type": "stream",
          "name": "stderr",
          "text": [
            "/usr/local/lib/python3.10/dist-packages/sklearn/metrics/_classification.py:1344: UndefinedMetricWarning: Precision and F-score are ill-defined and being set to 0.0 in labels with no predicted samples. Use `zero_division` parameter to control this behavior.\n",
            "  _warn_prf(average, modifier, msg_start, len(result))\n",
            "/usr/local/lib/python3.10/dist-packages/sklearn/metrics/_classification.py:1344: UndefinedMetricWarning: Precision and F-score are ill-defined and being set to 0.0 in labels with no predicted samples. Use `zero_division` parameter to control this behavior.\n",
            "  _warn_prf(average, modifier, msg_start, len(result))\n",
            "/usr/local/lib/python3.10/dist-packages/sklearn/metrics/_classification.py:1344: UndefinedMetricWarning: Precision and F-score are ill-defined and being set to 0.0 in labels with no predicted samples. Use `zero_division` parameter to control this behavior.\n",
            "  _warn_prf(average, modifier, msg_start, len(result))\n"
          ]
        }
      ]
    },
    {
      "cell_type": "markdown",
      "source": [
        "# RandomForest"
      ],
      "metadata": {
        "id": "_S6l808esJXY"
      }
    },
    {
      "cell_type": "code",
      "source": [
        "# Фильтруем лингвистические признаки с помощью алгоритма Random Forest\n",
        "from sklearn.ensemble import RandomForestRegressor\n",
        "\n",
        "rf = RandomForestRegressor(n_estimators=100, oob_score=True)\n",
        "rf.fit(X_train, y_train)\n",
        "\n",
        "y_pred = rf.predict(X_test)\n",
        "mse = mean_squared_error(y_test, y_pred)\n",
        "print(f\"RMSE: {np.sqrt(mse)}\")\n",
        "r_1 = np.corrcoef(y_test, y_pred)[0, 1] # коэффициент корреляции Пирсона для модели 1\n",
        "rho_1 = scipy.stats.spearmanr(y_test, y_pred)[0] # коэффициент корреляции Спирмена для модели 1\n",
        "print(\"r = {:.3f}, rho = {:.3f}\".format(r_1, rho_1))"
      ],
      "metadata": {
        "colab": {
          "base_uri": "https://localhost:8080/"
        },
        "id": "q0g8-kA3sLpq",
        "outputId": "01f0f94f-6aac-4afa-e87a-7815336d340b"
      },
      "execution_count": 56,
      "outputs": [
        {
          "output_type": "stream",
          "name": "stdout",
          "text": [
            "RMSE: 0.45966620852071993\n",
            "r = 0.068, rho = 0.110\n"
          ]
        }
      ]
    },
    {
      "cell_type": "code",
      "source": [
        "y_pred_int = np.where(y_pred < 2, y_pred, 2)\n",
        "y_pred_int = np.where(y_pred_int > 0, y_pred_int, 0)\n",
        "y_pred_int = np.round(y_pred_int)\n",
        "display_confusion_matrix(y_test, y_pred_int, \"RandomForest\")"
      ],
      "metadata": {
        "colab": {
          "base_uri": "https://localhost:8080/",
          "height": 489
        },
        "id": "uCuH4iPSswLb",
        "outputId": "99dd3ce8-6a6d-4bad-c2cf-cee98155b046"
      },
      "execution_count": 58,
      "outputs": [
        {
          "output_type": "display_data",
          "data": {
            "text/plain": [
              "<Figure size 800x800 with 0 Axes>"
            ]
          },
          "metadata": {}
        },
        {
          "output_type": "display_data",
          "data": {
            "text/plain": [
              "<Figure size 640x480 with 2 Axes>"
            ],
            "image/png": "[encoded data removed]"
          },
          "metadata": {}
        }
      ]
    },
    {
      "cell_type": "code",
      "source": [
        "from sklearn.metrics import classification_report\n",
        "print(classification_report(y_test.astype(int), y_pred_int))"
      ],
      "metadata": {
        "colab": {
          "base_uri": "https://localhost:8080/"
        },
        "id": "ybcTp3Ops3UC",
        "outputId": "6c91f44c-7bb2-4100-9cc7-fba04595a67a"
      },
      "execution_count": 59,
      "outputs": [
        {
          "output_type": "stream",
          "name": "stdout",
          "text": [
            "              precision    recall  f1-score   support\n",
            "\n",
            "           0       0.00      0.00      0.00         1\n",
            "           1       0.25      0.12      0.17        16\n",
            "           2       0.81      0.91      0.86        69\n",
            "\n",
            "    accuracy                           0.76        86\n",
            "   macro avg       0.35      0.35      0.34        86\n",
            "weighted avg       0.69      0.76      0.72        86\n",
            "\n"
          ]
        },
        {
          "output_type": "stream",
          "name": "stderr",
          "text": [
            "/usr/local/lib/python3.10/dist-packages/sklearn/metrics/_classification.py:1344: UndefinedMetricWarning: Precision and F-score are ill-defined and being set to 0.0 in labels with no predicted samples. Use `zero_division` parameter to control this behavior.\n",
            "  _warn_prf(average, modifier, msg_start, len(result))\n",
            "/usr/local/lib/python3.10/dist-packages/sklearn/metrics/_classification.py:1344: UndefinedMetricWarning: Precision and F-score are ill-defined and being set to 0.0 in labels with no predicted samples. Use `zero_division` parameter to control this behavior.\n",
            "  _warn_prf(average, modifier, msg_start, len(result))\n",
            "/usr/local/lib/python3.10/dist-packages/sklearn/metrics/_classification.py:1344: UndefinedMetricWarning: Precision and F-score are ill-defined and being set to 0.0 in labels with no predicted samples. Use `zero_division` parameter to control this behavior.\n",
            "  _warn_prf(average, modifier, msg_start, len(result))\n"
          ]
        }
      ]
    },
    {
      "cell_type": "markdown",
      "source": [
        "# SVM"
      ],
      "metadata": {
        "id": "H7FY-vsQzxGP"
      }
    },
    {
      "cell_type": "code",
      "source": [
        "from sklearn import svm\n",
        "regr = svm.SVR()\n",
        "regr.fit(X_train, y_train)\n",
        "\n",
        "y_pred = regr.predict(X_test)\n",
        "mse = mean_squared_error(y_test, y_pred)\n",
        "print(f\"RMSE: {np.sqrt(mse)}\")\n",
        "r_1 = np.corrcoef(y_test, y_pred)[0, 1] # коэффициент корреляции Пирсона для модели 1\n",
        "rho_1 = scipy.stats.spearmanr(y_test, y_pred)[0] # коэффициент корреляции Спирмена для модели 1\n",
        "print(\"r = {:.3f}, rho = {:.3f}\".format(r_1, rho_1))"
      ],
      "metadata": {
        "colab": {
          "base_uri": "https://localhost:8080/"
        },
        "outputId": "6b431934-8c97-4e0e-d0c7-caaafa53e5b5",
        "id": "s3MjQqagzxGQ"
      },
      "execution_count": 84,
      "outputs": [
        {
          "output_type": "stream",
          "name": "stdout",
          "text": [
            "RMSE: 0.4478341020355339\n",
            "r = 0.240, rho = 0.321\n"
          ]
        }
      ]
    },
    {
      "cell_type": "code",
      "source": [
        "y_pred_int = np.where(y_pred < 2, y_pred, 2)\n",
        "y_pred_int = np.where(y_pred_int > 0, y_pred_int, 0)\n",
        "y_pred_int = np.round(y_pred_int)\n",
        "display_confusion_matrix(y_test, y_pred_int, \"SVM\")"
      ],
      "metadata": {
        "colab": {
          "base_uri": "https://localhost:8080/",
          "height": 489
        },
        "outputId": "a2bbd265-5fe9-4665-9def-dc1824baaa3d",
        "id": "FBCivd7szxGR"
      },
      "execution_count": 85,
      "outputs": [
        {
          "output_type": "display_data",
          "data": {
            "text/plain": [
              "<Figure size 800x800 with 0 Axes>"
            ]
          },
          "metadata": {}
        },
        {
          "output_type": "display_data",
          "data": {
            "text/plain": [
              "<Figure size 640x480 with 2 Axes>"
            ],
            "image/png": "[encoded data removed]"
          },
          "metadata": {}
        }
      ]
    },
    {
      "cell_type": "code",
      "source": [
        "from sklearn.metrics import classification_report\n",
        "print(classification_report(y_test.astype(int), y_pred_int))"
      ],
      "metadata": {
        "colab": {
          "base_uri": "https://localhost:8080/"
        },
        "outputId": "bbdbfa5b-8570-4cd0-b242-a8c008a1dfee",
        "id": "dNtZw9C6zxGR"
      },
      "execution_count": 86,
      "outputs": [
        {
          "output_type": "stream",
          "name": "stdout",
          "text": [
            "              precision    recall  f1-score   support\n",
            "\n",
            "           0       0.00      0.00      0.00         1\n",
            "           1       0.00      0.00      0.00        16\n",
            "           2       0.80      1.00      0.89        69\n",
            "\n",
            "    accuracy                           0.80        86\n",
            "   macro avg       0.27      0.33      0.30        86\n",
            "weighted avg       0.64      0.80      0.71        86\n",
            "\n"
          ]
        },
        {
          "output_type": "stream",
          "name": "stderr",
          "text": [
            "/usr/local/lib/python3.10/dist-packages/sklearn/metrics/_classification.py:1344: UndefinedMetricWarning: Precision and F-score are ill-defined and being set to 0.0 in labels with no predicted samples. Use `zero_division` parameter to control this behavior.\n",
            "  _warn_prf(average, modifier, msg_start, len(result))\n",
            "/usr/local/lib/python3.10/dist-packages/sklearn/metrics/_classification.py:1344: UndefinedMetricWarning: Precision and F-score are ill-defined and being set to 0.0 in labels with no predicted samples. Use `zero_division` parameter to control this behavior.\n",
            "  _warn_prf(average, modifier, msg_start, len(result))\n",
            "/usr/local/lib/python3.10/dist-packages/sklearn/metrics/_classification.py:1344: UndefinedMetricWarning: Precision and F-score are ill-defined and being set to 0.0 in labels with no predicted samples. Use `zero_division` parameter to control this behavior.\n",
            "  _warn_prf(average, modifier, msg_start, len(result))\n"
          ]
        }
      ]
    },
    {
      "cell_type": "markdown",
      "source": [
        "# TF-IDF"
      ],
      "metadata": {
        "id": "R1rWLm0vxK2C"
      }
    },
    {
      "cell_type": "code",
      "source": [
        "from sklearn.model_selection import train_test_split\n",
        "X_train, X_test, y_train, y_test = train_test_split(email_data[\"input\"].values, email_data[\"Solving a communicative task\"].values, test_size=0.2, random_state=42, stratify=y)"
      ],
      "metadata": {
        "id": "Z161dIAqyBFf"
      },
      "execution_count": 87,
      "outputs": []
    },
    {
      "cell_type": "code",
      "source": [
        "from sklearn.feature_extraction.text import TfidfVectorizer\n",
        "\n",
        "tfidf = TfidfVectorizer(min_df=5, max_df=1.0, ngram_range=(1, 1))\n",
        "tfidf.fit(X_train)"
      ],
      "metadata": {
        "colab": {
          "base_uri": "https://localhost:8080/",
          "height": 75
        },
        "id": "qBVjAgssxQDs",
        "outputId": "afbfd3d0-f989-47af-fd3f-9a25c9649372"
      },
      "execution_count": 88,
      "outputs": [
        {
          "output_type": "execute_result",
          "data": {
            "text/plain": [
              "TfidfVectorizer(min_df=5)"
            ],
            "text/html": [
              "<style>#sk-container-id-2 {color: black;background-color: white;}#sk-container-id-2 pre{padding: 0;}#sk-container-id-2 div.sk-toggleable {background-color: white;}#sk-container-id-2 label.sk-toggleable__label {cursor: pointer;display: block;width: 100%;margin-bottom: 0;padding: 0.3em;box-sizing: border-box;text-align: center;}#sk-container-id-2 label.sk-toggleable__label-arrow:before {content: \"▸\";float: left;margin-right: 0.25em;color: #696969;}#sk-container-id-2 label.sk-toggleable__label-arrow:hover:before {color: black;}#sk-container-id-2 div.sk-estimator:hover label.sk-toggleable__label-arrow:before {color: black;}#sk-container-id-2 div.sk-toggleable__content {max-height: 0;max-width: 0;overflow: hidden;text-align: left;background-color: #f0f8ff;}#sk-container-id-2 div.sk-toggleable__content pre {margin: 0.2em;color: black;border-radius: 0.25em;background-color: #f0f8ff;}#sk-container-id-2 input.sk-toggleable__control:checked~div.sk-toggleable__content {max-height: 200px;max-width: 100%;overflow: auto;}#sk-container-id-2 input.sk-toggleable__control:checked~label.sk-toggleable__label-arrow:before {content: \"▾\";}#sk-container-id-2 div.sk-estimator input.sk-toggleable__control:checked~label.sk-toggleable__label {background-color: #d4ebff;}#sk-container-id-2 div.sk-label input.sk-toggleable__control:checked~label.sk-toggleable__label {background-color: #d4ebff;}#sk-container-id-2 input.sk-hidden--visually {border: 0;clip: rect(1px 1px 1px 1px);clip: rect(1px, 1px, 1px, 1px);height: 1px;margin: -1px;overflow: hidden;padding: 0;position: absolute;width: 1px;}#sk-container-id-2 div.sk-estimator {font-family: monospace;background-color: #f0f8ff;border: 1px dotted black;border-radius: 0.25em;box-sizing: border-box;margin-bottom: 0.5em;}#sk-container-id-2 div.sk-estimator:hover {background-color: #d4ebff;}#sk-container-id-2 div.sk-parallel-item::after {content: \"\";width: 100%;border-bottom: 1px solid gray;flex-grow: 1;}#sk-container-id-2 div.sk-label:hover label.sk-toggleable__label {background-color: #d4ebff;}#sk-container-id-2 div.sk-serial::before {content: \"\";position: absolute;border-left: 1px solid gray;box-sizing: border-box;top: 0;bottom: 0;left: 50%;z-index: 0;}#sk-container-id-2 div.sk-serial {display: flex;flex-direction: column;align-items: center;background-color: white;padding-right: 0.2em;padding-left: 0.2em;position: relative;}#sk-container-id-2 div.sk-item {position: relative;z-index: 1;}#sk-container-id-2 div.sk-parallel {display: flex;align-items: stretch;justify-content: center;background-color: white;position: relative;}#sk-container-id-2 div.sk-item::before, #sk-container-id-2 div.sk-parallel-item::before {content: \"\";position: absolute;border-left: 1px solid gray;box-sizing: border-box;top: 0;bottom: 0;left: 50%;z-index: -1;}#sk-container-id-2 div.sk-parallel-item {display: flex;flex-direction: column;z-index: 1;position: relative;background-color: white;}#sk-container-id-2 div.sk-parallel-item:first-child::after {align-self: flex-end;width: 50%;}#sk-container-id-2 div.sk-parallel-item:last-child::after {align-self: flex-start;width: 50%;}#sk-container-id-2 div.sk-parallel-item:only-child::after {width: 0;}#sk-container-id-2 div.sk-dashed-wrapped {border: 1px dashed gray;margin: 0 0.4em 0.5em 0.4em;box-sizing: border-box;padding-bottom: 0.4em;background-color: white;}#sk-container-id-2 div.sk-label label {font-family: monospace;font-weight: bold;display: inline-block;line-height: 1.2em;}#sk-container-id-2 div.sk-label-container {text-align: center;}#sk-container-id-2 div.sk-container {/* jupyter's `normalize.less` sets `[hidden] { display: none; }` but bootstrap.min.css set `[hidden] { display: none !important; }` so we also need the `!important` here to be able to override the default hidden behavior on the sphinx rendered scikit-learn.org. See: https://github.com/scikit-learn/scikit-learn/issues/21755 */display: inline-block !important;position: relative;}#sk-container-id-2 div.sk-text-repr-fallback {display: none;}</style><div id=\"sk-container-id-2\" class=\"sk-top-container\"><div class=\"sk-text-repr-fallback\"><pre>TfidfVectorizer(min_df=5)</pre><b>In a Jupyter environment, please rerun this cell to show the HTML representation or trust the notebook. <br />On GitHub, the HTML representation is unable to render, please try loading this page with nbviewer.org.</b></div><div class=\"sk-container\" hidden><div class=\"sk-item\"><div class=\"sk-estimator sk-toggleable\"><input class=\"sk-toggleable__control sk-hidden--visually\" id=\"sk-estimator-id-2\" type=\"checkbox\" checked><label for=\"sk-estimator-id-2\" class=\"sk-toggleable__label sk-toggleable__label-arrow\">TfidfVectorizer</label><div class=\"sk-toggleable__content\"><pre>TfidfVectorizer(min_df=5)</pre></div></div></div></div></div>"
            ]
          },
          "metadata": {},
          "execution_count": 88
        }
      ]
    },
    {
      "cell_type": "code",
      "source": [
        "X_train = tfidf.transform(X_train)\n",
        "X_test = tfidf.transform(X_test)\n",
        "\n",
        "X_train.shape, X_test.shape"
      ],
      "metadata": {
        "colab": {
          "base_uri": "https://localhost:8080/"
        },
        "id": "8Z1-QOwoyZKr",
        "outputId": "175c0b21-5370-4712-ff61-e349883db9fe"
      },
      "execution_count": 89,
      "outputs": [
        {
          "output_type": "execute_result",
          "data": {
            "text/plain": [
              "((342, 844), (86, 844))"
            ]
          },
          "metadata": {},
          "execution_count": 89
        }
      ]
    },
    {
      "cell_type": "markdown",
      "source": [
        "# Линейная регрессия"
      ],
      "metadata": {
        "id": "p1sEW18hylEW"
      }
    },
    {
      "cell_type": "code",
      "source": [
        "# линейная регрессия\n",
        "from sklearn.linear_model import LinearRegression\n",
        "from sklearn.metrics import mean_squared_error\n",
        "\n",
        "model = LinearRegression()\n",
        "model.fit(X_train, y_train)\n",
        "\n",
        "y_pred = model.predict(X_test)\n",
        "mse = mean_squared_error(y_test, y_pred)\n",
        "print(f\"RMSE: {np.sqrt(mse)}\")\n",
        "r_1 = np.corrcoef(y_test, y_pred)[0, 1] # коэффициент корреляции Пирсона для модели 1\n",
        "rho_1 = scipy.stats.spearmanr(y_test, y_pred)[0] # коэффициент корреляции Спирмена для модели 1\n",
        "print(\"r = {:.3f}, rho = {:.3f}\".format(r_1, rho_1))"
      ],
      "metadata": {
        "colab": {
          "base_uri": "https://localhost:8080/"
        },
        "outputId": "c68e50e0-4821-4b57-de88-b372f2a33e58",
        "id": "mQp6MBgcylEW"
      },
      "execution_count": 67,
      "outputs": [
        {
          "output_type": "stream",
          "name": "stdout",
          "text": [
            "RMSE: 0.5694739835599835\n",
            "r = 0.169, rho = 0.099\n"
          ]
        }
      ]
    },
    {
      "cell_type": "code",
      "source": [
        "y_pred_int = np.where(y_pred < 2, y_pred, 2)\n",
        "y_pred_int = np.where(y_pred_int > 0, y_pred_int, 0)\n",
        "y_pred_int = np.round(y_pred_int)\n",
        "display_confusion_matrix(y_test, y_pred_int, \"Linear Regression\")"
      ],
      "metadata": {
        "colab": {
          "base_uri": "https://localhost:8080/",
          "height": 489
        },
        "outputId": "2bba8d0c-d650-48ad-b364-f543c59cf74b",
        "id": "NZUpZD4QylEW"
      },
      "execution_count": 68,
      "outputs": [
        {
          "output_type": "display_data",
          "data": {
            "text/plain": [
              "<Figure size 800x800 with 0 Axes>"
            ]
          },
          "metadata": {}
        },
        {
          "output_type": "display_data",
          "data": {
            "text/plain": [
              "<Figure size 640x480 with 2 Axes>"
            ],
            "image/png": "[encoded data removed]"
          },
          "metadata": {}
        }
      ]
    },
    {
      "cell_type": "code",
      "source": [
        "from sklearn.metrics import classification_report\n",
        "print(classification_report(y_test.astype(int), y_pred_int))"
      ],
      "metadata": {
        "colab": {
          "base_uri": "https://localhost:8080/"
        },
        "outputId": "72341d2e-5a1f-4045-e078-a9e76edac972",
        "id": "OdQmmxh9ylEX"
      },
      "execution_count": 69,
      "outputs": [
        {
          "output_type": "stream",
          "name": "stdout",
          "text": [
            "              precision    recall  f1-score   support\n",
            "\n",
            "           0       0.00      0.00      0.00         1\n",
            "           1       0.21      0.25      0.23        16\n",
            "           2       0.82      0.80      0.81        69\n",
            "\n",
            "    accuracy                           0.69        86\n",
            "   macro avg       0.34      0.35      0.35        86\n",
            "weighted avg       0.70      0.69      0.69        86\n",
            "\n"
          ]
        },
        {
          "output_type": "stream",
          "name": "stderr",
          "text": [
            "/usr/local/lib/python3.10/dist-packages/sklearn/metrics/_classification.py:1344: UndefinedMetricWarning: Precision and F-score are ill-defined and being set to 0.0 in labels with no predicted samples. Use `zero_division` parameter to control this behavior.\n",
            "  _warn_prf(average, modifier, msg_start, len(result))\n",
            "/usr/local/lib/python3.10/dist-packages/sklearn/metrics/_classification.py:1344: UndefinedMetricWarning: Precision and F-score are ill-defined and being set to 0.0 in labels with no predicted samples. Use `zero_division` parameter to control this behavior.\n",
            "  _warn_prf(average, modifier, msg_start, len(result))\n",
            "/usr/local/lib/python3.10/dist-packages/sklearn/metrics/_classification.py:1344: UndefinedMetricWarning: Precision and F-score are ill-defined and being set to 0.0 in labels with no predicted samples. Use `zero_division` parameter to control this behavior.\n",
            "  _warn_prf(average, modifier, msg_start, len(result))\n"
          ]
        }
      ]
    },
    {
      "cell_type": "markdown",
      "source": [
        "# DecisionTree"
      ],
      "metadata": {
        "id": "3v96RScwy1W7"
      }
    },
    {
      "cell_type": "code",
      "source": [
        "from sklearn.tree import DecisionTreeRegressor\n",
        "\n",
        "model = DecisionTreeRegressor()\n",
        "model.fit(X_train, y_train)\n",
        "\n",
        "# Предсказание на тестовой выборке и вычисление ошибки\n",
        "y_pred = model.predict(X_test)\n",
        "mse = mean_squared_error(y_test, y_pred, squared=False)\n",
        "print(f\"RMSE: {mse}\")"
      ],
      "metadata": {
        "colab": {
          "base_uri": "https://localhost:8080/"
        },
        "outputId": "4e27f201-3614-405f-9089-2b3fffa26d2a",
        "id": "k5JDg28Jy1W8"
      },
      "execution_count": 70,
      "outputs": [
        {
          "output_type": "stream",
          "name": "stdout",
          "text": [
            "RMSE: 0.5906244232186183\n"
          ]
        }
      ]
    },
    {
      "cell_type": "code",
      "source": [
        "y_pred_int = np.where(y_pred < 2, y_pred, 2)\n",
        "y_pred_int = np.where(y_pred_int > 0, y_pred_int, 0)\n",
        "y_pred_int = np.round(y_pred_int)\n",
        "display_confusion_matrix(y_test, y_pred_int, \"DecisionTree\")"
      ],
      "metadata": {
        "colab": {
          "base_uri": "https://localhost:8080/",
          "height": 489
        },
        "outputId": "71146294-faf9-4110-b727-81ec29149d4e",
        "id": "gxhgj8nyy1W9"
      },
      "execution_count": 71,
      "outputs": [
        {
          "output_type": "display_data",
          "data": {
            "text/plain": [
              "<Figure size 800x800 with 0 Axes>"
            ]
          },
          "metadata": {}
        },
        {
          "output_type": "display_data",
          "data": {
            "text/plain": [
              "<Figure size 640x480 with 2 Axes>"
            ],
            "image/png": "[encoded data removed]"
          },
          "metadata": {}
        }
      ]
    },
    {
      "cell_type": "code",
      "source": [
        "from sklearn.metrics import classification_report\n",
        "print(classification_report(y_test.astype(int), y_pred_int))"
      ],
      "metadata": {
        "colab": {
          "base_uri": "https://localhost:8080/"
        },
        "outputId": "b9aa559d-3e0c-4f28-8b10-8dd17623548f",
        "id": "ptjmAdHny1W9"
      },
      "execution_count": 72,
      "outputs": [
        {
          "output_type": "stream",
          "name": "stdout",
          "text": [
            "              precision    recall  f1-score   support\n",
            "\n",
            "           0       0.00      0.00      0.00         1\n",
            "           1       0.25      0.31      0.28        16\n",
            "           2       0.82      0.78      0.80        69\n",
            "\n",
            "    accuracy                           0.69        86\n",
            "   macro avg       0.36      0.37      0.36        86\n",
            "weighted avg       0.70      0.69      0.69        86\n",
            "\n"
          ]
        },
        {
          "output_type": "stream",
          "name": "stderr",
          "text": [
            "/usr/local/lib/python3.10/dist-packages/sklearn/metrics/_classification.py:1344: UndefinedMetricWarning: Precision and F-score are ill-defined and being set to 0.0 in labels with no predicted samples. Use `zero_division` parameter to control this behavior.\n",
            "  _warn_prf(average, modifier, msg_start, len(result))\n",
            "/usr/local/lib/python3.10/dist-packages/sklearn/metrics/_classification.py:1344: UndefinedMetricWarning: Precision and F-score are ill-defined and being set to 0.0 in labels with no predicted samples. Use `zero_division` parameter to control this behavior.\n",
            "  _warn_prf(average, modifier, msg_start, len(result))\n",
            "/usr/local/lib/python3.10/dist-packages/sklearn/metrics/_classification.py:1344: UndefinedMetricWarning: Precision and F-score are ill-defined and being set to 0.0 in labels with no predicted samples. Use `zero_division` parameter to control this behavior.\n",
            "  _warn_prf(average, modifier, msg_start, len(result))\n"
          ]
        }
      ]
    },
    {
      "cell_type": "markdown",
      "source": [
        "# RandomForest"
      ],
      "metadata": {
        "id": "TzjRU9q_zEh2"
      }
    },
    {
      "cell_type": "code",
      "source": [
        "# Фильтруем лингвистические признаки с помощью алгоритма Random Forest\n",
        "from sklearn.ensemble import RandomForestRegressor\n",
        "\n",
        "rf = RandomForestRegressor(n_estimators=100, oob_score=True)\n",
        "rf.fit(X_train, y_train)\n",
        "\n",
        "y_pred = rf.predict(X_test)\n",
        "mse = mean_squared_error(y_test, y_pred)\n",
        "print(f\"RMSE: {np.sqrt(mse)}\")\n",
        "r_1 = np.corrcoef(y_test, y_pred)[0, 1] # коэффициент корреляции Пирсона для модели 1\n",
        "rho_1 = scipy.stats.spearmanr(y_test, y_pred)[0] # коэффициент корреляции Спирмена для модели 1\n",
        "print(\"r = {:.3f}, rho = {:.3f}\".format(r_1, rho_1))"
      ],
      "metadata": {
        "colab": {
          "base_uri": "https://localhost:8080/"
        },
        "outputId": "485c9929-4222-4246-f965-c7466fb23fd4",
        "id": "uSR5vbsGzEh5"
      },
      "execution_count": 73,
      "outputs": [
        {
          "output_type": "stream",
          "name": "stdout",
          "text": [
            "RMSE: 0.437071384728899\n",
            "r = 0.139, rho = 0.143\n"
          ]
        }
      ]
    },
    {
      "cell_type": "code",
      "source": [
        "y_pred_int = np.where(y_pred < 2, y_pred, 2)\n",
        "y_pred_int = np.where(y_pred_int > 0, y_pred_int, 0)\n",
        "y_pred_int = np.round(y_pred_int)\n",
        "display_confusion_matrix(y_test, y_pred_int, \"RandomForest\")"
      ],
      "metadata": {
        "colab": {
          "base_uri": "https://localhost:8080/",
          "height": 489
        },
        "outputId": "83965fee-0851-4272-b158-25b9448b6084",
        "id": "v5D43uDbzEh8"
      },
      "execution_count": 74,
      "outputs": [
        {
          "output_type": "display_data",
          "data": {
            "text/plain": [
              "<Figure size 800x800 with 0 Axes>"
            ]
          },
          "metadata": {}
        },
        {
          "output_type": "display_data",
          "data": {
            "text/plain": [
              "<Figure size 640x480 with 2 Axes>"
            ],
            "image/png": "[encoded data removed]"
          },
          "metadata": {}
        }
      ]
    },
    {
      "cell_type": "code",
      "source": [
        "from sklearn.metrics import classification_report\n",
        "print(classification_report(y_test.astype(int), y_pred_int))"
      ],
      "metadata": {
        "colab": {
          "base_uri": "https://localhost:8080/"
        },
        "outputId": "e9f062d4-452c-4c6a-a0d8-294d23b611ce",
        "id": "qclHGKDRzEh9"
      },
      "execution_count": 75,
      "outputs": [
        {
          "output_type": "stream",
          "name": "stdout",
          "text": [
            "              precision    recall  f1-score   support\n",
            "\n",
            "           0       0.00      0.00      0.00         1\n",
            "           1       1.00      0.06      0.12        16\n",
            "           2       0.81      1.00      0.90        69\n",
            "\n",
            "    accuracy                           0.81        86\n",
            "   macro avg       0.60      0.35      0.34        86\n",
            "weighted avg       0.84      0.81      0.74        86\n",
            "\n"
          ]
        },
        {
          "output_type": "stream",
          "name": "stderr",
          "text": [
            "/usr/local/lib/python3.10/dist-packages/sklearn/metrics/_classification.py:1344: UndefinedMetricWarning: Precision and F-score are ill-defined and being set to 0.0 in labels with no predicted samples. Use `zero_division` parameter to control this behavior.\n",
            "  _warn_prf(average, modifier, msg_start, len(result))\n",
            "/usr/local/lib/python3.10/dist-packages/sklearn/metrics/_classification.py:1344: UndefinedMetricWarning: Precision and F-score are ill-defined and being set to 0.0 in labels with no predicted samples. Use `zero_division` parameter to control this behavior.\n",
            "  _warn_prf(average, modifier, msg_start, len(result))\n",
            "/usr/local/lib/python3.10/dist-packages/sklearn/metrics/_classification.py:1344: UndefinedMetricWarning: Precision and F-score are ill-defined and being set to 0.0 in labels with no predicted samples. Use `zero_division` parameter to control this behavior.\n",
            "  _warn_prf(average, modifier, msg_start, len(result))\n"
          ]
        }
      ]
    },
    {
      "cell_type": "markdown",
      "source": [
        "# SVM"
      ],
      "metadata": {
        "id": "j7s3ykKqzdTn"
      }
    },
    {
      "cell_type": "code",
      "source": [
        "from sklearn import svm\n",
        "regr = svm.SVR()\n",
        "regr.fit(X_train, y_train)\n",
        "\n",
        "y_pred = regr.predict(X_test)\n",
        "mse = mean_squared_error(y_test, y_pred)\n",
        "print(f\"RMSE: {np.sqrt(mse)}\")\n",
        "r_1 = np.corrcoef(y_test, y_pred)[0, 1] # коэффициент корреляции Пирсона для модели 1\n",
        "rho_1 = scipy.stats.spearmanr(y_test, y_pred)[0] # коэффициент корреляции Спирмена для модели 1\n",
        "print(\"r = {:.3f}, rho = {:.3f}\".format(r_1, rho_1))"
      ],
      "metadata": {
        "colab": {
          "base_uri": "https://localhost:8080/"
        },
        "id": "wM8q0gjdzeez",
        "outputId": "fa8a50cb-2c12-44db-fc36-cd83b7d68d64"
      },
      "execution_count": 90,
      "outputs": [
        {
          "output_type": "stream",
          "name": "stdout",
          "text": [
            "RMSE: 0.4186648383041618\n",
            "r = 0.268, rho = 0.212\n"
          ]
        }
      ]
    },
    {
      "cell_type": "code",
      "source": [
        "y_pred_int = np.where(y_pred < 2, y_pred, 2)\n",
        "y_pred_int = np.where(y_pred_int > 0, y_pred_int, 0)\n",
        "y_pred_int = np.round(y_pred_int)\n",
        "display_confusion_matrix(y_test, y_pred_int, \"SVM\")"
      ],
      "metadata": {
        "colab": {
          "base_uri": "https://localhost:8080/",
          "height": 489
        },
        "id": "FQRGWAUazqjU",
        "outputId": "0bafcb2f-edf3-42d7-812a-0c223c7176e7"
      },
      "execution_count": 92,
      "outputs": [
        {
          "output_type": "display_data",
          "data": {
            "text/plain": [
              "<Figure size 800x800 with 0 Axes>"
            ]
          },
          "metadata": {}
        },
        {
          "output_type": "display_data",
          "data": {
            "text/plain": [
              "<Figure size 640x480 with 2 Axes>"
            ],
            "image/png": "[encoded data removed]"
          },
          "metadata": {}
        }
      ]
    },
    {
      "cell_type": "code",
      "source": [
        "from sklearn.metrics import classification_report\n",
        "print(classification_report(y_test.astype(int), y_pred_int))"
      ],
      "metadata": {
        "colab": {
          "base_uri": "https://localhost:8080/"
        },
        "id": "Upc2D2s8zstk",
        "outputId": "36381067-5a61-4a78-90c9-4d1a5219b859"
      },
      "execution_count": 78,
      "outputs": [
        {
          "output_type": "stream",
          "name": "stdout",
          "text": [
            "              precision    recall  f1-score   support\n",
            "\n",
            "           0       0.00      0.00      0.00         1\n",
            "           1       0.33      0.06      0.11        16\n",
            "           2       0.81      0.97      0.88        69\n",
            "\n",
            "    accuracy                           0.79        86\n",
            "   macro avg       0.38      0.34      0.33        86\n",
            "weighted avg       0.71      0.79      0.73        86\n",
            "\n"
          ]
        },
        {
          "output_type": "stream",
          "name": "stderr",
          "text": [
            "/usr/local/lib/python3.10/dist-packages/sklearn/metrics/_classification.py:1344: UndefinedMetricWarning: Precision and F-score are ill-defined and being set to 0.0 in labels with no predicted samples. Use `zero_division` parameter to control this behavior.\n",
            "  _warn_prf(average, modifier, msg_start, len(result))\n",
            "/usr/local/lib/python3.10/dist-packages/sklearn/metrics/_classification.py:1344: UndefinedMetricWarning: Precision and F-score are ill-defined and being set to 0.0 in labels with no predicted samples. Use `zero_division` parameter to control this behavior.\n",
            "  _warn_prf(average, modifier, msg_start, len(result))\n",
            "/usr/local/lib/python3.10/dist-packages/sklearn/metrics/_classification.py:1344: UndefinedMetricWarning: Precision and F-score are ill-defined and being set to 0.0 in labels with no predicted samples. Use `zero_division` parameter to control this behavior.\n",
            "  _warn_prf(average, modifier, msg_start, len(result))\n"
          ]
        }
      ]
    }
  ]
}