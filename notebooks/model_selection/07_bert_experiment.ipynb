{
 "cells": [
  {
   "cell_type": "markdown",
   "metadata": {},
   "source": [
    "# Импорт библиотек"
   ]
  },
  {
   "cell_type": "code",
   "execution_count": 20,
   "metadata": {},
   "outputs": [],
   "source": [
    "# %load_ext autoreload\n",
    "# %autoreload 2"
   ]
  },
  {
   "cell_type": "code",
   "execution_count": 1,
   "metadata": {},
   "outputs": [
    {
     "name": "stderr",
     "output_type": "stream",
     "text": [
      "e:\\projects\\AutoGrade-ENG-Writing\\.venv\\lib\\site-packages\\tqdm\\auto.py:21: TqdmWarning: IProgress not found. Please update jupyter and ipywidgets. See https://ipywidgets.readthedocs.io/en/stable/user_install.html\n",
      "  from .autonotebook import tqdm as notebook_tqdm\n"
     ]
    }
   ],
   "source": [
    "import torch\n",
    "import pandas as pd\n",
    "import numpy as np\n",
    "from pathlib import Path\n",
    "\n",
    "from transformers import BertTokenizer\n",
    "from torch.optim import AdamW\n",
    "\n",
    "from sklearn.metrics import cohen_kappa_score\n",
    "\n",
    "from src.models.bert import BERTFinetune, BERTDataset\n",
    "from src.models.wrapper import ScoreRegressor\n",
    "from src.models.visualization import plot_bert_architecture\n"
   ]
  },
  {
   "cell_type": "markdown",
   "metadata": {},
   "source": [
    "## Константы"
   ]
  },
  {
   "cell_type": "code",
   "execution_count": 2,
   "metadata": {},
   "outputs": [],
   "source": [
    "BASE_DIR = Path(r\"E:\\projects\\AutoGrade-ENG-Writing\")\n",
    "\n",
    "TEXT = \"Text\"\n",
    "TARGET = \"Solving a communicative task\""
   ]
  },
  {
   "cell_type": "markdown",
   "metadata": {},
   "source": [
    "# Загрузка данных"
   ]
  },
  {
   "cell_type": "code",
   "execution_count": 3,
   "metadata": {},
   "outputs": [],
   "source": [
    "train_data = pd.read_excel(BASE_DIR.joinpath(\"email_train_data_neznaika.xlsx\"), index_col=0)\n",
    "test_data = pd.read_excel(BASE_DIR.joinpath(\"email_test_data_neznaika.xlsx\"), index_col=0)"
   ]
  },
  {
   "cell_type": "markdown",
   "metadata": {},
   "source": [
    "# Инициализация модели"
   ]
  },
  {
   "cell_type": "code",
   "execution_count": 4,
   "metadata": {},
   "outputs": [],
   "source": [
    "class CFG:\n",
    "    model_name = \"bert-base-uncased\"  # Model name for reference\n",
    "    learning_rate = 0.000016 # Learning rate\n",
    "    epsilon = 1e-6\n",
    "    weight_decay = 0.03  # Weight decay (L2 regularization)\n",
    "    hidden_dropout_prob = 0.007  # Dropout probability for hidden layers\n",
    "    attention_probs_dropout_prob = 0.007  # Dropout probability for attention layers\n",
    "    num_train_epochs = 1  # Number of training epochs\n",
    "    n_splits = 4  # Number of splits for cross-validation\n",
    "    batch_size = 16  # Batch size for training data\n",
    "    random_seed = 42  # Random seed for reproducibility\n",
    "    save_steps = 50  # Number of steps before saving model checkpoints\n",
    "    max_length = 100  # Maximum sequence length for input data\n",
    "    runs_folder = \"data/runs/\""
   ]
  },
  {
   "cell_type": "code",
   "execution_count": 5,
   "metadata": {},
   "outputs": [],
   "source": [
    "def cohence_kappa_metric(labels: torch.tensor, predictions: torch.tensor) -> float:\n",
    "    if torch.is_tensor(labels):\n",
    "        labels = labels.numpy()\n",
    "    if torch.is_tensor(predictions):\n",
    "        predictions = predictions.numpy()\n",
    "    labels = np.round(labels).astype(int)\n",
    "    predictions = np.round(predictions).astype(int)\n",
    "    return cohen_kappa_score(labels, predictions)"
   ]
  },
  {
   "cell_type": "code",
   "execution_count": 9,
   "metadata": {},
   "outputs": [
    {
     "name": "stdout",
     "output_type": "stream",
     "text": [
      "Using device: cpu\n"
     ]
    }
   ],
   "source": [
    "bert_model = BERTFinetune()\n",
    "bert_optimizer = AdamW(bert_model.parameters(), lr=CFG.learning_rate, eps=CFG.epsilon)\n",
    "bert_tokenizer = BertTokenizer.from_pretrained(bert_model.model_name)\n",
    "\n",
    "train_dataset = BERTDataset(input=train_data[TEXT].to_list(), labels=train_data[TARGET].to_list(), tokenizer=bert_tokenizer, max_length=CFG.max_length)\n",
    "test_dataset = BERTDataset(input=test_data[TEXT].to_list(), labels=test_data[TARGET].to_list(), tokenizer=bert_tokenizer)\n",
    "\n",
    "regressor = ScoreRegressor(\n",
    "    model=bert_model,\n",
    "    optimizer=bert_optimizer,\n",
    "    train_dataset=train_dataset,\n",
    "    test_dataset=test_dataset,\n",
    "    metric_function=cohence_kappa_metric,\n",
    "    runs_folder=BASE_DIR.joinpath(CFG.runs_folder),\n",
    "    epochs=CFG.num_train_epochs\n",
    ")"
   ]
  },
  {
   "cell_type": "code",
   "execution_count": 7,
   "metadata": {},
   "outputs": [
    {
     "name": "stdout",
     "output_type": "stream",
     "text": [
      "Start training...\n",
      "\n",
      " Epoch  |  Batch  |  Train Loss |  Val Loss  |  Elapsed \n",
      "------------------------------------------------------------------------------------------------------------------------------------------------------\n",
      "   1    |   20    |   0.398071   |     -      |     -      |     -      |     -      |  104.95  \n",
      "   1    |   40    |   0.401158   |     -      |     -      |     -      |     -      |   98.59  \n",
      "   1    |   60    |   0.351425   |     -      |     -      |     -      |     -      |   98.53  \n",
      "   1    |   80    |   0.354865   |     -      |     -      |     -      |     -      |   99.18  \n",
      "   1    |   100   |   0.317263   |     -      |     -      |     -      |     -      |   98.94  \n",
      "   1    |   101   |   0.430567   |     -      |     -      |     -      |     -      |   4.96   \n",
      "------------------------------------------------------------------------------------------------------------------------------------------------------\n",
      "Evaluation Metric:  0.0\n",
      "Saving best model to E:\\projects\\AutoGrade-ENG-Writing\\data\\runs\\bert-base-uncased\\run_2024-06-23T00-36-23\\best.pt\n",
      " Epoch  |  Batch  |  Train Loss  | Test Loss  |  Elapsed \n",
      "------------------------------------------------------------------------------------------------------------------------------------------------------\n",
      "   1    |    -    |   0.365532   |  0.804748  |  556.06  \n",
      "------------------------------------------------------------------------------------------------------------------------------------------------------\n",
      "\n",
      "\n",
      "Training complete!\n",
      "Saving last model to E:\\projects\\AutoGrade-ENG-Writing\\data\\runs\\bert-base-uncased\\run_2024-06-23T00-36-23\\last.pt\n"
     ]
    },
    {
     "data": {
      "text/html": [
       "<div>\n",
       "<style scoped>\n",
       "    .dataframe tbody tr th:only-of-type {\n",
       "        vertical-align: middle;\n",
       "    }\n",
       "\n",
       "    .dataframe tbody tr th {\n",
       "        vertical-align: top;\n",
       "    }\n",
       "\n",
       "    .dataframe thead th {\n",
       "        text-align: right;\n",
       "    }\n",
       "</style>\n",
       "<table border=\"1\" class=\"dataframe\">\n",
       "  <thead>\n",
       "    <tr style=\"text-align: right;\">\n",
       "      <th></th>\n",
       "      <th>train_loss</th>\n",
       "      <th>test_loss</th>\n",
       "    </tr>\n",
       "  </thead>\n",
       "  <tbody>\n",
       "    <tr>\n",
       "      <th>0</th>\n",
       "      <td>0.365532</td>\n",
       "      <td>0.804748</td>\n",
       "    </tr>\n",
       "  </tbody>\n",
       "</table>\n",
       "</div>"
      ],
      "text/plain": [
       "   train_loss  test_loss\n",
       "0    0.365532   0.804748"
      ]
     },
     "execution_count": 7,
     "metadata": {},
     "output_type": "execute_result"
    }
   ],
   "source": [
    "train_results = regressor.train()"
   ]
  }
 ],
 "metadata": {
  "kernelspec": {
   "display_name": ".venv",
   "language": "python",
   "name": "python3"
  },
  "language_info": {
   "codemirror_mode": {
    "name": "ipython",
    "version": 3
   },
   "file_extension": ".py",
   "mimetype": "text/x-python",
   "name": "python",
   "nbconvert_exporter": "python",
   "pygments_lexer": "ipython3",
   "version": "3.9.12"
  }
 },
 "nbformat": 4,
 "nbformat_minor": 2
}
